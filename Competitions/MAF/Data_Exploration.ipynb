{
 "cells": [
  {
   "cell_type": "code",
   "execution_count": 2,
   "metadata": {},
   "outputs": [],
   "source": [
    "import pandas as pd\n",
    "import numpy as np\n",
    "from matplotlib import pyplot as plt\n",
    "import os\n",
    "import time\n",
    "from imp import reload"
   ]
  },
  {
   "cell_type": "code",
   "execution_count": 3,
   "metadata": {},
   "outputs": [],
   "source": [
    "%matplotlib notebook\n",
    "plt.style.use('bmh')"
   ]
  },
  {
   "cell_type": "code",
   "execution_count": 4,
   "metadata": {},
   "outputs": [],
   "source": [
    "data = pd.read_csv('Data.csv')"
   ]
  },
  {
   "cell_type": "code",
   "execution_count": 5,
   "metadata": {},
   "outputs": [],
   "source": [
    "data.set_index('visitor_id', inplace = True)"
   ]
  },
  {
   "cell_type": "code",
   "execution_count": null,
   "metadata": {},
   "outputs": [],
   "source": [
    "data.columns"
   ]
  },
  {
   "cell_type": "code",
   "execution_count": 6,
   "metadata": {},
   "outputs": [],
   "source": [
    "data[\"visits_int_arr\"] = data['visits'].apply(lambda row : np.array([int(x) for x in row.split(' ')]))"
   ]
  },
  {
   "cell_type": "code",
   "execution_count": null,
   "metadata": {},
   "outputs": [],
   "source": [
    "data['visits_week'] = data['visits_int_arr'].apply(lambda row : np.where((row%7) == 0, row//7,row//7 + 1 ))"
   ]
  },
  {
   "cell_type": "code",
   "execution_count": null,
   "metadata": {},
   "outputs": [],
   "source": [
    "# no. of visits per person\n",
    "data['visit_count'] = data['visits_int_arr'].apply(lambda x : len(x))"
   ]
  },
  {
   "cell_type": "code",
   "execution_count": null,
   "metadata": {},
   "outputs": [],
   "source": [
    "# first day and last day of visit \n",
    "data['first_day'] = data['visits_int_arr'].apply(lambda x : np.min(x))\n",
    "data['last_day'] = data['visits_int_arr'].apply(lambda x : np.max(x))"
   ]
  },
  {
   "cell_type": "code",
   "execution_count": null,
   "metadata": {},
   "outputs": [],
   "source": [
    "data.head()"
   ]
  },
  {
   "cell_type": "code",
   "execution_count": null,
   "metadata": {},
   "outputs": [],
   "source": [
    "data.loc[data['last_day'] == 910, :].head()"
   ]
  },
  {
   "cell_type": "markdown",
   "metadata": {},
   "source": [
    "#### EDA"
   ]
  },
  {
   "cell_type": "markdown",
   "metadata": {},
   "source": [
    "#### 1. Distribution of days of visits"
   ]
  },
  {
   "cell_type": "code",
   "execution_count": null,
   "metadata": {},
   "outputs": [],
   "source": [
    "plt.title('Freq distribution of number of days of visit')\n",
    "plt.hist(data['visit_count'], bins = 50);"
   ]
  },
  {
   "cell_type": "markdown",
   "metadata": {},
   "source": [
    "#### 2. How does count of people going to mall vary over days \n",
    "- Days 1 to 7 are most likely Sunday to Saturday, days 1 to 7 get below % traffic (out of 290,000)  \n",
    "1      9.561379   \n",
    "2      7.049310   \n",
    "3      7.880345   \n",
    "4      8.465517   \n",
    "5      9.981379   \n",
    "6     15.895517   \n",
    "7     17.248966  \n",
    "- **Means F1 score of final week will give weightage proprtional to these percentages**"
   ]
  },
  {
   "cell_type": "code",
   "execution_count": null,
   "metadata": {},
   "outputs": [],
   "source": [
    "day_wise_cnt = pd.Series(data = [0]*910, index = np.arange(1,911,1))"
   ]
  },
  {
   "cell_type": "code",
   "execution_count": null,
   "metadata": {},
   "outputs": [],
   "source": [
    "day_wise_cnt.tail()"
   ]
  },
  {
   "cell_type": "code",
   "execution_count": null,
   "metadata": {},
   "outputs": [],
   "source": [
    "data.tail()"
   ]
  },
  {
   "cell_type": "code",
   "execution_count": null,
   "metadata": {},
   "outputs": [],
   "source": [
    "def get_full_vector(row):\n",
    "    ser = pd.Series(data = [0]*910, index = np.arange(1,911,1))\n",
    "    ser[row] +=1\n",
    "    #print('done')\n",
    "    return ser"
   ]
  },
  {
   "cell_type": "code",
   "execution_count": null,
   "metadata": {},
   "outputs": [],
   "source": [
    "data_dense = data.loc[:,'visits_int_arr'].apply(func = get_full_vector)"
   ]
  },
  {
   "cell_type": "code",
   "execution_count": null,
   "metadata": {},
   "outputs": [],
   "source": [
    "by_day_count = data_dense.apply(np.sum, axis = 0)"
   ]
  },
  {
   "cell_type": "code",
   "execution_count": null,
   "metadata": {},
   "outputs": [],
   "source": [
    "by_day_pct = (by_day_count/290000)*100"
   ]
  },
  {
   "cell_type": "code",
   "execution_count": null,
   "metadata": {},
   "outputs": [],
   "source": [
    "plt.figure()\n",
    "#plt.plot(by_day_pct.index.values, by_day_pct.values, 'bo-')\n",
    "plt.plot(by_day_count[:28], 'bo-')\n",
    "plt.title('Plot of total visitors in first four weeks - shows seasonality at weely level', fontsize = 'small')"
   ]
  },
  {
   "cell_type": "code",
   "execution_count": null,
   "metadata": {},
   "outputs": [],
   "source": [
    "plt.figure()\n",
    "#plt.plot(by_day_pct.index.values, by_day_pct.values, 'bo-')\n",
    "plt.plot(by_day_pct[:28], 'bo-')\n",
    "plt.title('Plot of total visitors in first four weeks - shows seasonality at weely level', fontsize = 'small')"
   ]
  },
  {
   "cell_type": "code",
   "execution_count": null,
   "metadata": {},
   "outputs": [],
   "source": [
    "by_day_pct[0:28]"
   ]
  },
  {
   "cell_type": "code",
   "execution_count": null,
   "metadata": {},
   "outputs": [],
   "source": [
    "#### plot with 6 month period\n",
    "plt.figure()\n",
    "plt.plot(by_day_pct[:184], 'bo-')\n",
    "#plt.subplot(3,1,2)\n",
    "#plt.plot(by_day_pct[365:730], 'bo-')\n",
    "#plt.subplot(3,1,3)\n",
    "#plt.plot(by_day_pct[730:], 'bo-')"
   ]
  },
  {
   "cell_type": "code",
   "execution_count": null,
   "metadata": {},
   "outputs": [],
   "source": [
    "plt.figure()\n",
    "plt.plot(by_day_pct[184:365], 'bo-')"
   ]
  },
  {
   "cell_type": "code",
   "execution_count": null,
   "metadata": {},
   "outputs": [],
   "source": [
    "plt.figure()\n",
    "plt.plot(by_day_pct[365:549], 'bo-')"
   ]
  },
  {
   "cell_type": "code",
   "execution_count": null,
   "metadata": {},
   "outputs": [],
   "source": [
    "plt.figure()\n",
    "plt.plot(by_day_pct[549:733], 'bo-')"
   ]
  },
  {
   "cell_type": "code",
   "execution_count": null,
   "metadata": {},
   "outputs": [],
   "source": [
    "plt.figure()\n",
    "plt.plot(by_day_pct[733:], 'bo-')"
   ]
  },
  {
   "cell_type": "code",
   "execution_count": null,
   "metadata": {},
   "outputs": [],
   "source": [
    "data['visit_count'].unique()"
   ]
  },
  {
   "cell_type": "markdown",
   "metadata": {},
   "source": [
    "#### weekly pattern os visits"
   ]
  },
  {
   "cell_type": "code",
   "execution_count": null,
   "metadata": {},
   "outputs": [],
   "source": [
    "def get_full_weekly_matrix(row):\n",
    "    ser = pd.Series(data = [0]*130, index = np.arange(1,131,1))\n",
    "    ser[row] +=1\n",
    "    #print('done')\n",
    "    return ser"
   ]
  },
  {
   "cell_type": "code",
   "execution_count": null,
   "metadata": {},
   "outputs": [],
   "source": [
    "data_dense_weekly = data.loc[:,'visits_week'].apply(func = get_full_weekly_matrix)\n"
   ]
  },
  {
   "cell_type": "code",
   "execution_count": null,
   "metadata": {},
   "outputs": [],
   "source": [
    "by_week_count = data_dense_weekly.apply(np.sum, axis = 0)\n",
    "by_week_pct = (by_week_count/290000)*100"
   ]
  },
  {
   "cell_type": "code",
   "execution_count": null,
   "metadata": {},
   "outputs": [],
   "source": [
    "plt.figure()\n",
    "#plt.plot(by_day_pct.index.values, by_day_pct.values, 'bo-')\n",
    "plt.plot(by_week_count, 'bo-')\n",
    "plt.title('Plot of total visitors', fontsize = 'small')"
   ]
  },
  {
   "cell_type": "code",
   "execution_count": null,
   "metadata": {},
   "outputs": [],
   "source": [
    "plt.figure()\n",
    "#plt.plot(by_day_pct.index.values, by_day_pct.values, 'bo-')\n",
    "plt.plot(by_week_count[0:53], 'bo-')\n",
    "plt.title('Plot of total visitors in first 52 weeks ', fontsize = 'small')"
   ]
  },
  {
   "cell_type": "code",
   "execution_count": null,
   "metadata": {},
   "outputs": [],
   "source": [
    "plt.figure()\n",
    "#plt.plot(by_day_pct.index.values, by_day_pct.values, 'bo-')\n",
    "plt.plot(by_week_count[53:106], 'bo-')\n",
    "plt.title('Plot of total visitors in next 52 weeks', fontsize = 'small')"
   ]
  },
  {
   "cell_type": "code",
   "execution_count": null,
   "metadata": {},
   "outputs": [],
   "source": [
    "plt.figure()\n",
    "#plt.plot(by_day_pct.index.values, by_day_pct.values, 'bo-')\n",
    "plt.plot(by_week_count[106:], 'bo-')\n",
    "plt.title('Plot of total visitors in last 25 weeks', fontsize = 'small')"
   ]
  },
  {
   "cell_type": "markdown",
   "metadata": {},
   "source": [
    "#### time to first visit , and last visit from 910"
   ]
  },
  {
   "cell_type": "code",
   "execution_count": null,
   "metadata": {},
   "outputs": [],
   "source": [
    "plt.figure()\n",
    "plt.hist(data['first_day'], bins = 50);"
   ]
  },
  {
   "cell_type": "code",
   "execution_count": null,
   "metadata": {},
   "outputs": [],
   "source": [
    "plt.figure()\n",
    "plt.hist(data['last_day'], bins = 50);"
   ]
  },
  {
   "cell_type": "markdown",
   "metadata": {},
   "source": [
    "#### average time between visits"
   ]
  },
  {
   "cell_type": "code",
   "execution_count": null,
   "metadata": {},
   "outputs": [],
   "source": [
    "def avg_time_bw_visits(row):\n",
    "    tbv_total = 0\n",
    "    for i in range(len(row)-1):\n",
    "        tbv_total += row[i+1] - row[i]\n",
    "    return tbv_total/len(row)"
   ]
  },
  {
   "cell_type": "code",
   "execution_count": null,
   "metadata": {},
   "outputs": [],
   "source": [
    "data['avg_tbv'] = data.loc[:,'visits_int_arr'].apply(avg_time_bw_visits)"
   ]
  },
  {
   "cell_type": "code",
   "execution_count": null,
   "metadata": {},
   "outputs": [],
   "source": [
    "data.head()"
   ]
  },
  {
   "cell_type": "code",
   "execution_count": null,
   "metadata": {},
   "outputs": [],
   "source": [
    "plt.figure()\n",
    "plt.hist(data['avg_tbv'], bins = 100);\n",
    "plt.title('Distribution of avg tbv', fontsize = 'small')"
   ]
  },
  {
   "cell_type": "code",
   "execution_count": null,
   "metadata": {},
   "outputs": [],
   "source": [
    "data.head()"
   ]
  },
  {
   "cell_type": "code",
   "execution_count": null,
   "metadata": {},
   "outputs": [],
   "source": [
    "plt.figure()\n",
    "plt.scatter(data['visit_count'], data['avg_tbv'], alpha = 0.5, s = 10)\n",
    "plt.xlabel('visit_count')\n",
    "plt.ylabel('abg_tbv')"
   ]
  },
  {
   "cell_type": "markdown",
   "metadata": {},
   "source": [
    "#### week level features \n",
    "- weekly frequency \n",
    "  - avg, cut by start week, going by x weeks\n",
    "  - median\n",
    "- periodicity in weeks\n",
    "  - lag 1 to 5 averages\n",
    "- recency \n",
    "  - weeks since last visit \n",
    "  - counts by visits in each of last x weeks"
   ]
  },
  {
   "cell_type": "code",
   "execution_count": 8,
   "metadata": {},
   "outputs": [],
   "source": [
    "import data_prep as dp"
   ]
  },
  {
   "cell_type": "code",
   "execution_count": null,
   "metadata": {},
   "outputs": [],
   "source": [
    "reload(dp)"
   ]
  },
  {
   "cell_type": "code",
   "execution_count": null,
   "metadata": {},
   "outputs": [],
   "source": [
    "s = data.loc[0:5,'visits_week']\n",
    "s"
   ]
  },
  {
   "cell_type": "code",
   "execution_count": null,
   "metadata": {},
   "outputs": [],
   "source": [
    "kwargs ={\n",
    "    'aw' : 24,\n",
    "    'lb' :24\n",
    "}\n",
    "s.apply(dp.avg_wkly_visits, **kwargs)"
   ]
  },
  {
   "cell_type": "code",
   "execution_count": null,
   "metadata": {},
   "outputs": [],
   "source": [
    "kwargs ={\n",
    "    'aw' : 128,\n",
    "    'lb' :128\n",
    "}\n",
    "s.apply(dp.median_wkly_visits, **kwargs)"
   ]
  },
  {
   "cell_type": "code",
   "execution_count": null,
   "metadata": {},
   "outputs": [],
   "source": [
    "kwargs ={\n",
    "    'aw' : 128,\n",
    "    'lb' :128,\n",
    "    'lag' : 10\n",
    "}\n",
    "s.apply(dp.avg_time_wks_bw_visits, **kwargs)"
   ]
  },
  {
   "cell_type": "code",
   "execution_count": null,
   "metadata": {},
   "outputs": [],
   "source": [
    "kwargs ={\n",
    "    'aw' : 128,\n",
    "    'lb' :128,\n",
    "    'lag' : 5\n",
    "}\n",
    "s.apply(dp.median_time_wks_bw_visits, **kwargs)"
   ]
  },
  {
   "cell_type": "code",
   "execution_count": null,
   "metadata": {},
   "outputs": [],
   "source": [
    "kwargs ={\n",
    "    'aw' : 66,\n",
    "    'xth_week' :0\n",
    "}\n",
    "s.apply(dp.count_visits_last_x_week, **kwargs)"
   ]
  },
  {
   "cell_type": "code",
   "execution_count": null,
   "metadata": {},
   "outputs": [],
   "source": [
    "s"
   ]
  },
  {
   "cell_type": "code",
   "execution_count": null,
   "metadata": {},
   "outputs": [],
   "source": [
    "kwargs ={\n",
    "    'aw' : 66\n",
    "}\n",
    "s.apply(dp.weeks_since_last_visit, **kwargs)"
   ]
  },
  {
   "cell_type": "markdown",
   "metadata": {},
   "source": [
    "#### Day level features\n",
    "- % visits on 1,2,3,4,5,6,7\n",
    "\n",
    "** Fit a model and do error analysis"
   ]
  },
  {
   "cell_type": "code",
   "execution_count": 93,
   "metadata": {},
   "outputs": [
    {
     "data": {
      "text/plain": [
       "<module 'data_prep' from '/Users/sumad/Documents/ShoppingMallDatachallenge/data_prep.py'>"
      ]
     },
     "execution_count": 93,
     "metadata": {},
     "output_type": "execute_result"
    }
   ],
   "source": [
    "reload(dp)"
   ]
  },
  {
   "cell_type": "code",
   "execution_count": 40,
   "metadata": {},
   "outputs": [
    {
     "data": {
      "text/plain": [
       "visitor_id\n",
       "1    0.00\n",
       "2    0.00\n",
       "3    0.00\n",
       "4    0.03\n",
       "5    0.00\n",
       "Name: visits_int_arr, dtype: float64"
      ]
     },
     "execution_count": 40,
     "metadata": {},
     "output_type": "execute_result"
    }
   ],
   "source": [
    "kwargs ={\n",
    "    'ad' : 100,\n",
    "    'day' : 1\n",
    "}\n",
    "s.apply(dp.avg_visits_by_wkday, **kwargs)"
   ]
  },
  {
   "cell_type": "code",
   "execution_count": 56,
   "metadata": {},
   "outputs": [
    {
     "data": {
      "text/plain": [
       "visitor_id\n",
       "1    133.00\n",
       "2    304.50\n",
       "3     94.50\n",
       "4    357.00\n",
       "5    204.75\n",
       "Name: visits_int_arr, dtype: float64"
      ]
     },
     "execution_count": 56,
     "metadata": {},
     "output_type": "execute_result"
    }
   ],
   "source": [
    "kwargs ={\n",
    "    'ad' : 896,\n",
    "    'day' : 7,\n",
    "    'lag' : 1\n",
    "}\n",
    "s.apply(dp.avg_time_days_bw_visits, **kwargs)"
   ]
  },
  {
   "cell_type": "code",
   "execution_count": 11,
   "metadata": {},
   "outputs": [
    {
     "data": {
      "text/plain": [
       "visitor_id\n",
       "1    [30, 84, 126, 135, 137, 179, 242, 342, 426, 45...\n",
       "2    [24, 53, 75, 134, 158, 192, 194, 211, 213, 238...\n",
       "3    [51, 143, 173, 257, 446, 491, 504, 510, 559, 6...\n",
       "4    [1, 20, 22, 92, 124, 149, 211, 335, 387, 390, ...\n",
       "5    [34, 51, 56, 106, 110, 121, 163, 233, 266, 275...\n",
       "Name: visits_int_arr, dtype: object"
      ]
     },
     "execution_count": 11,
     "metadata": {},
     "output_type": "execute_result"
    }
   ],
   "source": [
    "s = data.loc[0:5,'visits_int_arr']\n",
    "s"
   ]
  },
  {
   "cell_type": "code",
   "execution_count": 78,
   "metadata": {},
   "outputs": [
    {
     "data": {
      "text/plain": [
       "visitor_id\n",
       "1    0\n",
       "2    0\n",
       "3    1\n",
       "4    0\n",
       "5    0\n",
       "Name: visits_int_arr, dtype: int64"
      ]
     },
     "execution_count": 78,
     "metadata": {},
     "output_type": "execute_result"
    }
   ],
   "source": [
    "kwargs ={\n",
    "    'ad' : 560,\n",
    "    'day' : 6,\n",
    "    'xth_week' : 7\n",
    "}\n",
    "s.apply(dp.ind_visit_last_x_wkday, **kwargs)"
   ]
  },
  {
   "cell_type": "code",
   "execution_count": 89,
   "metadata": {},
   "outputs": [
    {
     "data": {
      "text/plain": [
       "visitor_id\n",
       "1   -100\n",
       "2   -100\n",
       "3   -100\n",
       "4    106\n",
       "5     92\n",
       "Name: visits_int_arr, dtype: int64"
      ]
     },
     "execution_count": 89,
     "metadata": {},
     "output_type": "execute_result"
    }
   ],
   "source": [
    "kwargs ={\n",
    "    'ad' : 126,\n",
    "    'day' : 6\n",
    "}\n",
    "s.apply(dp.days_since_last_wday_visited, **kwargs)"
   ]
  },
  {
   "cell_type": "code",
   "execution_count": 99,
   "metadata": {},
   "outputs": [
    {
     "data": {
      "text/plain": [
       "visitor_id\n",
       "1    0\n",
       "2    0\n",
       "3    0\n",
       "4    1\n",
       "5    0\n",
       "Name: visits_int_arr, dtype: int64"
      ]
     },
     "execution_count": 99,
     "metadata": {},
     "output_type": "execute_result"
    }
   ],
   "source": [
    "kwargs ={\n",
    "    'target_week' : 4\n",
    "}\n",
    "s.apply(dp.create_mclass_target, **kwargs)"
   ]
  },
  {
   "cell_type": "code",
   "execution_count": null,
   "metadata": {},
   "outputs": [],
   "source": []
  }
 ],
 "metadata": {
  "kernelspec": {
   "display_name": "Python 3",
   "language": "python",
   "name": "python3"
  }
 },
 "nbformat": 4,
 "nbformat_minor": 2
}
