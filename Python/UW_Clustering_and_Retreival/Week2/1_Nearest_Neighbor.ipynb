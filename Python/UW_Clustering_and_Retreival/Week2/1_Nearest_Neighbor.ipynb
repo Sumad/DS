{
 "cells": [
  {
   "cell_type": "markdown",
   "metadata": {},
   "source": [
    "### Algorithms \n",
    "- 1-NN Search. \n",
    "- k-NN Search"
   ]
  },
  {
   "cell_type": "markdown",
   "metadata": {},
   "source": [
    "### Nearest Neighbor Model \n",
    "We want to suggest to a reader of document, a similar document to what he is reading as a next suggeested reading. \n",
    "Assume we have: \n",
    "1. A cluster of similar documents organized by cluster name, say News. \n",
    "2. We call the current document as query document. \n",
    "3. We supply a corpus of documents to look into. \n",
    "4. We expect 1 document or k documents based on similarity  \n",
    "\n",
    "### Model Specification. \n",
    "\n",
    "Inputs : \n",
    "1. $X_q$ , query document  \n",
    "2. $X_1$, $X_1$,.., $X_N$ , corpus of documents  \n",
    "\n",
    "Output: \n",
    "$$\n",
    "X_{NN} = \\min_{\\forall X_i}  Distance (X_i, X_q)\n",
    "$$\n",
    "\n"
   ]
  },
  {
   "cell_type": "markdown",
   "metadata": {},
   "source": [
    "##### 1-NN Algorithm  \n",
    "1. Initialize Dist2NN = $\\infty$  , index = None\n",
    "2. Iterate over documents from i to N  \n",
    "  2.1 Find distance d b/w $X_i$ and $X_q$   \n",
    "  2.2 If d < Dist2NN , updated Dist2NN = d and Index = i\n",
    "3. Dist2NN is closest distance and $X_i$ is closest document  \n",
    "\n",
    "##### k-NN Algorithm  \n",
    "1. Create a DiskNN series by computing distances of query documents from first 5 documents. Sort the vector in ascending order. Create the index as values to record position of these documents in the corpus. \n",
    "2. Iterate over documents for i =  k+1 to N. \n",
    "  2.1 Find distance d b/w $X_i$ and $X_q$   \n",
    "  2.2 If d < max(DiskNN), then Insert d in DiskNN with updated position index, sort by value again \n",
    "  2.3 drop DiskNN[5] (i.e last element of the sorted series).  \n",
    "3. Return the series with position of documents and distance  values\n",
    " "
   ]
  },
  {
   "cell_type": "code",
   "execution_count": null,
   "metadata": {
    "collapsed": true
   },
   "outputs": [],
   "source": []
  }
 ],
 "metadata": {
  "kernelspec": {
   "display_name": "Python 3",
   "language": "python",
   "name": "python3"
  },
  "language_info": {
   "codemirror_mode": {
    "name": "ipython",
    "version": 3
   },
   "file_extension": ".py",
   "mimetype": "text/x-python",
   "name": "python",
   "nbconvert_exporter": "python",
   "pygments_lexer": "ipython3",
   "version": "3.6.3"
  }
 },
 "nbformat": 4,
 "nbformat_minor": 2
}
