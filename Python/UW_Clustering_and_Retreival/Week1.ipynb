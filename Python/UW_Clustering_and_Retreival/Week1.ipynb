{
 "cells": [
  {
   "cell_type": "markdown",
   "metadata": {},
   "source": [
    "### Course Coverage \n",
    "#### Models - \n",
    "1. **Nearest Neighbors**  : Used for retreivial tasks, like given a document, find closest document/s from a corpus.We  need is - \n",
    "   - Takes inputs as a search query and document corpus. \n",
    "   Examples: Google search finds from its corpus, links that are stored in representations similar to what we give. \n",
    "   The variations in input specification to deal with, and defining the corpus of links in ways to enable a nearest  \n",
    "   neighbor  search is quite a problem to solve. \n",
    "   - Given an image, find similar images, can be for videos, music and what not.  \n",
    "   - In online streaming, lot of retreival tasks are performed -  movies, shows, products, people in social network. \n",
    "   **What is needed at the least here is :  \n",
    "     a. Numeric representation of text, images, videos etc.  \n",
    "     b. Distance metric. to measure nearness **  \n",
    "     \n",
    "2. **Clustering**.  : Dicovery of similar groups in data that are homogeneous each within themelves and heterogeneous  w.r.t others - an unsupervised learning task. Clustering can aid retreival, if we are for to find in a corpus of new articles, which ones are sports, politics, entertainment news articles,& they   can be organized, and retreival can be specific to the cluster that can be computed on the input. Clustering can be thought of a prework for efficient retreival. Examples:\n",
    "   1. Cluster images to identify topics like sunset, sunrise, noon etc. \n",
    "   2. Cluster learners , customers.. the objectives of clustering can be cleverly defined to then derive varied   \n",
    "   metrics to try and identify groups.  \n",
    "   \n",
    "3. **Mixture of Gaussians**: Probabilistic clustering models. The approach is one that of accounting for uncertaininty  in    cluster membership , and allowing for soft clutering, i.e a record in data can have probability based allocation to    more than one cluster groups. \n",
    "\n",
    "4. **Latent Dirichlet Allocation** : A document is thought of as a mixture of topics/cluster, and a topic is thought of as representable by distribution of words in vocabulary.  LDA takes no. of topics as. input parameter and discovers-  \n",
    "   a. The extent of topics covered in each document.  \n",
    "   b. The distribution of words that describe a topic\n",
    "\n",
    "#### Algorithms - \n",
    "1. **KDD Trees**: It is computationally expensive to find distance measures between a query and huge corpus of  documents.KDD Tree algorithm helps to get approximate measures.  \n",
    "2. **Locality sensitive hashing.** : I think it is a way to reduce the dimensions of feature vector, and it provides another way of getting to an approximate nearness measure.\n",
    "3. Map Reduce. : Used to scale computation on large data sets by distributing them over resouces on several machines.\n",
    "4. k means. : Algorithm that starts with an assumption of k clusters to be discovered, using RSS as a measure to be \n",
    "   minimized for k clusters.\n",
    "5. **Expectation Maxmization.** : Used in Gaussian Mixture modeling for soft clustering approach.\n",
    "6. **Gibbs Sampling**  : Used in LDA\n",
    "\n",
    "#### Concepts - \n",
    "1. Doc representation as a feature vector. \n",
    "2. Distance Measures. \n",
    "3. Bayesian Inference. \n",
    "4. Approximation Algorithms  \n",
    "5. Data Paraller Problems. \n",
    "6. Bayesian Inference"
   ]
  },
  {
   "cell_type": "markdown",
   "metadata": {},
   "source": [
    "#### Good libraries to use  for scalability"
   ]
  },
  {
   "cell_type": "markdown",
   "metadata": {},
   "source": [
    "1. SFrames over Pandas: Open source python library, more scalable than Pandas, and can allow working on datasets that don't fit PC memory for manipulation tasks.   \n",
    "2. GraphLab Create : Have a ML API which is scalable than scikit-learn    "
   ]
  }
 ],
 "metadata": {
  "kernelspec": {
   "display_name": "Python 3",
   "language": "python",
   "name": "python3"
  },
  "language_info": {
   "codemirror_mode": {
    "name": "ipython",
    "version": 3
   },
   "file_extension": ".py",
   "mimetype": "text/x-python",
   "name": "python",
   "nbconvert_exporter": "python",
   "pygments_lexer": "ipython3",
   "version": "3.6.3"
  }
 },
 "nbformat": 4,
 "nbformat_minor": 2
}
