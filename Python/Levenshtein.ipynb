{
 "cells": [
  {
   "cell_type": "code",
   "execution_count": 3,
   "metadata": {},
   "outputs": [],
   "source": [
    "def levenshtein(s1,s2): \n",
    "    if len(s1) > len(s2):\n",
    "        s1,s2 = s2,s1 \n",
    "    distances = range(len(s1) + 1) \n",
    "    print(distances)\n",
    "    for index2,char2 in enumerate(s2):\n",
    "        newDistances = [index2+1]\n",
    "        print(newDistances)\n",
    "        for index1,char1 in enumerate(s1):\n",
    "            if char1 == char2:\n",
    "                newDistances.append(distances[index1]) \n",
    "                print(newDistances)\n",
    "            else:\n",
    "                newDistances.append(1 + min((distances[index1], distances[index1+1], newDistances[-1]))) \n",
    "                print(newDistances)   \n",
    "        distances = newDistances \n",
    "        print(distances)\n",
    "    return distances[-1]"
   ]
  },
  {
   "cell_type": "code",
   "execution_count": 4,
   "metadata": {},
   "outputs": [
    {
     "name": "stdout",
     "output_type": "stream",
     "text": [
      "range(0, 8)\n",
      "[1]\n",
      "[1, 0]\n",
      "[1, 0, 1]\n",
      "[1, 0, 1, 2]\n",
      "[1, 0, 1, 2, 3]\n",
      "[1, 0, 1, 2, 3, 4]\n",
      "[1, 0, 1, 2, 3, 4, 5]\n",
      "[1, 0, 1, 2, 3, 4, 5, 6]\n",
      "[1, 0, 1, 2, 3, 4, 5, 6]\n",
      "[2]\n",
      "[2, 1]\n",
      "[2, 1, 0]\n",
      "[2, 1, 0, 1]\n",
      "[2, 1, 0, 1, 2]\n",
      "[2, 1, 0, 1, 2, 3]\n",
      "[2, 1, 0, 1, 2, 3, 4]\n",
      "[2, 1, 0, 1, 2, 3, 4, 5]\n",
      "[2, 1, 0, 1, 2, 3, 4, 5]\n",
      "[3]\n",
      "[3, 2]\n",
      "[3, 2, 1]\n",
      "[3, 2, 1, 0]\n",
      "[3, 2, 1, 0, 1]\n",
      "[3, 2, 1, 0, 1, 2]\n",
      "[3, 2, 1, 0, 1, 2, 3]\n",
      "[3, 2, 1, 0, 1, 2, 3, 4]\n",
      "[3, 2, 1, 0, 1, 2, 3, 4]\n",
      "[4]\n",
      "[4, 3]\n",
      "[4, 3, 2]\n",
      "[4, 3, 2, 1]\n",
      "[4, 3, 2, 1, 0]\n",
      "[4, 3, 2, 1, 0, 1]\n",
      "[4, 3, 2, 1, 0, 1, 2]\n",
      "[4, 3, 2, 1, 0, 1, 2, 3]\n",
      "[4, 3, 2, 1, 0, 1, 2, 3]\n",
      "[5]\n",
      "[5, 4]\n",
      "[5, 4, 3]\n",
      "[5, 4, 3, 2]\n",
      "[5, 4, 3, 2, 1]\n",
      "[5, 4, 3, 2, 1, 1]\n",
      "[5, 4, 3, 2, 1, 1, 2]\n",
      "[5, 4, 3, 2, 1, 1, 2, 3]\n",
      "[5, 4, 3, 2, 1, 1, 2, 3]\n",
      "[6]\n",
      "[6, 5]\n",
      "[6, 5, 4]\n",
      "[6, 5, 4, 3]\n",
      "[6, 5, 4, 3, 2]\n",
      "[6, 5, 4, 3, 2, 2]\n",
      "[6, 5, 4, 3, 2, 2, 2]\n",
      "[6, 5, 4, 3, 2, 2, 2, 3]\n",
      "[6, 5, 4, 3, 2, 2, 2, 3]\n",
      "[7]\n",
      "[7, 6]\n",
      "[7, 6, 5]\n",
      "[7, 6, 5, 4]\n",
      "[7, 6, 5, 4, 3]\n",
      "[7, 6, 5, 4, 3, 3]\n",
      "[7, 6, 5, 4, 3, 3, 3]\n",
      "[7, 6, 5, 4, 3, 3, 3, 2]\n",
      "[7, 6, 5, 4, 3, 3, 3, 2]\n"
     ]
    },
    {
     "data": {
      "text/plain": [
       "2"
      ]
     },
     "execution_count": 4,
     "metadata": {},
     "output_type": "execute_result"
    }
   ],
   "source": [
    "levenshtein('analyze', 'analise')"
   ]
  },
  {
   "cell_type": "code",
   "execution_count": null,
   "metadata": {},
   "outputs": [],
   "source": []
  }
 ],
 "metadata": {
  "kernelspec": {
   "display_name": "Python 3",
   "language": "python",
   "name": "python3"
  },
  "language_info": {
   "codemirror_mode": {
    "name": "ipython",
    "version": 3
   },
   "file_extension": ".py",
   "mimetype": "text/x-python",
   "name": "python",
   "nbconvert_exporter": "python",
   "pygments_lexer": "ipython3",
   "version": "3.6.3"
  }
 },
 "nbformat": 4,
 "nbformat_minor": 2
}
