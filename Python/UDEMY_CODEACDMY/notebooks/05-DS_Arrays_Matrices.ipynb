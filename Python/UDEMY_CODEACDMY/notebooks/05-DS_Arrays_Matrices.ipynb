{
 "cells": [
  {
   "cell_type": "markdown",
   "metadata": {},
   "source": [
    "#### Data Structures: Arrays\n",
    "We will use array from numpy package , they are more versatile than what is available in base python\n"
   ]
  },
  {
   "cell_type": "code",
   "execution_count": 1,
   "metadata": {},
   "outputs": [
    {
     "name": "stdout",
     "output_type": "stream",
     "text": [
      "['1' '2' 'a']\n"
     ]
    }
   ],
   "source": [
    "import numpy as np\n",
    "# Defining array, is like passing a list to the function np.array\n",
    "# Like vectors in R, array can hold elements of only one data type, if multiple data types are specified, then coercion occurs\n",
    "x=np.array([1,2,\"a\"])\n",
    "print(x)\n"
   ]
  },
  {
   "cell_type": "code",
   "execution_count": 2,
   "metadata": {},
   "outputs": [
    {
     "name": "stdout",
     "output_type": "stream",
     "text": [
      "[[1 2]\n",
      " [4 5]]\n"
     ]
    }
   ],
   "source": [
    "# arrays can have more than 1 dimension\n",
    "y=np.array([[1,2],[4,5]],ndmin=2)\n",
    "print(y)\n"
   ]
  },
  {
   "cell_type": "code",
   "execution_count": 4,
   "metadata": {},
   "outputs": [
    {
     "data": {
      "text/plain": [
       "3.0"
      ]
     },
     "execution_count": 4,
     "metadata": {},
     "output_type": "execute_result"
    }
   ],
   "source": [
    "# In python, an object of a class, inherits all methods defined for the class. This is a very useful property of \n",
    "#an Object Oriented language\n",
    "# y is an object of class 'array', we can readily access and apply methods defined for np.array for y.\n",
    "y.flatten()\n",
    "#array([1, 2, 4, 5])\n",
    "y.mean()\n"
   ]
  },
  {
   "cell_type": "markdown",
   "metadata": {},
   "source": [
    "#### Slicing Arrays\n",
    "Similar to slicing/subsetting lists, we can slice arrays.\n",
    "Arrays can be copied over using explicit function np.copy(), simple assignment to another\n",
    "array just creates a view of the same array. \n",
    "And if you edit any of the views, the array gets edited. \n",
    "This behavior is not with lists in python, and is designed to preserve memory.\n"
   ]
  },
  {
   "cell_type": "code",
   "execution_count": 5,
   "metadata": {},
   "outputs": [
    {
     "data": {
      "text/plain": [
       "array([  1,   2,   5, 100,  90])"
      ]
     },
     "execution_count": 5,
     "metadata": {},
     "output_type": "execute_result"
    }
   ],
   "source": [
    "x=np.array([1,2,5,78,90])\n",
    "y=x\n",
    "y[3]=100\n",
    "y"
   ]
  },
  {
   "cell_type": "markdown",
   "metadata": {},
   "source": [
    "### Matrices\n",
    "Matrices can be defined in a couple of ways  \n",
    "1. Combining lists and using np.array()  \n",
    "2. Using np.reshape(arg1,arg2,arg3), where arg 1 can be the data elements, arg2 can be the dimensions specified as a tuple,   \n",
    "arg3 is about the order in which matrix is to be filled, 'F' is fortran indicaitng a column wise fill, 'C' indicating C like\n"
   ]
  },
  {
   "cell_type": "code",
   "execution_count": 7,
   "metadata": {},
   "outputs": [
    {
     "data": {
      "text/plain": [
       "array([['Sonu', 'Monu', 'Rinki'],\n",
       "       ['12', '20', '23']], \n",
       "      dtype='<U5')"
      ]
     },
     "execution_count": 7,
     "metadata": {},
     "output_type": "execute_result"
    }
   ],
   "source": [
    "# row wise fill\n",
    "import numpy as np\n",
    "names=[\"Sonu\",\"Monu\",\"Rinki\"]\n",
    "ages=[12,20,23]\n",
    "family=np.array([names,ages])\n",
    "family\n",
    "# np.arange() function produces a sequence from 'start' to a 'target' less than the 'stop' argument. The resulting data type is \n",
    "#an array \n",
    "x=np.arange(0,8,0.5)\n",
    "x"
   ]
  },
  {
   "cell_type": "code",
   "execution_count": 8,
   "metadata": {},
   "outputs": [
    {
     "data": {
      "text/plain": [
       "array([ 0. ,  0.5,  1. ,  1.5,  2. ,  2.5,  3. ,  3.5,  4. ,  4.5,  5. ,\n",
       "        5.5,  6. ,  6.5,  7. ,  7.5])"
      ]
     },
     "execution_count": 8,
     "metadata": {},
     "output_type": "execute_result"
    }
   ],
   "source": [
    "# np.arange() function produces a sequence from 'start' to a 'target' less than the 'stop' argument. The resulting data type is \n",
    "#an array \n",
    "x=np.arange(0,8,0.5)\n",
    "x"
   ]
  },
  {
   "cell_type": "code",
   "execution_count": 9,
   "metadata": {},
   "outputs": [
    {
     "data": {
      "text/plain": [
       "array([[0, 1, 2],\n",
       "       [3, 4, 5],\n",
       "       [6, 7, 8]])"
      ]
     },
     "execution_count": 9,
     "metadata": {},
     "output_type": "execute_result"
    }
   ],
   "source": [
    "family2=np.reshape(np.arange(0,9),(3,3),order='C')\n",
    "family2"
   ]
  },
  {
   "cell_type": "code",
   "execution_count": 11,
   "metadata": {},
   "outputs": [
    {
     "data": {
      "text/plain": [
       "array([3, 4, 5])"
      ]
     },
     "execution_count": 11,
     "metadata": {},
     "output_type": "execute_result"
    }
   ],
   "source": [
    "# Indexing a matrix\n",
    "family2[1,:] #is same as family2[1,]\n",
    "# Other means of indexing arrays\n",
    "#Salary[1,3] #is same as Salary[1][3]\n"
   ]
  },
  {
   "cell_type": "code",
   "execution_count": 12,
   "metadata": {},
   "outputs": [
    {
     "data": {
      "text/plain": [
       "array([[ 0,  1,  2,  3,  4,  5],\n",
       "       [ 6,  7,  8,  9, 10, 11],\n",
       "       [12, 13, 14, 15, 16, 17],\n",
       "       [18, 19, 20, 21, 22, 23],\n",
       "       [24, 25, 26, 27, 28, 29]])"
      ]
     },
     "execution_count": 12,
     "metadata": {},
     "output_type": "execute_result"
    }
   ],
   "source": [
    "# Using OOP design of python\n",
    "# If you create an object of array class, the you can use reshape, which is a pre-defined function available for the object to \n",
    "# create a matrix out of it\n",
    "data=np.arange(0,30)\n",
    "data.reshape((5,6))"
   ]
  }
 ],
 "metadata": {
  "kernelspec": {
   "display_name": "Python 3",
   "language": "python",
   "name": "python3"
  },
  "language_info": {
   "codemirror_mode": {
    "name": "ipython",
    "version": 3
   },
   "file_extension": ".py",
   "mimetype": "text/x-python",
   "name": "python",
   "nbconvert_exporter": "python",
   "pygments_lexer": "ipython3",
   "version": "3.6.1"
  }
 },
 "nbformat": 4,
 "nbformat_minor": 2
}
