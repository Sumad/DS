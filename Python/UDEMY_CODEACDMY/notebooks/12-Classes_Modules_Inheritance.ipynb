{
 "cells": [
  {
   "cell_type": "markdown",
   "metadata": {},
   "source": [
    "### Classes and Modules\n",
    "\n",
    "\n",
    "Class is defined like a function but with the keyword class and not def.  \n",
    "Each method in the class has first argument as self, for self reference.  \n",
    "Methods starting with __init__ are initiated when an object of the class is first created.  \n",
    "Methods starting with __str__ are used when string representation of the class is needed.\n",
    "\n",
    "1. Class : Class is a collection of variables (attributes) and methods (functions) that performs different but related operations. It lays out a structure, using which many instances/object with the structure can be created.\n",
    "\n",
    "2. Concepts :  \n",
    "2.1 class: class keyword is used to define a class, see the example below, it takes an argument as name of another class, if   \n",
    "we intend to inherit properties of the class.  \n",
    "2.2 attributes and methods : attributes and methods are defined inside the class  \n",
    "2.2 'self': Every method in a class has first argument as self in python, python ensures that when an object of the class   \n",
    "is created, the object's name is passed as an argument to the methods, so as to maintain uniqueness in use of  \n",
    "the method for different objects. User does not need to specify this argument.  \n",
    "2.3 __init__ : The methods with no name, but __init__ are initialized when an object is created. it is typically used to  \n",
    "assign the user given values, to the object's attributes.  \n",
    "2.4 __str__ : The methods with double dashes serve as an overide method. __str__ overrides the print methods when called on the object  of the class. One can define what to print.  \n",
    "2.5. Subclasses & Inheritance :  \n",
    "Subclasses can be defined, to inherit the properties of a class. Within a subclass's init method, we need to call the parent  \n",
    "class' init method to initialize attributes that are in parent class and get used in parent class' methods.\n",
    "\n",
    "Reference : http://www.jesshamrick.com/2011/05/18/an-introduction-to-classes-and-inheritance-in-python/"
   ]
  },
  {
   "cell_type": "code",
   "execution_count": 8,
   "metadata": {
    "collapsed": true
   },
   "outputs": [],
   "source": [
    "# Example : Make a class for vehcilce, with attributes as\n",
    "# 1. Number of doors\n",
    "#2. Make\n",
    "#3.  Model\n",
    "#4. Year\n",
    "#5. 13 digit Vin\n",
    "# 6. Length\n",
    "# 7. Engine Liters\n",
    "\n",
    "# Methods\n",
    "# 1. To get last 4 disigtis of vin\n",
    "# 2. Litres by Length\n",
    "# 3. printing all attributes when print is called\n",
    "\n",
    "# Example: class for addition of two vars.\n",
    "\n",
    "class vehicle:\n",
    "    '''Attributes with some defaults'''\n",
    "    make = \"xx\"\n",
    "    model = \"xx\"\n",
    "    year = \"xxxx\"\n",
    "    doors = 0\n",
    "    vin = 1234567890123\n",
    "    length = 1\n",
    "    liters = 0\n",
    "\n",
    "    '''Methods'''\n",
    "    \n",
    "    def __init__(self, make, model, year, doors, vin, length, liters):\n",
    "        '''Initialize the attributes with supplied attribute values'''\n",
    "        self.make = make\n",
    "        self.model = model\n",
    "        self.year = year\n",
    "        self.doors = doors\n",
    "        self.vin = vin\n",
    "        self.length = length\n",
    "        self.liters = liters\n",
    "        \n",
    "    \n",
    "    def vin4(self):\n",
    "        '''Extract 4 digits'''\n",
    "        vin = str(self.vin)\n",
    "        return(vin[9:])\n",
    "        \n",
    "    def litbylen(self):    \n",
    "        '''Divide liters by length'''\n",
    "        try:\n",
    "            litbylen = (self.liters/self.length)\n",
    "            return(litbylen)\n",
    "        except ZeroDivisionError:\n",
    "            return(\"Warning - length is 0\")    \n",
    "        \n",
    "    def __str__(self):\n",
    "        '''Override method when print is called on object of the class'''\n",
    "        return(\"Make %s, Model %s, year %s, Doors %s, Vin %s, Length %s, Liters %s\" %(self.make,\n",
    "        self.model, self.year, self.doors, self.vin, self.length, self.liters))"
   ]
  },
  {
   "cell_type": "code",
   "execution_count": 9,
   "metadata": {},
   "outputs": [
    {
     "data": {
      "text/plain": [
       "__main__.vehicle"
      ]
     },
     "execution_count": 9,
     "metadata": {},
     "output_type": "execute_result"
    }
   ],
   "source": [
    "# Create an object using dictionary unpacking\n",
    "dic = {\"make\" : \"Nissan\",\n",
    "    \"model\" : \"Rogue\",\n",
    "    \"year\" : \"2015\",\n",
    "    \"doors\" : 4,\n",
    "    \"vin\" : 2234567677766,\n",
    "    \"length\" : 195,\n",
    "    \"liters\" : 2.2}\n",
    "nissanrogue1 = vehicle(**dic)\n",
    "type(nissanrogue1)"
   ]
  },
  {
   "cell_type": "code",
   "execution_count": 10,
   "metadata": {},
   "outputs": [
    {
     "name": "stdout",
     "output_type": "stream",
     "text": [
      "0.011282051282051283\n",
      "7766\n"
     ]
    }
   ],
   "source": [
    "# Try calling functions\n",
    "print(nissanrogue1.litbylen())\n",
    "print(nissanrogue1.vin4())"
   ]
  },
  {
   "cell_type": "code",
   "execution_count": 11,
   "metadata": {},
   "outputs": [
    {
     "name": "stdout",
     "output_type": "stream",
     "text": [
      "Warning - length is 0\n"
     ]
    }
   ],
   "source": [
    "# Induce error and check\n",
    "# Create an object using dictionary unpacking\n",
    "dic2 = {\"make\" : \"Nissan\",\n",
    "    \"model\" : \"Rogue\",\n",
    "    \"year\" : \"2015\",\n",
    "    \"doors\" : 4,\n",
    "    \"vin\" : 2234567677766,\n",
    "     \"length\" : 0,    \n",
    "    \"liters\" : 2.2}\n",
    "nissanrogue2 = vehicle(**dic2)\n",
    "print(nissanrogue2.litbylen())"
   ]
  },
  {
   "cell_type": "code",
   "execution_count": 12,
   "metadata": {},
   "outputs": [
    {
     "name": "stdout",
     "output_type": "stream",
     "text": [
      "Make Nissan, Model Rogue, year 2015, Doors 4, Vin 2234567677766, Length 0, Liters 2.2\n"
     ]
    }
   ],
   "source": [
    "# Call print on the object\n",
    "print(nissanrogue2)"
   ]
  },
  {
   "cell_type": "code",
   "execution_count": 13,
   "metadata": {
    "collapsed": true
   },
   "outputs": [],
   "source": [
    "# Define a subclass of vehcicles for country US\n",
    "# add attributrs - transmission, Drive type\n",
    "# method to check is length is greater than equal to 195 inches"
   ]
  },
  {
   "cell_type": "code",
   "execution_count": 174,
   "metadata": {
    "collapsed": true
   },
   "outputs": [],
   "source": [
    "class sedan(vehicle):\n",
    "    '''vehcile is the name of the class we want to inherit from'''\n",
    "    \n",
    "    transmission = \"Unknown\"\n",
    "    drivetype = \"Unknown\"\n",
    "    \n",
    "    def __init__(self,make, model, year, vin, transmission, drivetype):\n",
    "        '''calling the the parent init class method is necessary to initialize\n",
    "        variables -  length and liters, which will then allow\n",
    "        usage of method litbylen. The method will still be accessible but will operate on default values of \n",
    "        parent class'''\n",
    "        vehicle.__init__(self, make = make, model = model, year = year,\n",
    "                         vin = vin, doors = 4, length = 195, liters = 2.6)\n",
    "        self.transmission = transmission\n",
    "        self.drivetype = drivetype\n",
    "        \n",
    "    def check(self):\n",
    "        if self.length >= 195:\n",
    "            return(\"length > = 195\")\n",
    "        else:\n",
    "            return (\"length > = 195\")        "
   ]
  },
  {
   "cell_type": "code",
   "execution_count": 175,
   "metadata": {
    "collapsed": true
   },
   "outputs": [],
   "source": [
    "# Create a sedan vehcile\n",
    "dic3 = {\"make\" : \"Niss\",\n",
    "    \"model\" : \"Altima\",\n",
    "    \"year\" : \"2015\",\n",
    "    \"vin\" : 2234567677386,\n",
    "    \"transmission\" : \"Auto\",\n",
    "    \"drivetype\" : \"AWD\"\n",
    "         }\n",
    "veh_altima = sedan(**dic3)"
   ]
  },
  {
   "cell_type": "code",
   "execution_count": 176,
   "metadata": {},
   "outputs": [
    {
     "name": "stdout",
     "output_type": "stream",
     "text": [
      "AWD\n",
      "Auto\n",
      "0.013333333333333334\n",
      "Niss\n",
      "7386\n"
     ]
    },
    {
     "data": {
      "text/plain": [
       "'length > = 195'"
      ]
     },
     "execution_count": 176,
     "metadata": {},
     "output_type": "execute_result"
    }
   ],
   "source": [
    "# Check if unique features to sedan are taken\n",
    "print(veh_altima.drivetype)\n",
    "print(veh_altima.transmission)\n",
    "\n",
    "# Check if methods inheritede from parent class, work on values supplied when creating sedan\n",
    "print(veh_altima.litbylen())\n",
    "print(veh_altima.make)\n",
    "print(veh_altima.vin4())\n",
    "\n",
    "# Check if methods defined in subclass work\n",
    "veh_altima.check()\n"
   ]
  },
  {
   "cell_type": "markdown",
   "metadata": {},
   "source": [
    "## Example of class to create shopping cart objects"
   ]
  },
  {
   "cell_type": "code",
   "execution_count": 16,
   "metadata": {},
   "outputs": [
    {
     "name": "stdout",
     "output_type": "stream",
     "text": [
      "Apple added.\n"
     ]
    }
   ],
   "source": [
    "class ShoppingCart(object):\n",
    "  \"\"\"Creates shopping cart objects\n",
    "  for users of our fine website.\"\"\"\n",
    "  items_in_cart = {}\n",
    "  def __init__(self, customer_name):\n",
    "    self.customer_name = customer_name\n",
    "\n",
    "  def add_item(self, product, price):\n",
    "    \"\"\"Add product to the cart.\"\"\"\n",
    "    if not product in self.items_in_cart:\n",
    "      self.items_in_cart[product] = price\n",
    "      print (product + \" added.\")\n",
    "    else:\n",
    "      print (product + \" is already in the cart.\")\n",
    "\n",
    "  def remove_item(self, product):\n",
    "    \"\"\"Remove product from the cart.\"\"\"\n",
    "    if product in self.items_in_cart:\n",
    "      del self.items_in_cart[product]\n",
    "      print (product + \" removed.\")\n",
    "    else:\n",
    "      print (product + \" is not in the cart.\")\n",
    "\n",
    "my_cart = ShoppingCart(\"Sum\")\n",
    "my_cart.add_item(\"Apple\", 3.5)"
   ]
  },
  {
   "cell_type": "markdown",
   "metadata": {},
   "source": [
    "### Class inheritance   \n",
    "When inheriting from a class, one may need to override methods of the parent class, which can be done by  \n",
    "redifining method in the inheriting class"
   ]
  },
  {
   "cell_type": "code",
   "execution_count": 18,
   "metadata": {
    "collapsed": true
   },
   "outputs": [],
   "source": [
    "class Employee(object):\n",
    "  \"\"\"Models real-life employees!\"\"\"\n",
    "  def __init__(self, employee_name):\n",
    "    self.employee_name = employee_name\n",
    "\n",
    "  def calculate_wage(self, hours):\n",
    "    self.hours = hours\n",
    "    return hours * 20.00\n",
    "\n",
    "# We redefine the method 'calculate_wage for part time employee class, which still  inherits the attribute\n",
    "# employee_name\n",
    "class PartTimeEmployee(Employee):\n",
    "  def calculate_wage(self,hours):\n",
    "    self.hours = hours\n",
    "    return (self.hours * 12)"
   ]
  },
  {
   "cell_type": "markdown",
   "metadata": {},
   "source": [
    "## Calling parent class' method having overwritten it in child class"
   ]
  },
  {
   "cell_type": "code",
   "execution_count": 20,
   "metadata": {},
   "outputs": [
    {
     "name": "stdout",
     "output_type": "stream",
     "text": [
      "200.0\n"
     ]
    }
   ],
   "source": [
    "class Employee(object):\n",
    "  \"\"\"Models real-life employees!\"\"\"\n",
    "  def __init__(self, employee_name):\n",
    "    self.employee_name = employee_name\n",
    "\n",
    "  def calculate_wage(self, hours):\n",
    "    self.hours = hours\n",
    "    return hours * 20.00\n",
    "\n",
    "'''calculate_wage is overwritten'''\n",
    "class PartTimeEmployee(Employee):\n",
    "  def calculate_wage(self,hours):\n",
    "    self.hours = hours\n",
    "    return (self.hours * 12)\n",
    "\n",
    "  '''another method is defined to access the method of parent class'''  \n",
    "  def full_time_wage(self,hours):\n",
    "    self.hours = hours\n",
    "    '''We make use of super (<child class>,self).<method of parent>'''\n",
    "    t= super(PartTimeEmployee,self).calculate_wage(self.hours)\n",
    "    return (t)\n",
    "\n",
    "milton =  PartTimeEmployee(\"Milton\") \n",
    "print(milton.full_time_wage(10))"
   ]
  },
  {
   "cell_type": "markdown",
   "metadata": {},
   "source": [
    "## Example of class inheritance"
   ]
  },
  {
   "cell_type": "code",
   "execution_count": 29,
   "metadata": {},
   "outputs": [
    {
     "name": "stdout",
     "output_type": "stream",
     "text": [
      "3\n",
      "True\n"
     ]
    }
   ],
   "source": [
    "class Triangle(object):\n",
    "  number_of_sides = 3\n",
    "  def __init__(self, angle1,angle2, angle3):\n",
    "    self.angle1 = angle1\n",
    "    self.angle2 = angle2\n",
    "    self.angle3 = angle3\n",
    "    \n",
    "  def check_angles(self):\n",
    "    if (self.angle1 + self.angle2 + self.angle3 == 180 ):\n",
    "      return(True)\n",
    "    else:\n",
    "      return(False)\n",
    "    \n",
    "my_triangle = Triangle(90,30,60)\n",
    "print(my_triangle.number_of_sides)\n",
    "print(my_triangle.check_angles())\n",
    "\n",
    "class Equilateral(Triangle):\n",
    "  angle = 60\n",
    "  '''__init__ does not override the __init__ of base class, rather ensures the angles are assigned 60 \n",
    "  with the creation of object'''\n",
    "  def __init__(self):\n",
    "    self.angle1 = self.angle\n",
    "    self.angle2 = self.angle\n",
    "    self.angle3 = self.angle\n",
    "\n",
    "   "
   ]
  },
  {
   "cell_type": "code",
   "execution_count": 31,
   "metadata": {},
   "outputs": [
    {
     "name": "stdout",
     "output_type": "stream",
     "text": [
      "60\n"
     ]
    },
    {
     "data": {
      "text/plain": [
       "True"
      ]
     },
     "execution_count": 31,
     "metadata": {},
     "output_type": "execute_result"
    }
   ],
   "source": [
    "my_eq = Equilateral() \n",
    "print(my_eq.angle1)\n",
    "my_eq.check_angles()"
   ]
  },
  {
   "cell_type": "markdown",
   "metadata": {},
   "source": [
    "#### Modules\n",
    "Modules: A module is a file consisting of variables, methods/functions and classes in python  \n",
    "It provides provision of importing variables and methods or full module to be imported into a session using import commnad  \n",
    "Module is a higher construct than class to key related functionality together, which includes keeping classes, variables,  \n",
    "methods that are related together\n"
   ]
  },
  {
   "cell_type": "code",
   "execution_count": null,
   "metadata": {
    "collapsed": true
   },
   "outputs": [],
   "source": [
    "%%file mymodule.py\n",
    "\"\"\"\n",
    "Example of a python module. Contains a variable called my_variable,\n",
    "a function called my_function, and a class called MyClass.\n",
    "\"\"\"\n",
    "\n",
    "my_variable = 0\n",
    "\n",
    "def my_function():\n",
    "    \"\"\"\n",
    "    Example function\n",
    "    \"\"\"\n",
    "    return my_variable\n",
    "    \n",
    "class MyClass:\n",
    "    \"\"\"\n",
    "    Example class.\n",
    "    \"\"\"\n",
    "\n",
    "    def __init__(self):\n",
    "        self.variable = my_variable\n",
    "        \n",
    "    def set_variable(self, new_value):\n",
    "        \"\"\"\n",
    "        Set self.variable to a new value\n",
    "        \"\"\"\n",
    "        self.variable = new_value\n",
    "        \n",
    "    def get_variable(self):\n",
    "        return self.variable\n"
   ]
  }
 ],
 "metadata": {
  "kernelspec": {
   "display_name": "Python 3",
   "language": "python",
   "name": "python3"
  },
  "language_info": {
   "codemirror_mode": {
    "name": "ipython",
    "version": 3
   },
   "file_extension": ".py",
   "mimetype": "text/x-python",
   "name": "python",
   "nbconvert_exporter": "python",
   "pygments_lexer": "ipython3",
   "version": "3.6.3"
  }
 },
 "nbformat": 4,
 "nbformat_minor": 2
}
