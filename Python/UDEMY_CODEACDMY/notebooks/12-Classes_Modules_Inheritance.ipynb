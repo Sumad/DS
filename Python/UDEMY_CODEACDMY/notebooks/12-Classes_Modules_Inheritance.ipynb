{
 "cells": [
  {
   "cell_type": "markdown",
   "metadata": {},
   "source": [
    "### Classes and Modules\n",
    "\n",
    "\n",
    "Class is defined like a function but with the keyword class and not def.  \n",
    "Each method in the class has first argument as self, for self reference.  \n",
    "Methods starting with __init__ are initiated when an object of the class is first created.  \n",
    "Methods starting with __str__ are used when string representation of the class is needed.\n",
    "\n",
    "1. Class : Class is a collection of variables (attributes) and methods (functions) that performs different but related operations. It lays out a structure, using which many instances/object with the structure can be created.\n",
    "\n",
    "2. Concepts :  \n",
    "2.1 class: class keyword is used to define a class, see the example below, it takes an argument as name of another class, if   \n",
    "we intend to inherit properties of the class.  \n",
    "2.2 attributes and methods : attributes and methods are defined inside the class  \n",
    "2.2 'self': Every method in a class has first argument as self in python, python ensures that when an object of the class   \n",
    "is created, the object's name is passed as an argument to the methods, so as to maintain uniqueness in use of  \n",
    "the method for different objects. User does not need to specify this argument.  \n",
    "2.3 __init__ : The methods with no name, but __init__ are initialized when an object is created. it is typically used to  \n",
    "assign the user given values, to the object's attributes.  \n",
    "2.4 __str__ : The methods with double dashes serve as an overide method. __str__ overrides the print methods when called on the object  of the class. One can define what to print.  \n",
    "2.5. Subclasses & Inheritance :  \n",
    "Subclasses can be defined, to inherit the properties of a class. Within a subclass's init method, we need to call the parent  \n",
    "class' init method to initialize attributes that are in parent class and get used in parent class' methods.\n",
    "\n",
    "Reference : http://www.jesshamrick.com/2011/05/18/an-introduction-to-classes-and-inheritance-in-python/"
   ]
  },
  {
   "cell_type": "code",
   "execution_count": 168,
   "metadata": {
    "collapsed": true
   },
   "outputs": [],
   "source": [
    "# Example : Make a class for vehcilce, with attributes as\n",
    "# 1. Number of doors\n",
    "#2. Make\n",
    "#3.  Model\n",
    "#4. Year\n",
    "#5. 13 digit Vin\n",
    "# 6. Length\n",
    "# 7. Engine Liters\n",
    "\n",
    "# Methods\n",
    "# 1. To get last 4 disigtis of vin\n",
    "# 2. Litres by Length\n",
    "# 3. printing all attributes when print is called\n",
    "\n",
    "# Example: class for addition of two vars.\n",
    "\n",
    "class vehicle:\n",
    "    '''Attributes with some defaults'''\n",
    "    make = \"xx\"\n",
    "    model = \"xx\"\n",
    "    year = \"xxxx\"\n",
    "    doors = 0\n",
    "    vin = 1234567890123\n",
    "    length = 1\n",
    "    liters = 0\n",
    "\n",
    "    '''Methods'''\n",
    "    \n",
    "    def __init__(self, make, model, year, doors, vin, length, liters):\n",
    "        '''Initialize the attributes with supplied attribute values'''\n",
    "        self.make = make\n",
    "        self.model = model\n",
    "        self.year = year\n",
    "        self.doors = doors\n",
    "        self.vin = vin\n",
    "        self.length = length\n",
    "        self.liters = liters\n",
    "        \n",
    "    \n",
    "    def vin4(self):\n",
    "        '''Extract 4 digits'''\n",
    "        vin = str(self.vin)\n",
    "        return(vin[9:])\n",
    "        \n",
    "    def litbylen(self):    \n",
    "        '''Divide liters by length'''\n",
    "        try:\n",
    "            litbylen = (self.liters/self.length)\n",
    "            return(litbylen)\n",
    "        except ZeroDivisionError:\n",
    "            return(\"Warning - length is 0\")    \n",
    "        \n",
    "    def __str___(self):\n",
    "        '''Override method when print is called on object of the class'''\n",
    "        return(\"Make %s, Model %s, year %s, Doors %s, Vin %s, Length %s, Liters %s\" %(self.make,\n",
    "        self.model, self.year, self.doors, self.vin, self.length, self.liters))"
   ]
  },
  {
   "cell_type": "code",
   "execution_count": 169,
   "metadata": {},
   "outputs": [
    {
     "data": {
      "text/plain": [
       "__main__.vehicle"
      ]
     },
     "execution_count": 169,
     "metadata": {},
     "output_type": "execute_result"
    }
   ],
   "source": [
    "# Create an object using dictionary unpacking\n",
    "dic = {\"make\" : \"Nissan\",\n",
    "    \"model\" : \"Rogue\",\n",
    "    \"year\" : \"2015\",\n",
    "    \"doors\" : 4,\n",
    "    \"vin\" : 2234567677766,\n",
    "    \"length\" : 195,\n",
    "    \"liters\" : 2.2}\n",
    "nissanrogue1 = vehicle(**dic)\n",
    "type(nissanrogue)"
   ]
  },
  {
   "cell_type": "code",
   "execution_count": 170,
   "metadata": {},
   "outputs": [
    {
     "name": "stdout",
     "output_type": "stream",
     "text": [
      "0.011282051282051283\n",
      "7766\n"
     ]
    }
   ],
   "source": [
    "# Try calling functions\n",
    "print(nissanrogue1.litbylen())\n",
    "print(nissanrogue1.vin4())"
   ]
  },
  {
   "cell_type": "code",
   "execution_count": 171,
   "metadata": {},
   "outputs": [
    {
     "name": "stdout",
     "output_type": "stream",
     "text": [
      "Warning - length is 0\n",
      "None\n"
     ]
    }
   ],
   "source": [
    "# Induce error and check\n",
    "# Create an object using dictionary unpacking\n",
    "dic2 = {\"make\" : \"Nissan\",\n",
    "    \"model\" : \"Rogue\",\n",
    "    \"year\" : \"2015\",\n",
    "    \"doors\" : 4,\n",
    "    \"vin\" : 2234567677766,\n",
    "     \"length\" : 0,    \n",
    "    \"liters\" : 2.2}\n",
    "nissanrogue2 = vehicle(**dic2)\n",
    "print(nissanrogue.litbylen())"
   ]
  },
  {
   "cell_type": "code",
   "execution_count": 172,
   "metadata": {},
   "outputs": [
    {
     "name": "stdout",
     "output_type": "stream",
     "text": [
      "<__main__.vehicle object at 0x000001CF01FCA518>\n"
     ]
    }
   ],
   "source": [
    "# Call print on the object\n",
    "print(nissanrogue2)"
   ]
  },
  {
   "cell_type": "code",
   "execution_count": 173,
   "metadata": {
    "collapsed": true
   },
   "outputs": [],
   "source": [
    "# Define a subclass of vehcicles for country US\n",
    "# add attributrs - transmission, Drive type\n",
    "# method to check is length is greater than equal to 195 inches"
   ]
  },
  {
   "cell_type": "code",
   "execution_count": 174,
   "metadata": {
    "collapsed": true
   },
   "outputs": [],
   "source": [
    "class sedan(vehicle):\n",
    "    '''vehcile is the name of the class we want to inherit from'''\n",
    "    \n",
    "    transmission = \"Unknown\"\n",
    "    drivetype = \"Unknown\"\n",
    "    \n",
    "    def __init__(self,make, model, year, vin, transmission, drivetype):\n",
    "        '''calling the the parent init class method is neecessary to initialize\n",
    "        variables -  length and liters, which will then allow\n",
    "        usage of method litbylen. The method will still be accessible but will operate on default values of parent class'''\n",
    "        vehicle.__init__(self, make = make, model = model, year = year,\n",
    "                         vin = vin, doors = 4, length = 195, liters = 2.6)\n",
    "        self.transmission = transmission\n",
    "        self.drivetype = drivetype\n",
    "        \n",
    "    def check(self):\n",
    "        if self.length >= 195:\n",
    "            return(\"length > = 195\")\n",
    "        else:\n",
    "            return (\"length > = 195\")        "
   ]
  },
  {
   "cell_type": "code",
   "execution_count": 175,
   "metadata": {
    "collapsed": true
   },
   "outputs": [],
   "source": [
    "# Create a sedan vehcile\n",
    "dic3 = {\"make\" : \"Niss\",\n",
    "    \"model\" : \"Altima\",\n",
    "    \"year\" : \"2015\",\n",
    "    \"vin\" : 2234567677386,\n",
    "    \"transmission\" : \"Auto\",\n",
    "    \"drivetype\" : \"AWD\"\n",
    "         }\n",
    "veh_altima = sedan(**dic3)"
   ]
  },
  {
   "cell_type": "code",
   "execution_count": 176,
   "metadata": {},
   "outputs": [
    {
     "name": "stdout",
     "output_type": "stream",
     "text": [
      "AWD\n",
      "Auto\n",
      "0.013333333333333334\n",
      "Niss\n",
      "7386\n"
     ]
    },
    {
     "data": {
      "text/plain": [
       "'length > = 195'"
      ]
     },
     "execution_count": 176,
     "metadata": {},
     "output_type": "execute_result"
    }
   ],
   "source": [
    "# Check if unique features to sedan are taken\n",
    "print(veh_altima.drivetype)\n",
    "print(veh_altima.transmission)\n",
    "\n",
    "# Check if methods inheritede from parent class, work on values supplied when creating sedan\n",
    "print(veh_altima.litbylen())\n",
    "print(veh_altima.make)\n",
    "print(veh_altima.vin4())\n",
    "\n",
    "# Check if methods defined in subclass work\n",
    "veh_altima.check()\n"
   ]
  },
  {
   "cell_type": "markdown",
   "metadata": {},
   "source": [
    "#### Modules\n",
    "Modules: A module is a file consisting of variables, methods/functions and classes in python  \n",
    "It provides provision of importing variables and methods or full module to be imported into a session using import commnad  \n",
    "Module is a higher construct than class to key related functionality together, which includes keeping classes, variables,  \n",
    "methods that are related together\n"
   ]
  },
  {
   "cell_type": "code",
   "execution_count": null,
   "metadata": {
    "collapsed": true
   },
   "outputs": [],
   "source": [
    "%%file mymodule.py\n",
    "\"\"\"\n",
    "Example of a python module. Contains a variable called my_variable,\n",
    "a function called my_function, and a class called MyClass.\n",
    "\"\"\"\n",
    "\n",
    "my_variable = 0\n",
    "\n",
    "def my_function():\n",
    "    \"\"\"\n",
    "    Example function\n",
    "    \"\"\"\n",
    "    return my_variable\n",
    "    \n",
    "class MyClass:\n",
    "    \"\"\"\n",
    "    Example class.\n",
    "    \"\"\"\n",
    "\n",
    "    def __init__(self):\n",
    "        self.variable = my_variable\n",
    "        \n",
    "    def set_variable(self, new_value):\n",
    "        \"\"\"\n",
    "        Set self.variable to a new value\n",
    "        \"\"\"\n",
    "        self.variable = new_value\n",
    "        \n",
    "    def get_variable(self):\n",
    "        return self.variable\n"
   ]
  }
 ],
 "metadata": {
  "kernelspec": {
   "display_name": "Python 3",
   "language": "python",
   "name": "python3"
  },
  "language_info": {
   "codemirror_mode": {
    "name": "ipython",
    "version": 3
   },
   "file_extension": ".py",
   "mimetype": "text/x-python",
   "name": "python",
   "nbconvert_exporter": "python",
   "pygments_lexer": "ipython3",
   "version": "3.6.3"
  }
 },
 "nbformat": 4,
 "nbformat_minor": 2
}
