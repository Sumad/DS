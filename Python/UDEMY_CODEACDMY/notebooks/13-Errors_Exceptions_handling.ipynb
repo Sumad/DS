{
 "cells": [
  {
   "cell_type": "markdown",
   "metadata": {},
   "source": [
    "#### Handling Exceptions\n",
    "Exceptions can be handled using try and except statements. Code after try is executed, if no exception/ error is found, the return statment is execured and all code after except is skipped. if an exception/error is found, the name is matched  \n",
    "to what is defined in the section after except, and the corresponding action is taken\n"
   ]
  },
  {
   "cell_type": "code",
   "execution_count": null,
   "metadata": {
    "collapsed": true
   },
   "outputs": [],
   "source": [
    "'''try:\n",
    " {normal code}\n",
    "except <name of exception or error>:\n",
    "{what to print/do if above part is not executed}\n",
    "\n",
    "Use of raise statmenet, which takes an argument as object of class BaseException\n",
    "raise Exception (“print exception”)\n",
    "Example:\n",
    "try:\n",
    "    print(test)\n",
    "    print(\"test\")\n",
    "except Exception as e:\n",
    "    print (e)\n",
    "'''"
   ]
  }
 ],
 "metadata": {
  "kernelspec": {
   "display_name": "Python 3",
   "language": "python",
   "name": "python3"
  },
  "language_info": {
   "codemirror_mode": {
    "name": "ipython",
    "version": 3
   },
   "file_extension": ".py",
   "mimetype": "text/x-python",
   "name": "python",
   "nbconvert_exporter": "python",
   "pygments_lexer": "ipython3",
   "version": "3.6.1"
  }
 },
 "nbformat": 4,
 "nbformat_minor": 2
}
