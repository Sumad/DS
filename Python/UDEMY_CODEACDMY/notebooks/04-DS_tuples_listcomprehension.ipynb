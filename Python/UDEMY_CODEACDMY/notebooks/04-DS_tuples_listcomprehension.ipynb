{
 "cells": [
  {
   "cell_type": "markdown",
   "metadata": {},
   "source": [
    "### Tuples\n",
    "Tuples are another data structure,they are called immutable lists, i.e once defined the elemnts of tuples cannot be changes/overwritten,\n",
    "their declaration is same as list except we use parentheses ()\n",
    "Their indexing and element access is same as that of lists\n",
    "Oftern lists are passed to functions and we want to be sure the elements of those lists are not changed\n"
   ]
  },
  {
   "cell_type": "code",
   "execution_count": 4,
   "metadata": {},
   "outputs": [
    {
     "data": {
      "text/plain": [
       "23"
      ]
     },
     "execution_count": 4,
     "metadata": {},
     "output_type": "execute_result"
    }
   ],
   "source": [
    "x=(23,\"a\",'34',34)\n",
    "type(x)\n",
    "x[-4]  \n",
    "#x[-4] = 21 # throws an error"
   ]
  },
  {
   "cell_type": "markdown",
   "metadata": {},
   "source": [
    "### Lists Comprehensions\n",
    "Lists comprehensions provides a concise way of  \n",
    "a.\tCreating lists on top of another sequence/s or list/s by applying an operation on them  \n",
    "b.\tApplying a function on each element of a list/s  \n",
    "c.  provide an easy \n",
    "\n",
    "Syntax:  \n",
    "•\tSquare bracket \n",
    "•\tAn expression/function followed by a single /multiple for statements on sequences/lists followed by if clause\n"
   ]
  },
  {
   "cell_type": "code",
   "execution_count": 6,
   "metadata": {},
   "outputs": [
    {
     "data": {
      "text/plain": [
       "[-8, -4, 0, 4, 8]"
      ]
     },
     "execution_count": 6,
     "metadata": {},
     "output_type": "execute_result"
    }
   ],
   "source": [
    "#Examples:\n",
    "# create a new list with the values doubled\n",
    "vec = [-4, -2, 0, 2, 4]\n",
    "[x*2 for x in vec]"
   ]
  },
  {
   "cell_type": "code",
   "execution_count": 7,
   "metadata": {},
   "outputs": [
    {
     "data": {
      "text/plain": [
       "[(-4, 16), (-2, 4), (0, 0), (2, 4), (4, 16)]"
      ]
     },
     "execution_count": 7,
     "metadata": {},
     "output_type": "execute_result"
    }
   ],
   "source": [
    "# filter the list to exclude negative numbers\n",
    "[x for x in vec if x>=0]\n",
    "\n",
    "#This is equivalent to achieving this with filter() function\n",
    "# apply a function to all the elements\n",
    "new=[\"Sumad\",'at','work']\n",
    "[len(x) for x in new]\n",
    "\n",
    "# create a list of 2-tuples like (number, square)\n",
    "[(i,i**2) for i in vec]\n"
   ]
  },
  {
   "cell_type": "markdown",
   "metadata": {},
   "source": [
    "#### Nested List Comprehensions  \n",
    "The initial expression in a list comprehension can be any arbitrary expression, including another list comprehension.\n"
   ]
  },
  {
   "cell_type": "code",
   "execution_count": 9,
   "metadata": {},
   "outputs": [
    {
     "data": {
      "text/plain": [
       "[[1, 5, 9], [2, 6, 10], [3, 7, 11], [4, 8, 12]]"
      ]
     },
     "execution_count": 9,
     "metadata": {},
     "output_type": "execute_result"
    }
   ],
   "source": [
    "matrix = [\n",
    "...     [1, 2, 3, 4],\n",
    "...     [5, 6, 7, 8],\n",
    "...     [9, 10, 11, 12],\n",
    "... ]\n",
    "\n",
    "[[row[i] for row in matrix] for i in range(4)]\n"
   ]
  },
  {
   "cell_type": "code",
   "execution_count": null,
   "metadata": {
    "collapsed": true
   },
   "outputs": [],
   "source": [
    "'''How does it work:\n",
    "[expr for  item1 in  seq1 for item2 in seq2 ... for item x in seq x if condition]\n",
    "This list expression has the same effect as:\n",
    "output_sequence = []\n",
    "for item1 in seq1:\n",
    "    for item2 in seq2:\n",
    "        ...\n",
    "            for itemx in seqx:\n",
    "                if condition:\n",
    "                    output_sequence.append(expr)\n",
    "\n",
    "So, expression gets evaluated inside last loop'''\n",
    "\n"
   ]
  },
  {
   "cell_type": "code",
   "execution_count": 17,
   "metadata": {},
   "outputs": [
    {
     "data": {
      "text/plain": [
       "[[1, 5, 9], [2, 6, 10], [3, 7, 11], [4, 8, 12]]"
      ]
     },
     "execution_count": 17,
     "metadata": {},
     "output_type": "execute_result"
    }
   ],
   "source": [
    "output_total = []\n",
    "for i in range(0,4):\n",
    "    output=[]\n",
    "    for row in matrix:\n",
    "        output.append(row[i])\n",
    "    output_total.append(output)    \n",
    "output_total        "
   ]
  }
 ],
 "metadata": {
  "kernelspec": {
   "display_name": "Python 3",
   "language": "python",
   "name": "python3"
  },
  "language_info": {
   "codemirror_mode": {
    "name": "ipython",
    "version": 3
   },
   "file_extension": ".py",
   "mimetype": "text/x-python",
   "name": "python",
   "nbconvert_exporter": "python",
   "pygments_lexer": "ipython3",
   "version": "3.6.3"
  }
 },
 "nbformat": 4,
 "nbformat_minor": 2
}
