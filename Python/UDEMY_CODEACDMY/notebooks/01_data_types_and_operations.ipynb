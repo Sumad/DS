{
 "cells": [
  {
   "cell_type": "markdown",
   "metadata": {
    "collapsed": true
   },
   "source": [
    "### Types of variables/fundamental data types\n",
    "Four types considered for being relevant to Data science:  \n",
    "1. Integer  \n",
    "2. Float/Double, long . Long not discussed here  \n",
    "3. String: Single and double quotes can be used interchangably  \n",
    "4. Logical/Boolean: True or False are recognized as logical values, values are case sensitive  \n",
    "\n",
    "Declaration like in C is not required, assigning value to a variable leads to an auto declaration of variable.  \n",
    "type() can be used to check type of variable, = is used for assignment.\n",
    "\n",
    "### Function to coerce \n",
    "'''int(), long(),float(),str()'''"
   ]
  },
  {
   "cell_type": "code",
   "execution_count": 11,
   "metadata": {
    "scrolled": true
   },
   "outputs": [
    {
     "name": "stdout",
     "output_type": "stream",
     "text": [
      "8\n",
      "4.69\n",
      "2.0\n"
     ]
    },
    {
     "data": {
      "text/plain": [
       "bool"
      ]
     },
     "execution_count": 11,
     "metadata": {},
     "output_type": "execute_result"
    }
   ],
   "source": [
    "import math\n",
    "# Arithmetic Operations \n",
    "A=3  \n",
    "B=5  \n",
    "C= A+B  \n",
    "print (C) # print command is proper way to print  \n",
    "E= 2.345  \n",
    "F= 4.69  \n",
    "G=F/E # returns quotient , F//E returns floored value of quotient , F % E returns remainder  \n",
    "pow(F,E) #or \n",
    "F ** E #is F exponential to E.   \n",
    "print (F)  \n",
    "print (G) # Using print () function lets you print multiple output together  \n",
    "#Python 2.7 requires print to be used as print G  \n",
    "#Python 2.7 also auto rounds off the result, when a integer is divided by integer  \n",
    "#Logical Operators and Boolean variables  \n",
    "a=4  \n",
    "b=5  \n",
    "c=a>b  \n",
    "type(c)  "
   ]
  },
  {
   "cell_type": "code",
   "execution_count": 10,
   "metadata": {
    "scrolled": true
   },
   "outputs": [
    {
     "name": "stdout",
     "output_type": "stream",
     "text": [
      "8\n",
      "4.69\n",
      "2.0\n"
     ]
    },
    {
     "data": {
      "text/plain": [
       "bool"
      ]
     },
     "execution_count": 10,
     "metadata": {},
     "output_type": "execute_result"
    }
   ],
   "source": [
    "# Logical operations\n",
    "'#==,!= or <>'  for comparison  \n",
    "'#>,< ,<=,>='  \n",
    "'# and, or, not' are logical operators, unlike &,| in R  \n",
    "\n",
    "# Operations on strings\n",
    "i=\"I\"  \n",
    "l=\"Love You\"  \n",
    "i+\" \"+l  \n",
    "\n",
    "'''The statements in python need not be separated by , or ;\n",
    "Indexing Strings to get a character  '''\n",
    "x=\"Monday\"  \n",
    "x[4]  \n",
    "\n",
    "'''Converting to string data type, case conversion  \n",
    "Function str() can be used to convert a data type into string  \n",
    "An object with string data type, can use methods upper() and lower() for case conversion  \n",
    "'''\n",
    "\n",
    "'''Printing a string with variable names  \n",
    "Use %s,and then specify variables using %().  \n",
    "'''\n",
    "name=\"sumad\"  \n",
    "print (\"My name is %s\" %name)  \n",
    "\n",
    "'''Escape characters : characters that cannot be printed  \n",
    " Use of escape characters like \\n , \\t ,\\scan work in strings'''   \n",
    "\n",
    "print ('The newline \\n will expand')     \n",
    "\n",
    "# Use of an ' needs a \\   '''   \n",
    "print ('i\\'ll be back')  \n",
    "a='Sumad'  \n",
    "b='Singh'  \n",
    "print ('My name is \\t' + a )  \n",
    "\n",
    "'''Strings can be accessed using indexing methods used for lists,Strings are immutable through  \n",
    "Strings can be compared with the standard operators listed above: ==, !=, <, >, <=, and >=.  \n",
    "'''\n",
    "\n",
    "x='Sumad Singh'  \n",
    "y='Sumad'  \n",
    "x!=y \n",
    "\n",
    "'''in and not in can be used to test string membership i.e if a charcter exists in a string  \n",
    "String Functions/methods  \n",
    "Join(), lower(), upper(),find(),split(),startWith(),endsWith(),count() can be used  \n",
    "http://www.tutorialspoint.com/python/python_strings.htm  \n",
    "'''\n",
    "\n",
    "'''String formatting using operator %  \n",
    "Like %s was used to print variables that were of string data type,  \n",
    "%c, %i,%d ,%ecan be used to print charcter, interger and decimal data and exponential notation  \n",
    "'''\n"
   ]
  },
  {
   "cell_type": "code",
   "execution_count": 1,
   "metadata": {},
   "outputs": [],
   "source": [
    "'''Date time class and object  \n",
    "Use datetime library in python  \n",
    "'''\n",
    "from datetime import datetime  \n",
    "now=datetime.now()  \n",
    "type(now)  \n",
    "\n",
    "'''To get a string output of dates, you can do  \n",
    "'''\n",
    "date=\"%s-%s-%s\" %(now.month,now.day,now.year)  \n",
    "\n",
    "'''Similarly to get time:  \n",
    "'''\n",
    "time= '%s:%s:%s' %(now.hour, now.minute, now.second)"
   ]
  },
  {
   "cell_type": "code",
   "execution_count": null,
   "metadata": {
    "collapsed": true
   },
   "outputs": [],
   "source": []
  }
 ],
 "metadata": {
  "kernelspec": {
   "display_name": "Python 3",
   "language": "python",
   "name": "python3"
  },
  "language_info": {
   "codemirror_mode": {
    "name": "ipython",
    "version": 3
   },
   "file_extension": ".py",
   "mimetype": "text/x-python",
   "name": "python",
   "nbconvert_exporter": "python",
   "pygments_lexer": "ipython3",
   "version": "3.6.1"
  }
 },
 "nbformat": 4,
 "nbformat_minor": 2
}
