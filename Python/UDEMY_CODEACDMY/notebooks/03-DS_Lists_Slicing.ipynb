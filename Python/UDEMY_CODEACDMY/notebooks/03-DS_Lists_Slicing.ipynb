{
 "cells": [
  {
   "cell_type": "markdown",
   "metadata": {},
   "source": [
    "### Data structures - LISTS\n",
    "A data structure in Python. List is like the vector data strucure in R, except that in can store multiple data types\n",
    " A list can be defined as ordered set of elements, where elements could be integers,floats,strings, logical or event lists.  \n",
    "Indexing in Python starts from 0, unlike in R where it starts from1\n",
    "One method of creating list is using [] brackets\n"
   ]
  },
  {
   "cell_type": "code",
   "execution_count": 12,
   "metadata": {
    "collapsed": true
   },
   "outputs": [],
   "source": [
    "lis=[\"Hello\",10,32.5,True]\n",
    "type(lis)\n",
    "\n",
    "lis2=[\"why python\",2,lis]\n",
    "lis2\n",
    "['why python', 2, ['Hello', 10, 32.5, True]]\n",
    "lis2[0]\n",
    "\n",
    "# Common functions :Sequence generator function range()\n",
    "x=range(5)\n",
    "x\n",
    "#range(0, 5)\n",
    "\n",
    "type(x)\n",
    "#range\n",
    "\n",
    "y=list(range(1,10,1))\n",
    "#[1, 2, 3, 4, 5, 6, 7, 8, 9]\n"
   ]
  },
  {
   "cell_type": "markdown",
   "metadata": {},
   "source": [
    "### you can use list and function range to generate a sequence with a desired start and interval. \n",
    "Range () : Return an object that produces a sequence of integers from start (inclusive)\n",
    "to stop (exclusive) by step.  range(i, j) produces i, i+1, i+2, ..., j-1.\n",
    "start defaults to 0, and stop is omitted!  range(4) produces 0, 1, 2, 3.\n",
    "These are exactly the valid indices for a list of 4 elements.\n",
    "When step is given, it specifies the increment (or decrement)"
   ]
  },
  {
   "cell_type": "markdown",
   "metadata": {},
   "source": [
    "## Initializing a list, appending and indexing\n",
    "A list of a specific size can be defined by filling it with None – which is a special character in Python like \n",
    "NULL in R"
   ]
  },
  {
   "cell_type": "code",
   "execution_count": 3,
   "metadata": {},
   "outputs": [
    {
     "data": {
      "text/plain": [
       "9"
      ]
     },
     "execution_count": 3,
     "metadata": {},
     "output_type": "execute_result"
    }
   ],
   "source": [
    "\n",
    "a=[None]*6\n",
    "\n",
    "#You can append to a list by using append() function\n",
    "a.append(\"test\")\n",
    "\n",
    "# Indexing and accessing elements of a list\n",
    "y[len(y)-1] \n",
    "\n",
    "# Negative indexing , Python has a negative indexing context, the last element is indexed -1 and index \n",
    "# increases towards the left\n",
    "y[-1] \n"
   ]
  },
  {
   "cell_type": "markdown",
   "metadata": {},
   "source": [
    "## Inserting to a list, searching, sorting a list"
   ]
  },
  {
   "cell_type": "code",
   "execution_count": 13,
   "metadata": {},
   "outputs": [
    {
     "name": "stdout",
     "output_type": "stream",
     "text": [
      "5\n",
      "[1, 2, 3, 2.5, 4, 5, 6, 7, 8, 9]\n",
      "[1, 2, 2.5, 3, 4, 5, 6, 7, 8, 9]\n"
     ]
    }
   ],
   "source": [
    "# We can search and retrieve index with a search \n",
    "print (y.index(6))\n",
    "\n",
    "# Can also insert an element in a list and the elements slide to the right, inserting is different from replacement\n",
    "y.insert(3,2.5)\n",
    "print(y)\n",
    "\n",
    "# sort method modifies the list, does not return a new list\n",
    "y.sort()\n",
    "print(y)"
   ]
  },
  {
   "cell_type": "markdown",
   "metadata": {},
   "source": [
    "### Removing an item from the list\n",
    "Can use list.pop(index) or list.remove(item) or del (list[index]). All methods modify yhe original list."
   ]
  },
  {
   "cell_type": "code",
   "execution_count": 14,
   "metadata": {},
   "outputs": [
    {
     "name": "stdout",
     "output_type": "stream",
     "text": [
      "[1, 2, 3, 4, 5, 6, 7, 8, 9]\n"
     ]
    }
   ],
   "source": [
    "y.remove(2.5)\n",
    "print(y)"
   ]
  },
  {
   "cell_type": "markdown",
   "metadata": {},
   "source": [
    "### Slicing (with lists)\n",
    "Slicing is same as subsetting in R. But, slicing can also be used to generate sequences.  \n",
    "Let us look at subsetting lists , we use [] and : to create subsets\n",
    "#### Three components that could be specified – \n",
    "1. Starting index, this could use positive indexing/negative indexing \n",
    "2. targeted end index, the actual element targeted is the (specified -1) index\n",
    "3. jump interval"
   ]
  },
  {
   "cell_type": "code",
   "execution_count": 1,
   "metadata": {},
   "outputs": [
    {
     "data": {
      "text/plain": [
       "['f', 'e', 'd', 1, 'b']"
      ]
     },
     "execution_count": 1,
     "metadata": {},
     "output_type": "execute_result"
    }
   ],
   "source": [
    "lis=[\"a\",\"b\",1,\"d\",\"e\",\"f\",\"g\"]\n",
    "lis[1:]\n",
    "#['b', 1, 'd', 'e', 'f', 'g']\n",
    "lis[:6]\n",
    "#['a', 'b', 1, 'd', 'e', 'f']\n",
    "lis[0::2]\n",
    "#['a', 1, 'e', 'g']\n",
    "\n",
    "# If using negative indexation, the returned list will be ordered from last elements of parent list\n",
    "lis[-1::-1]\n",
    "#['g', 'f', 'e', 'd', 1, 'b', 'a']\n",
    "\n",
    "# you could also think of indexation while slicing as ‘from’ to ‘to’ , and then ‘step’\n",
    "#if you use 6:1,-1 this will work\n",
    "lis[5:0:-1]\n",
    "#['f', 'e', 'd', 1, 'b']\n",
    "\n",
    "# Remember slicing with positive as well as negative indexation does not take the last index specified but index-1"
   ]
  }
 ],
 "metadata": {
  "kernelspec": {
   "display_name": "Python 3",
   "language": "python",
   "name": "python3"
  },
  "language_info": {
   "codemirror_mode": {
    "name": "ipython",
    "version": 3
   },
   "file_extension": ".py",
   "mimetype": "text/x-python",
   "name": "python",
   "nbconvert_exporter": "python",
   "pygments_lexer": "ipython3",
   "version": "3.6.3"
  }
 },
 "nbformat": 4,
 "nbformat_minor": 2
}
