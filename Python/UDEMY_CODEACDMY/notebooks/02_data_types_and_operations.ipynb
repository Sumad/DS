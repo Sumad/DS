{
 "cells": [
  {
   "cell_type": "markdown",
   "metadata": {
    "collapsed": true
   },
   "source": [
    "### Types of variables/fundamental data types\n",
    "Four types considered for being relevant to Data science:  \n",
    "1. Integer  \n",
    "2. Float/Double, long . Long not discussed here  \n",
    "3. String: Single and double quotes can be used interchangably  \n",
    "4. Logical/Boolean: True or False are recognized as logical values, values are case sensitive  \n",
    "\n",
    "Declaration like in C is not required, assigning value to a variable leads to an auto declaration of variable.  \n",
    "type() can be used to check type of variable, = is used for assignment.\n",
    "\n",
    "### Function to coerce \n",
    "'''int(), long(),float(),str()'''"
   ]
  },
  {
   "cell_type": "code",
   "execution_count": 1,
   "metadata": {
    "scrolled": true
   },
   "outputs": [
    {
     "name": "stdout",
     "output_type": "stream",
     "text": [
      "8\n",
      "2\n",
      "4.69\n",
      "2.0\n"
     ]
    },
    {
     "data": {
      "text/plain": [
       "bool"
      ]
     },
     "execution_count": 1,
     "metadata": {},
     "output_type": "execute_result"
    }
   ],
   "source": [
    "import math\n",
    "# Arithmetic Operations \n",
    "A=3  \n",
    "B=5  \n",
    "C= A+B  \n",
    "print (C) # print command is proper way to print  \n",
    "E= 2.345  \n",
    "F= 4.69  \n",
    "G=F/E # returns quotient , F//E returns floored value of quotient , F % E returns remainder  \n",
    "pow(F,E) #or \n",
    "F ** E #is F exponential to E.   \n",
    "print(B%A) # modulus operator to get remainder\n",
    "print (F)  \n",
    "print (G) # Using print () function lets you print multiple output together  \n",
    "#Python 2.7 requires print to be used as print G  \n",
    "#Python 2.7 also auto rounds off the result, when a integer is divided by integer  \n",
    "#Logical Operators and Boolean variables  \n",
    "a=4  \n",
    "b=5  \n",
    "c=a>b  \n",
    "type(c)  "
   ]
  },
  {
   "cell_type": "markdown",
   "metadata": {},
   "source": [
    "## Integer and float conversions\n",
    "When you divide an integer by another integer, the result is always an integer (rounded down, if needed).\n",
    "When you divide a float by an integer, the result is always a float.\n",
    "To divide two integers and end up with a float, you must first use float() to convert one of the integers to a float."
   ]
  },
  {
   "cell_type": "code",
   "execution_count": 10,
   "metadata": {
    "scrolled": true
   },
   "outputs": [
    {
     "name": "stdout",
     "output_type": "stream",
     "text": [
      "8\n",
      "4.69\n",
      "2.0\n"
     ]
    },
    {
     "data": {
      "text/plain": [
       "bool"
      ]
     },
     "execution_count": 10,
     "metadata": {},
     "output_type": "execute_result"
    }
   ],
   "source": [
    "# Logical operations\n",
    "'#==,!= or <>'  for comparison  \n",
    "'#>,< ,<=,>='  \n",
    "'# and, or, not' are boolean operators, unlike &,| in R  \n",
    "\n"
   ]
  },
  {
   "cell_type": "markdown",
   "metadata": {},
   "source": [
    "## Operations on strings\n",
    "i=\"I\"  \n",
    "l=\"Love You\"  \n",
    "i+\" \"+l  \n",
    "\n",
    "'''The statements in python need not be separated by , or ;'''\n",
    "\n",
    "### Indexing Strings to get a character  \n",
    "x=\"Monday\"  \n",
    "x[4]  \n",
    "\n",
    "\n",
    "\n",
    "\n"
   ]
  },
  {
   "cell_type": "markdown",
   "metadata": {},
   "source": [
    "### Converting to string data type, case conversion  \n",
    "Function str() can be used to convert a data type into string  \n",
    "\n",
    "An object with string data type, can use methods upper() and lower() for case conversion  \n"
   ]
  },
  {
   "cell_type": "markdown",
   "metadata": {},
   "source": [
    "### String Formatting\n",
    "'''Printing a string with variable names  \n",
    "Use %s,and then specify variables using %().  \n",
    "'''"
   ]
  },
  {
   "cell_type": "code",
   "execution_count": 4,
   "metadata": {},
   "outputs": [
    {
     "name": "stdout",
     "output_type": "stream",
     "text": [
      "My name is sumad\n",
      "The newline \n",
      " will expand\n"
     ]
    }
   ],
   "source": [
    "name=\"sumad\"  \n",
    "print (\"My name is %s\" %(name))  \n",
    "\n",
    "'''Escape characters : characters that cannot be printed  \n",
    " Use of escape characters like \\n , \\t ,\\scan work in strings'''   \n",
    "\n",
    "print ('The newline \\n will expand')     "
   ]
  },
  {
   "cell_type": "code",
   "execution_count": 6,
   "metadata": {},
   "outputs": [
    {
     "name": "stdout",
     "output_type": "stream",
     "text": [
      "i'll be back\n",
      "My name is \tSumad\n"
     ]
    }
   ],
   "source": [
    "# Use of an ' needs a \\   '''   \n",
    "print ('i\\'ll be back')  \n",
    "a='Sumad'  \n",
    "b='Singh'  \n",
    "print ('My name is \\t' + a )  \n"
   ]
  },
  {
   "cell_type": "markdown",
   "metadata": {},
   "source": [
    "Strings can be accessed using indexing methods used for lists,Strings are immutable through  \n",
    "Strings can be compared with the standard operators listed above: ==, !=, <, >, <=, and >=.  "
   ]
  },
  {
   "cell_type": "code",
   "execution_count": 7,
   "metadata": {},
   "outputs": [
    {
     "data": {
      "text/plain": [
       "True"
      ]
     },
     "execution_count": 7,
     "metadata": {},
     "output_type": "execute_result"
    }
   ],
   "source": [
    "x='Sumad Singh'  \n",
    "y='Sumad'  \n",
    "x!=y "
   ]
  },
  {
   "cell_type": "markdown",
   "metadata": {},
   "source": [
    "in and not in can be used to test string membership i.e if a charcter exists in a string  \n",
    "String Functions/methods that are available from an object that is string\n",
    "Join(), lower(), upper(),find(),split(),startWith(),endsWith(),count() can be used  \n",
    "http://www.tutorialspoint.com/python/python_strings.htm  "
   ]
  },
  {
   "cell_type": "markdown",
   "metadata": {},
   "source": [
    "String formatting using operator %  \n",
    "Like %s was used to print variables that were of string data type,  \n",
    "%c, %i,%d ,%e can be used to print charcter, interger and decimal data and exponential notation  "
   ]
  },
  {
   "cell_type": "code",
   "execution_count": 1,
   "metadata": {
    "collapsed": true
   },
   "outputs": [],
   "source": [
    "'''Date time class and object  \n",
    "Use datetime library in python  \n",
    "'''\n",
    "from datetime import datetime  \n",
    "now=datetime.now()  \n",
    "type(now)  \n",
    "\n",
    "'''To get a string output of dates, you can do  \n",
    "'''\n",
    "date=\"%s-%s-%s\" %(now.month,now.day,now.year)  \n",
    "\n",
    "'''Similarly to get time:  \n",
    "'''\n",
    "time= '%s:%s:%s' %(now.hour, now.minute, now.second)"
   ]
  },
  {
   "cell_type": "markdown",
   "metadata": {
    "collapsed": true
   },
   "source": [
    "## Boolean Operators \n",
    "and, or, not   \n",
    "not, and, or are evaluated in this order, units in parentheses are solved first"
   ]
  },
  {
   "cell_type": "code",
   "execution_count": null,
   "metadata": {
    "collapsed": true
   },
   "outputs": [],
   "source": []
  }
 ],
 "metadata": {
  "kernelspec": {
   "display_name": "Python 3",
   "language": "python",
   "name": "python3"
  },
  "language_info": {
   "codemirror_mode": {
    "name": "ipython",
    "version": 3
   },
   "file_extension": ".py",
   "mimetype": "text/x-python",
   "name": "python",
   "nbconvert_exporter": "python",
   "pygments_lexer": "ipython3",
   "version": "3.6.3"
  }
 },
 "nbformat": 4,
 "nbformat_minor": 2
}
