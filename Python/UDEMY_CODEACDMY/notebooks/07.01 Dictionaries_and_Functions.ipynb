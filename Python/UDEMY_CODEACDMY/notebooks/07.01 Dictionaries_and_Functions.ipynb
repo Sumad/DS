{
 "cells": [
  {
   "cell_type": "markdown",
   "metadata": {},
   "source": [
    "## Dictionaries and Functions\n",
    "### 1. Create dictionary for students"
   ]
  },
  {
   "cell_type": "code",
   "execution_count": 1,
   "metadata": {
    "collapsed": true
   },
   "outputs": [],
   "source": [
    "lloyd = {\n",
    "  \"name\": \"Lloyd\",\n",
    "  \"homework\": [90.0, 97.0, 75.0, 92.0],\n",
    "  \"quizzes\": [88.0, 40.0, 94.0],\n",
    "  \"tests\": [75.0, 90.0]\n",
    "}\n",
    "alice = {\n",
    "  \"name\": \"Alice\",\n",
    "  \"homework\": [100.0, 92.0, 98.0, 100.0],\n",
    "  \"quizzes\": [82.0, 83.0, 91.0],\n",
    "  \"tests\": [89.0, 97.0]\n",
    "}\n",
    "tyler = {\n",
    "  \"name\": \"Tyler\",\n",
    "  \"homework\": [0.0, 87.0, 75.0, 22.0],\n",
    "  \"quizzes\": [0.0, 75.0, 78.0],\n",
    "  \"tests\": [100.0, 100.0]\n",
    "}\n",
    "\n"
   ]
  },
  {
   "cell_type": "markdown",
   "metadata": {},
   "source": [
    "### 2. Create functions to find weighted averages,  grade give avg., and class avg."
   ]
  },
  {
   "cell_type": "code",
   "execution_count": 3,
   "metadata": {
    "collapsed": true
   },
   "outputs": [],
   "source": [
    "\n",
    "# Add your function below!\n",
    "def get_average(student):\n",
    "  homework = float(sum(student['homework'])) \n",
    "  homework_avg = homework /           len(student['homework'])\n",
    "  quizzes = float(sum(student['quizzes'])) \n",
    "  quizzes_avg = quizzes / len(student['quizzes'])\n",
    "  tests = float(sum(student['tests'])) \n",
    "  tests_avg = tests / len(student['tests'])\n",
    "  average = .1 * homework_avg + .3 * quizzes_avg + .6 * tests_avg\n",
    "  return(average)\n",
    "\n",
    "def get_letter_grade (score):\n",
    "  if score >= 90:\n",
    "    return (\"A\")\n",
    "  elif score >= 80:\n",
    "    return (\"B\")\n",
    "  elif score >= 70:\n",
    "    return (\"C\")\n",
    "  elif score >= 60:\n",
    "    return (\"D\")\n",
    "  else:\n",
    "    return (\"F\")\n",
    "    \n",
    "\n",
    "def get_class_average(class_list):\n",
    "  results = []\n",
    "  for student in class_list:\n",
    "    avg_student = get_average(student)\n",
    "    results.append(avg_student)\n",
    "    avg_class = sum(results) / len(results)\n",
    "  return(avg_class)\n",
    "\n"
   ]
  },
  {
   "cell_type": "code",
   "execution_count": 4,
   "metadata": {},
   "outputs": [
    {
     "data": {
      "text/plain": [
       "'B'"
      ]
     },
     "execution_count": 4,
     "metadata": {},
     "output_type": "execute_result"
    }
   ],
   "source": [
    "# Get class grade\n",
    "get_letter_grade(get_average(lloyd)) "
   ]
  },
  {
   "cell_type": "markdown",
   "metadata": {},
   "source": [
    "### 3. Get and print class avg,"
   ]
  },
  {
   "cell_type": "code",
   "execution_count": 5,
   "metadata": {},
   "outputs": [
    {
     "name": "stdout",
     "output_type": "stream",
     "text": [
      "The class average for students Lloyd Alice Tyler is 83.866667\n",
      " Class's grade is B\n"
     ]
    }
   ],
   "source": [
    "students = [lloyd, alice, tyler]\n",
    "class_avg = get_class_average(students)\n",
    "\n",
    "print(\"The class average for students %s %s %s is %f\" %(students[0][\"name\"], students[1][\"name\"], students[2][\"name\"], class_avg ))\n",
    "      \n",
    "print (\" Class's grade is %s\" \n",
    "       %(get_letter_grade(class_avg)))"
   ]
  },
  {
   "cell_type": "markdown",
   "metadata": {},
   "source": [
    "## Note: students is a list of dictionaries!! If dictionary names were not defined, it will throw error"
   ]
  },
  {
   "cell_type": "code",
   "execution_count": 8,
   "metadata": {
    "collapsed": true
   },
   "outputs": [],
   "source": [
    "students = [lloyd, alice, tyler]"
   ]
  },
  {
   "cell_type": "code",
   "execution_count": 9,
   "metadata": {},
   "outputs": [
    {
     "data": {
      "text/plain": [
       "list"
      ]
     },
     "execution_count": 9,
     "metadata": {},
     "output_type": "execute_result"
    }
   ],
   "source": [
    "type(students)"
   ]
  }
 ],
 "metadata": {
  "kernelspec": {
   "display_name": "Python 3",
   "language": "python",
   "name": "python3"
  },
  "language_info": {
   "codemirror_mode": {
    "name": "ipython",
    "version": 3
   },
   "file_extension": ".py",
   "mimetype": "text/x-python",
   "name": "python",
   "nbconvert_exporter": "python",
   "pygments_lexer": "ipython3",
   "version": "3.6.3"
  }
 },
 "nbformat": 4,
 "nbformat_minor": 2
}
