{
 "cells": [
  {
   "cell_type": "markdown",
   "metadata": {},
   "source": [
    "### Functional programming tools\n",
    "There are three functions filter(), map() and reduce() in python that are useful when used with lists.  \n",
    "Recall, that performing operations on lists like squaring each element or dividing each element of a  \n",
    "list with that of another is not possible.  \n",
    "The above functions, give ability like apply family of functions in R. These require defining    \n",
    "a function as first argument and a list or a sequence as the second argument.  \n"
   ]
  },
  {
   "cell_type": "code",
   "execution_count": 13,
   "metadata": {},
   "outputs": [
    {
     "name": "stdout",
     "output_type": "stream",
     "text": [
      "[10]\n"
     ]
    },
    {
     "data": {
      "text/plain": [
       "filter"
      ]
     },
     "execution_count": 13,
     "metadata": {},
     "output_type": "execute_result"
    }
   ],
   "source": [
    "def fun(x):\n",
    "    y=(x>2) and (x**2>9)\n",
    "    return y\n",
    "\n",
    "y = filter(fun,[1,3,10])\n",
    "print(list(y))\n",
    "type(y)"
   ]
  },
  {
   "cell_type": "markdown",
   "metadata": {},
   "source": [
    "### Map() \n",
    "applies function to each element of sequence and returns a sequence. From Python 3 and onwards, it does not return a list\n"
   ]
  },
  {
   "cell_type": "code",
   "execution_count": 14,
   "metadata": {},
   "outputs": [
    {
     "name": "stdout",
     "output_type": "stream",
     "text": [
      "<map object at 0x000002293B1AE748>\n"
     ]
    },
    {
     "data": {
      "text/plain": [
       "[[0.5, 1], [1.5, 9], [2.5, 25]]"
      ]
     },
     "execution_count": 14,
     "metadata": {},
     "output_type": "execute_result"
    }
   ],
   "source": [
    "def fun2(x):\n",
    "    y=[(x/2),(x**2)]\n",
    "    return y\n",
    "\n",
    "t = map(fun2,[1,3,5])\n",
    "print(t)\n",
    "list(t)"
   ]
  },
  {
   "cell_type": "markdown",
   "metadata": {},
   "source": [
    "#### Reduce () \n",
    "applies the function to two elements at a time, starting from first element of the sequence, replacing operated elements with their result, and continuing till the end of sequence. It then returns a single data point.  \n",
    "In Python3 and onwards, reduce has been removed, it is however available in a separate package functools\n"
   ]
  },
  {
   "cell_type": "code",
   "execution_count": 23,
   "metadata": {},
   "outputs": [
    {
     "data": {
      "text/plain": [
       "13"
      ]
     },
     "execution_count": 23,
     "metadata": {},
     "output_type": "execute_result"
    }
   ],
   "source": [
    "import functools\n",
    "def fun3(x,y):\n",
    "    return(x+y)\n",
    "\n",
    "t = functools.reduce(fun3,[1,5,2,5])\n",
    "t"
   ]
  },
  {
   "cell_type": "markdown",
   "metadata": {},
   "source": [
    "#### Lambda Expressions\n",
    "Lambda expressions are used to create arbitrary functions, without having to name the functions. Use keyword lambda\n",
    "They do not need a return statement, they involve evaluating an expressions and returning it\n"
   ]
  },
  {
   "cell_type": "code",
   "execution_count": 24,
   "metadata": {},
   "outputs": [
    {
     "data": {
      "text/plain": [
       "64"
      ]
     },
     "execution_count": 24,
     "metadata": {},
     "output_type": "execute_result"
    }
   ],
   "source": [
    "G=lambda x: x**3\n",
    "G(4)"
   ]
  },
  {
   "cell_type": "markdown",
   "metadata": {},
   "source": [
    "Lambda functions are useful when used with these functional programming tools"
   ]
  },
  {
   "cell_type": "code",
   "execution_count": 25,
   "metadata": {},
   "outputs": [
    {
     "name": "stdout",
     "output_type": "stream",
     "text": [
      "[3, 5, 6, 9, 10, 12, 15, 18, 20, 21, 24]\n",
      "['Sumad', 'Sudarshan', 'Manju', 'Bhanu', 'Rock', 'Rochana', 'abc']\n"
     ]
    }
   ],
   "source": [
    "#Examples of filter():\n",
    "def f(x): return x % 3 == 0 or x % 5 == 0\n",
    "x = filter(f, range(2, 25))\n",
    "print(list(x))\n",
    "\n",
    "x= ['Sumad','Sudarshan','Manju','Bhanu','Rock','Rochana','ab','abc']\n",
    "y=filter(lambda x:len(x)>=3,x)\n",
    "print(list(y))\n"
   ]
  },
  {
   "cell_type": "code",
   "execution_count": 26,
   "metadata": {},
   "outputs": [
    {
     "data": {
      "text/plain": [
       "[1728, 3375, 5832, 8000, 9261, 13824]"
      ]
     },
     "execution_count": 26,
     "metadata": {},
     "output_type": "execute_result"
    }
   ],
   "source": [
    "# Example of map():\n",
    "z=[12, 15, 18, 20, 21, 24]\n",
    "list(map(lambda x:x**3, z))\n"
   ]
  },
  {
   "cell_type": "code",
   "execution_count": 27,
   "metadata": {},
   "outputs": [
    {
     "data": {
      "text/plain": [
       "110"
      ]
     },
     "execution_count": 27,
     "metadata": {},
     "output_type": "execute_result"
    }
   ],
   "source": [
    "# Example of reduce():\n",
    "ip=[12, 15, 18, 20, 21, 24]\n",
    "functools.reduce(lambda x, y: x+y, ip)    \n"
   ]
  }
 ],
 "metadata": {
  "kernelspec": {
   "display_name": "Python 3",
   "language": "python",
   "name": "python3"
  },
  "language_info": {
   "codemirror_mode": {
    "name": "ipython",
    "version": 3
   },
   "file_extension": ".py",
   "mimetype": "text/x-python",
   "name": "python",
   "nbconvert_exporter": "python",
   "pygments_lexer": "ipython3",
   "version": "3.6.1"
  }
 },
 "nbformat": 4,
 "nbformat_minor": 2
}
