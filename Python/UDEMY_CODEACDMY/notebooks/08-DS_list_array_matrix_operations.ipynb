{
 "cells": [
  {
   "cell_type": "markdown",
   "metadata": {},
   "source": [
    "#### Matrix Operations\n",
    "Scalar Operation like division, additon, subtraction in python are simple for arrays, unlike operations on lists\n"
   ]
  },
  {
   "cell_type": "code",
   "execution_count": 55,
   "metadata": {
    "collapsed": true
   },
   "outputs": [],
   "source": [
    "# Importing a jupyter notebook to get data set\n",
    "%run 06-Dataset_Creation.ipynb"
   ]
  },
  {
   "cell_type": "code",
   "execution_count": 56,
   "metadata": {
    "collapsed": true
   },
   "outputs": [],
   "source": [
    "salary_1= Salary[:,Pdict[\"KobeBryant\"]] # gives an array object\n",
    "salary_2 = Salary[:,Pdict[\"JoeJohnson\"]] # gives an array object"
   ]
  },
  {
   "cell_type": "code",
   "execution_count": 57,
   "metadata": {},
   "outputs": [
    {
     "data": {
      "text/plain": [
       "array([33665625, 24744189, 10449890,  8407681,  9299880,  7583220,\n",
       "        6524400,        0,        0,  6873363])"
      ]
     },
     "execution_count": 57,
     "metadata": {},
     "output_type": "execute_result"
    }
   ],
   "source": [
    "salary_total_array=salary_1+salary_2\n",
    "salary_total_array"
   ]
  },
  {
   "cell_type": "code",
   "execution_count": 61,
   "metadata": {},
   "outputs": [
    {
     "name": "stderr",
     "output_type": "stream",
     "text": [
      "C:\\ProgramData\\Anaconda3\\lib\\site-packages\\ipykernel_launcher.py:2: RuntimeWarning: invalid value encountered in true_divide\n",
      "  \n"
     ]
    },
    {
     "data": {
      "text/plain": [
       "array([ 0.9 ,  0.94,  0.79,  0.79,  0.93,  0.79,  0.93,   nan,   nan,  0.79])"
      ]
     },
     "execution_count": 61,
     "metadata": {},
     "output_type": "execute_result"
    }
   ],
   "source": [
    "# Rounding off can be done using a function within numpy array object \n",
    "salary_div_array=salary_1/salary_2\n",
    "salary_div_array.round(2)\n",
    "\n",
    "# Addition, subtraction and multiplication also work element by element for arrays"
   ]
  },
  {
   "cell_type": "code",
   "execution_count": 63,
   "metadata": {},
   "outputs": [
    {
     "data": {
      "text/plain": [
       "array([ 0.9 ,  0.94,  0.79,  0.79,  0.93,  0.79,  0.93,   nan,   nan,  0.79])"
      ]
     },
     "execution_count": 63,
     "metadata": {},
     "output_type": "execute_result"
    }
   ],
   "source": [
    "# Other way around is use a function matrix.round within numpy array object\n",
    "np.matrix.round(salary_div_array,2)\n"
   ]
  },
  {
   "cell_type": "markdown",
   "metadata": {},
   "source": [
    "#### Operations with Lists\n",
    "Lists can have data of multiple data types, so arithmetic operation, logical operations are not\n",
    "applicable to lists"
   ]
  },
  {
   "cell_type": "code",
   "execution_count": 59,
   "metadata": {},
   "outputs": [
    {
     "data": {
      "text/plain": [
       "[10, 20, 30, 20, 30, 40]"
      ]
     },
     "execution_count": 59,
     "metadata": {},
     "output_type": "execute_result"
    }
   ],
   "source": [
    "# Scalar Operation like division, additon, subtraction in python are not supported with lists\n",
    "salary_yr1 = [10,20,30]\n",
    "salary_yr2 = [20,30,40]\n",
    "salary_total_list = salary_yr1 + salary_yr2\n",
    "salary_total_list\n",
    "# [10, 20, 30, 20, 30, 40]\n",
    "# lists were concatenated\n",
    "\n",
    "# Subtraction, multiplication, division is not supported"
   ]
  },
  {
   "cell_type": "code",
   "execution_count": 60,
   "metadata": {},
   "outputs": [
    {
     "name": "stderr",
     "output_type": "stream",
     "text": [
      "C:\\ProgramData\\Anaconda3\\lib\\site-packages\\ipykernel_launcher.py:4: RuntimeWarning: invalid value encountered in true_divide\n",
      "  after removing the cwd from sys.path.\n"
     ]
    },
    {
     "data": {
      "text/plain": [
       "array([ 0.9       ,  0.94160562,  0.79302138,  0.79113923,  0.93476633,\n",
       "        0.79051383,  0.93020449,         nan,         nan,  0.78926591])"
      ]
     },
     "execution_count": 60,
     "metadata": {},
     "output_type": "execute_result"
    }
   ],
   "source": [
    "# Division Operation\n",
    "#salary_div_list =salary_yr1/salary_yr2\n",
    "# This will throw an error as operation is not supported on lists, same for \n"
   ]
  },
  {
   "cell_type": "code",
   "execution_count": 1,
   "metadata": {
    "collapsed": true
   },
   "outputs": [],
   "source": [
    "# Boolean operations are not supported as well\n",
    "z = [1,2,3]\n",
    "# z < 2 will throw an error"
   ]
  }
 ],
 "metadata": {
  "kernelspec": {
   "display_name": "Python 3",
   "language": "python",
   "name": "python3"
  },
  "language_info": {
   "codemirror_mode": {
    "name": "ipython",
    "version": 3
   },
   "file_extension": ".py",
   "mimetype": "text/x-python",
   "name": "python",
   "nbconvert_exporter": "python",
   "pygments_lexer": "ipython3",
   "version": "3.6.1"
  }
 },
 "nbformat": 4,
 "nbformat_minor": 2
}
