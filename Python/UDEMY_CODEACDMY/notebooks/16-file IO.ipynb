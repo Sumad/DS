{
 "cells": [
  {
   "cell_type": "markdown",
   "metadata": {},
   "source": [
    "# Topics\n",
    "## 1. Opening a connection to a file\n",
    "## 2. Modes - r, w, a\n",
    "## 3. Reading and Writing\n",
    "## 4. Reading line by line instead of full read\n",
    "## 5. Buffering data\n",
    "## 6. Ensuring connections are closed"
   ]
  },
  {
   "cell_type": "code",
   "execution_count": 3,
   "metadata": {},
   "outputs": [
    {
     "data": {
      "text/plain": [
       "'C:\\\\Users\\\\sumad.singh\\\\Documents\\\\DS\\\\Python\\\\UDEMY_CODEACDMY\\\\notebooks'"
      ]
     },
     "execution_count": 3,
     "metadata": {},
     "output_type": "execute_result"
    }
   ],
   "source": [
    "import sys\n",
    "import os\n",
    "#os.getcwd()"
   ]
  },
  {
   "cell_type": "code",
   "execution_count": 7,
   "metadata": {
    "collapsed": true
   },
   "outputs": [],
   "source": [
    "#1, 2\n",
    "my_file = open(\"output.txt\", \"a\")  # mode a opens the file if it does not exist, if it does it appends to it"
   ]
  },
  {
   "cell_type": "code",
   "execution_count": 9,
   "metadata": {
    "collapsed": true
   },
   "outputs": [],
   "source": [
    "#3. Wiriting\n",
    "\n",
    "my_list = [i ** 2 for i in range(1, 11)]\n",
    "# Add your code below!\n",
    "for el in my_list:\n",
    "  my_file.write(str(el)+\"\\n\")   # Write needs the elements to be written as string\n",
    "  #my_file.write(\"/n\")\n",
    "my_file.close()  "
   ]
  },
  {
   "cell_type": "code",
   "execution_count": 10,
   "metadata": {},
   "outputs": [
    {
     "name": "stdout",
     "output_type": "stream",
     "text": [
      "1\n",
      "4\n",
      "9\n",
      "16\n",
      "25\n",
      "36\n",
      "49\n",
      "64\n",
      "81\n",
      "100\n",
      "1\n",
      "4\n",
      "9\n",
      "16\n",
      "25\n",
      "36\n",
      "49\n",
      "64\n",
      "81\n",
      "100\n",
      "\n"
     ]
    }
   ],
   "source": [
    "#3. Reading\n",
    "\n",
    "my_file = open(\"output.txt\",\"r\")\n",
    "print (my_file.read())\n",
    "my_file.close()"
   ]
  },
  {
   "cell_type": "code",
   "execution_count": 11,
   "metadata": {},
   "outputs": [
    {
     "name": "stdout",
     "output_type": "stream",
     "text": [
      "1\n",
      "\n",
      "4\n",
      "\n",
      "9\n",
      "\n"
     ]
    }
   ],
   "source": [
    "#4 Readline by line\n",
    "\n",
    "my_file = open(\"output.txt\", 'r')\n",
    "print(my_file.readline())\n",
    "print(my_file.readline())\n",
    "print(my_file.readline())\n",
    "my_file.close()"
   ]
  },
  {
   "cell_type": "markdown",
   "metadata": {},
   "source": [
    "### 5. Buffering Data   \n",
    "Python does not write data to files until it is sure it is meant to be written. One way to signal that is when connection to the file is closed.  \n",
    "Until then data is held in memory/buffered in memory and is not flushed. "
   ]
  },
  {
   "cell_type": "code",
   "execution_count": 13,
   "metadata": {},
   "outputs": [
    {
     "name": "stdout",
     "output_type": "stream",
     "text": [
      "Not closing files is VERY BAD.\n"
     ]
    }
   ],
   "source": [
    "# Use a file handler to open a file for writing\n",
    "write_file = open(\"output.txt\", \"w\")\n",
    "\n",
    "# Open the file for reading\n",
    "read_file = open(\"output.txt\", \"r\")\n",
    "\n",
    "# Write to the file\n",
    "write_file.write(\"Not closing files is VERY BAD.\")\n",
    "write_file.close()\n",
    "\n",
    "\n",
    "# Try to read from the file\n",
    "print(read_file.read())\n",
    "read_file.close()"
   ]
  },
  {
   "cell_type": "markdown",
   "metadata": {},
   "source": [
    "### 6. Connection closure   \n",
    "using 'with' 'as' statement, connection closure can be ensured. Internally, method __exit__() is involed.  \n",
    "Another attribute called 'closed' can be chcked.\n"
   ]
  },
  {
   "cell_type": "code",
   "execution_count": 14,
   "metadata": {},
   "outputs": [
    {
     "name": "stdout",
     "output_type": "stream",
     "text": [
      "True\n"
     ]
    }
   ],
   "source": [
    "with open('output.txt','a') as my_file:\n",
    "  my_file.write(\"Helo!\")\n",
    "if(not my_file.closed):\n",
    "  my_file.close()\n",
    "print(my_file.closed)"
   ]
  },
  {
   "cell_type": "markdown",
   "metadata": {},
   "source": [
    "## Finally remove the file"
   ]
  },
  {
   "cell_type": "code",
   "execution_count": 18,
   "metadata": {},
   "outputs": [
    {
     "name": "stdout",
     "output_type": "stream",
     "text": [
      "file not found\n"
     ]
    }
   ],
   "source": [
    "try:\n",
    "    os.remove('output.txt')\n",
    "except:\n",
    "    print(\"file not found\")"
   ]
  }
 ],
 "metadata": {
  "kernelspec": {
   "display_name": "Python 3",
   "language": "python",
   "name": "python3"
  },
  "language_info": {
   "codemirror_mode": {
    "name": "ipython",
    "version": 3
   },
   "file_extension": ".py",
   "mimetype": "text/x-python",
   "name": "python",
   "nbconvert_exporter": "python",
   "pygments_lexer": "ipython3",
   "version": "3.6.3"
  }
 },
 "nbformat": 4,
 "nbformat_minor": 2
}
