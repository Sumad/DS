{
 "cells": [
  {
   "cell_type": "markdown",
   "metadata": {},
   "source": [
    "### Functions in Python\n",
    "•\tDefine using def keyword  \n",
    "•\tMust have a return statement to return a value  \n",
    "\n",
    "Function has parameters, which are variables that take values when function is called.  \n",
    "When function is called it is called with 'arguments' i.e values to be passed to the parameters  \n",
    "Example:  \n",
    "def cube (x):  \n",
    "    y=x * x * x  \n",
    "    return y  "
   ]
  },
  {
   "cell_type": "markdown",
   "metadata": {},
   "source": [
    "#### Passing arbitrary arguments to functions\n",
    "Arbitrary arguments can be passed into a function by defining a tuple and dictionary in the arguments.  \n",
    "Tuple name should have a single star and dictionary name should have double stars. Tuple and dictionary declarations  \n",
    "must follow the formal arguments, and tuple should preceed dictionary."
   ]
  },
  {
   "cell_type": "code",
   "execution_count": 2,
   "metadata": {},
   "outputs": [
    {
     "name": "stdout",
     "output_type": "stream",
     "text": [
      "23\n",
      "Bhanu\n",
      "How are you there\n",
      "I am fine\n",
      "Age : 32\n",
      "Name : Sumad\n"
     ]
    }
   ],
   "source": [
    "# An example of defining function and passing arguments\n",
    "def arb (x,y,*tup,**dic):\n",
    "    print (x)\n",
    "    print (y)\n",
    "    for i in tup:\n",
    "        print (i)\n",
    "    keys=dic.keys()\n",
    "    for j in sorted(keys):\n",
    "        print (j,\":\",dic[j])\n",
    "arb (23,\"Bhanu\", \"How are you there\", \"I am fine\",\n",
    "Name=\"Sumad\",Age = 32)"
   ]
  },
  {
   "cell_type": "markdown",
   "metadata": {},
   "source": [
    "#### Argument Unpacking/ Calling functions using tuples and dictionaries\n",
    "\n"
   ]
  },
  {
   "cell_type": "code",
   "execution_count": 12,
   "metadata": {},
   "outputs": [
    {
     "data": {
      "text/plain": [
       "7"
      ]
     },
     "execution_count": 12,
     "metadata": {},
     "output_type": "execute_result"
    }
   ],
   "source": [
    "#Some times arguments are available in a sequence, they can be passed using * and ** meaning using a tuple unpacking or a \n",
    "#dictionary unpacking.\n",
    "def mtp (x,y):\n",
    "    return (x+y)\n",
    "# calling function with * in front of sequence\n",
    "x= [2,5]\n",
    "mtp (*x)"
   ]
  },
  {
   "cell_type": "code",
   "execution_count": 6,
   "metadata": {},
   "outputs": [
    {
     "name": "stdout",
     "output_type": "stream",
     "text": [
      "2\n",
      "4\n",
      "5\n",
      "7\n",
      "10\n",
      "Bhanu\n"
     ]
    }
   ],
   "source": [
    "# This is similar to the concept of sequence unpacking or multiple assignments in Python\n",
    "# Eg: \n",
    "x=[2,4,5,7,10,\"Bhanu\"]\n",
    "a,b,c,d,e,f = x\n",
    "print (a)\n",
    "print (b)\n",
    "print (c)\n",
    "print (d)\n",
    "print (e)\n",
    "print (f)"
   ]
  },
  {
   "cell_type": "code",
   "execution_count": 11,
   "metadata": {},
   "outputs": [
    {
     "name": "stdout",
     "output_type": "stream",
     "text": [
      "This parrot wouldn't VOOM\n",
      "if you put four million volts through it.\n",
      "E's bleedin' demised !\n"
     ]
    }
   ],
   "source": [
    "#Example of unpacking argument with a dictionary\n",
    "def parrot(voltage, state='a stiff', action='voom'):\n",
    "    print (\"This parrot wouldn't\", action),\n",
    "    print (\"if you put\", voltage, \"volts through it.\"),\n",
    "    print (\"E's\", state, \"!\")\n",
    "\n",
    "d = {\"voltage\": \"four million\", \"state\": \"bleedin' demised\", \"action\": \"VOOM\"}\n",
    "parrot(**d)"
   ]
  },
  {
   "cell_type": "code",
   "execution_count": 6,
   "metadata": {
    "collapsed": true
   },
   "outputs": [],
   "source": [
    "# Function to find abs value, if the argument is numeric\n",
    "def distance_from_zero (s):\n",
    "  if type(s) in [int, float]:\n",
    "    return(abs(s))\n",
    "  else:\n",
    "    return (\"Nope\")"
   ]
  },
  {
   "cell_type": "code",
   "execution_count": 7,
   "metadata": {},
   "outputs": [
    {
     "data": {
      "text/plain": [
       "5"
      ]
     },
     "execution_count": 7,
     "metadata": {},
     "output_type": "execute_result"
    }
   ],
   "source": [
    "distance_from_zero (5)"
   ]
  },
  {
   "cell_type": "markdown",
   "metadata": {},
   "source": [
    "## Functions calling functions"
   ]
  },
  {
   "cell_type": "code",
   "execution_count": 8,
   "metadata": {},
   "outputs": [
    {
     "name": "stdout",
     "output_type": "stream",
     "text": [
      "1955\n"
     ]
    }
   ],
   "source": [
    "def hotel_cost(nights):\n",
    "  return (140*nights)\n",
    "\n",
    "def plane_ride_cost(city):\n",
    "  if city == \"Charlotte\":\n",
    "    return (183)\n",
    "  elif city == \"Tampa\":\n",
    "    return (220)\n",
    "  elif city == \"Pittsburgh\":\n",
    "    return (222)\n",
    "  elif city == \"Los Angeles\":\n",
    "    return (475)\n",
    "  else:\n",
    "    return (\"Not a valid city\")\n",
    "  \n",
    "def rental_car_cost(days):\n",
    "  if days >= 7:\n",
    "    return (days * 40 - 50)\n",
    "  elif days >=3:\n",
    "    return (days * 40 - 20)\n",
    "  else:\n",
    "    return (days * 40)\n",
    "  \n",
    "def trip_cost(city, days, spending_money):\n",
    "  return(rental_car_cost(days) +\n",
    "         plane_ride_cost(city) +\n",
    "         hotel_cost(days) +\n",
    "        spending_money)\n",
    "\n",
    "print(trip_cost(\"Los Angeles\", 5, 600))\n",
    "         "
   ]
  },
  {
   "cell_type": "code",
   "execution_count": null,
   "metadata": {
    "collapsed": true
   },
   "outputs": [],
   "source": []
  }
 ],
 "metadata": {
  "kernelspec": {
   "display_name": "Python 3",
   "language": "python",
   "name": "python3"
  },
  "language_info": {
   "codemirror_mode": {
    "name": "ipython",
    "version": 3
   },
   "file_extension": ".py",
   "mimetype": "text/x-python",
   "name": "python",
   "nbconvert_exporter": "python",
   "pygments_lexer": "ipython3",
   "version": "3.6.3"
  }
 },
 "nbformat": 4,
 "nbformat_minor": 2
}
