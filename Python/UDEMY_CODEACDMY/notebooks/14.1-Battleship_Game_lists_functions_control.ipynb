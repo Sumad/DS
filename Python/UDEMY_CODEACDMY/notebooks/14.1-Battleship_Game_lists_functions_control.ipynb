{
 "cells": [
  {
   "cell_type": "markdown",
   "metadata": {},
   "source": [
    "## Develop a game and learn\n",
    "### 1. Pretty Printing using string functions \n",
    "### 2. Use of chained if-else and insert an if within chained if-else\n",
    "### 3. Use of random package, esp. randint function"
   ]
  },
  {
   "cell_type": "markdown",
   "metadata": {},
   "source": [
    "### Pretty Printing \n",
    "#### Example"
   ]
  },
  {
   "cell_type": "code",
   "execution_count": 10,
   "metadata": {},
   "outputs": [
    {
     "name": "stdout",
     "output_type": "stream",
     "text": [
      "['a', 'b', 'c', 'd']\n",
      "abcd\n"
     ]
    }
   ],
   "source": [
    "x = \"abcd\"\n",
    "# split a string it its components \n",
    "l = [i for i in x] # or simply list(x)\n",
    "print (l)\n",
    "\n",
    "# join is opposite of split, the first string is used to join the components\n",
    "print(\"\".join(l))"
   ]
  },
  {
   "cell_type": "markdown",
   "metadata": {},
   "source": [
    "### Battleship!\n",
    "\n",
    "Features to -  \n",
    "a. Print the coordinates st start of game  \n",
    "b. Capture user's inputs for location  \n",
    "c. Change identified coordinates from 'O' to 'X' on unsuccessful attempts  \n",
    "d. Give user 4 attempts  \n",
    "c. Print a game over message after 4 unsuccessful attempts  \n",
    "d. Show the coordinates guessed after each attempt   \n",
    "\n",
    "Warnings and messages:  \n",
    "User guesses location of a ship   \n",
    "a. If the guess is able to spot the ship,Print a congratulatory message   \n",
    "b. If guess corrdinates are out of range, print a warning message  \n",
    "c. If guess coordinates have been repeated, print a warning message  \n"
   ]
  },
  {
   "cell_type": "code",
   "execution_count": 22,
   "metadata": {},
   "outputs": [
    {
     "name": "stdout",
     "output_type": "stream",
     "text": [
      "O O O O O\n",
      "O O O O O\n",
      "O O O O O\n",
      "O O O O O\n",
      "O O O O O\n",
      "Guess Row: 2\n",
      "Guess Col: 4\n",
      "You missed my battleship!\n",
      "turn 1 complete\n",
      "O O O O O\n",
      "O O O O O\n",
      "O O O O X\n",
      "O O O O O\n",
      "O O O O O\n",
      "Guess Row: 4\n",
      "Guess Col: 3\n",
      "You missed my battleship!\n",
      "turn 2 complete\n",
      "O O O O O\n",
      "O O O O O\n",
      "O O O O X\n",
      "O O O O O\n",
      "O O O X O\n",
      "Guess Row: 4\n",
      "Guess Col: 2\n",
      "You missed my battleship!\n",
      "turn 3 complete\n",
      "O O O O O\n",
      "O O O O O\n",
      "O O O O X\n",
      "O O O O O\n",
      "O O X X O\n",
      "Guess Row: 3\n",
      "Guess Col: 2\n",
      "You missed my battleship!\n",
      "Game Over\n",
      "turn 4 complete\n",
      "O O O O O\n",
      "O O O O O\n",
      "O O O O X\n",
      "O O X O O\n",
      "O O X X O\n"
     ]
    }
   ],
   "source": [
    "\n",
    "from random import randint\n",
    "\n",
    "'''Initialize empty board'''\n",
    "board = []\n",
    "\n",
    "''' Make a board with symbol \"O\" and 5*5 in dimension, accomplished using list of 5 lists'''\n",
    "for x in range(5):\n",
    "  board.append([\"O\"] * 5)\n",
    "\n",
    "\n",
    "''' Function to print the board in a pretty format, lists won't print well'''\n",
    "def print_board(board):\n",
    "  for row in board:\n",
    "    print (\" \".join(row))\n",
    "\n",
    "print_board(board)\n",
    "\n",
    "'''Pick a coordinate for your ship'''\n",
    "def random_row(board):\n",
    "  return randint(0, len(board) - 1)\n",
    "\n",
    "def random_col(board):\n",
    "  return randint(0, len(board[0]) - 1)\n",
    "\n",
    "ship_row = random_row(board)\n",
    "ship_col = random_col(board)\n",
    "#print ship_row\n",
    "#print ship_col\n",
    "\n",
    "''' Loop to give player 4 chances to pick a coordinate'''\n",
    "\n",
    "for i in range(0,4):\n",
    "    guess_row = int(input(\"Guess Row: \"))\n",
    "    guess_col = int(input(\"Guess Col: \"))\n",
    "    if(guess_row == ship_row and guess_col == ship_col):\n",
    "      print (\"Congratulations! You sunk my battleship!\")\n",
    "      break\n",
    "    elif (guess_row not in range(0,5)) or (guess_col not in range(0,5)):\n",
    "      print (\"Oops, that's not even in the ocean.\")\n",
    "      if (i==3):\n",
    "        print(\"Game Over\")\n",
    "    elif(board[guess_row][guess_col] == \"X\"):\n",
    "      print (\"You guessed that one already.\")\n",
    "      if (i==3):\n",
    "        print(\"Game Over\")\n",
    "    else:\n",
    "      print (\"You missed my battleship!\")\n",
    "      board[guess_row][guess_col] = \"X\"\n",
    "      if (i==3):\n",
    "        print(\"Game Over\")\n",
    "    print (\"turn %s complete\" %(i+1))\n",
    "    print_board(board)\n",
    "     "
   ]
  },
  {
   "cell_type": "code",
   "execution_count": null,
   "metadata": {
    "collapsed": true
   },
   "outputs": [],
   "source": []
  }
 ],
 "metadata": {
  "kernelspec": {
   "display_name": "Python 3",
   "language": "python",
   "name": "python3"
  },
  "language_info": {
   "codemirror_mode": {
    "name": "ipython",
    "version": 3
   },
   "file_extension": ".py",
   "mimetype": "text/x-python",
   "name": "python",
   "nbconvert_exporter": "python",
   "pygments_lexer": "ipython3",
   "version": "3.6.3"
  }
 },
 "nbformat": 4,
 "nbformat_minor": 2
}
