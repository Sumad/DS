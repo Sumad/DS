{
 "cells": [
  {
   "cell_type": "markdown",
   "metadata": {},
   "source": [
    "#### Dictionaries\n",
    " Unlike R, in python matrices we have not seen column or row names, so indexing relies on using index numbers.\n",
    " One way to get around that problem is using dictionaries, esp. if a many matrices are constructed using same variables\n",
    " Example in the NBA data set, there are several data on Players, Years in matrices like data on points scores, salaries, games played etc.  \n",
    "To access these matrices one can use dictionaries\n",
    "Dictionaries are a separate object consisting of key value pairs, define using curly braces {}\n"
   ]
  },
  {
   "cell_type": "code",
   "execution_count": 1,
   "metadata": {},
   "outputs": [
    {
     "data": {
      "text/plain": [
       "{'city': 3, 'name1': 2, 'name2': 'Hero'}"
      ]
     },
     "execution_count": 1,
     "metadata": {},
     "output_type": "execute_result"
    }
   ],
   "source": [
    "dict1={'name1':2,'name2':'Hero','city':3}\n",
    "dict1\n"
   ]
  },
  {
   "cell_type": "markdown",
   "metadata": {},
   "source": [
    "Dictionary does not have the elements ordered, to access a value from a dictionary, one needs to use the key.   \n",
    "When you print a dictionary, the order of print reflects how key:value pairs are stored internally which is based \n",
    "on storage efficiency.Dictionary is still access by [] brackets and passing the key\n"
   ]
  },
  {
   "cell_type": "code",
   "execution_count": 2,
   "metadata": {
    "collapsed": true
   },
   "outputs": [],
   "source": [
    "# Example of using a dictionary to be able to access data from matrices in the NBA data set would be to define dictionary with\n",
    "# names of players, and years becuase data on salries, games, points is organized by these\n",
    "\n",
    "#Seasons\n",
    "Seasons = [\"2005\",\"2006\",\"2007\",\"2008\",\"2009\",\"2010\",\"2011\",\"2012\",\"2013\",\"2014\"]\n",
    "Sdict = {\"2005\":0,\"2006\":1,\"2007\":2,\"2008\":3,\"2009\":4,\"2010\":5,\"2011\":6,\"2012\":7,\"2013\":8,\"2014\":9}\n",
    "\n",
    "#Players\n",
    "Players = [\"KobeBryant\",\"JoeJohnson\",\"LeBronJames\",\"CarmeloAnthony\",\"DwightHoward\",\"ChrisBosh\",\"ChrisPaul\",\"KevinDurant\",\"DerrickRose\",\"DwayneWade\"]\n",
    "Pdict = {\"KobeBryant\":0,\"JoeJohnson\":1,\"LeBronJames\":2,\"CarmeloAnthony\":3,\"DwightHoward\":4,\"ChrisBosh\":5,\"ChrisPaul\":6,\"KevinDurant\":7,\"DerrickRose\":8,\"DwayneWade\":9}\n"
   ]
  },
  {
   "cell_type": "code",
   "execution_count": 5,
   "metadata": {
    "collapsed": true
   },
   "outputs": [],
   "source": [
    "#Salary[Pdict['JoeJohnson'],Sdict['2011']]\n",
    "#18038573\n",
    "\n",
    "#Points[Pdict['JoeJohnson']]\n",
    "#array([1653, 1426, 1779, 1688, 1619, 1312, 1129, 1170, 1245, 1154])\n"
   ]
  },
  {
   "cell_type": "markdown",
   "metadata": {},
   "source": [
    "A dictionary can be initialized as empty , like a list. And is also mutable, appendable.\n",
    "length of the dictionary is the number of key value pairs in it. \n",
    "The values in a dictionaty, could also be lists\n",
    "\n"
   ]
  },
  {
   "cell_type": "code",
   "execution_count": 11,
   "metadata": {},
   "outputs": [
    {
     "name": "stdout",
     "output_type": "stream",
     "text": [
      "{'colas': 12.5}\n"
     ]
    }
   ],
   "source": [
    "d = {}\n",
    "d[\"colas\"] = 12.5\n",
    "print (d)"
   ]
  },
  {
   "cell_type": "code",
   "execution_count": 12,
   "metadata": {},
   "outputs": [
    {
     "name": "stdout",
     "output_type": "stream",
     "text": [
      "{'colas': 12.5, 'fizz_drinks': [11, 12.5]}\n",
      "2\n"
     ]
    }
   ],
   "source": [
    "d[\"fizz_drinks\"] = [11,12.5]\n",
    "print(d)\n",
    "print (len(d))"
   ]
  },
  {
   "cell_type": "code",
   "execution_count": 8,
   "metadata": {},
   "outputs": [
    {
     "data": {
      "text/plain": [
       "[11, 12.5]"
      ]
     },
     "execution_count": 8,
     "metadata": {},
     "output_type": "execute_result"
    }
   ],
   "source": [
    "d[\"fizz_drinks\"]"
   ]
  },
  {
   "cell_type": "markdown",
   "metadata": {},
   "source": [
    "Since dictionary is mutable, the items can be deleted also"
   ]
  },
  {
   "cell_type": "code",
   "execution_count": 13,
   "metadata": {},
   "outputs": [
    {
     "name": "stdout",
     "output_type": "stream",
     "text": [
      "{'fizz_drinks': [11, 12.5]}\n"
     ]
    }
   ],
   "source": [
    "del d[\"colas\"]\n",
    "print (d)"
   ]
  },
  {
   "cell_type": "markdown",
   "metadata": {},
   "source": [
    "### Accessing keys and values from dictionary"
   ]
  },
  {
   "cell_type": "code",
   "execution_count": 1,
   "metadata": {},
   "outputs": [
    {
     "name": "stdout",
     "output_type": "stream",
     "text": [
      "dict_items([('name', 'sumad'), ('age', 32), ('siblings', 1)])\n",
      "dict_keys(['name', 'age', 'siblings'])\n",
      "dict_values(['sumad', 32, 1])\n"
     ]
    }
   ],
   "source": [
    "my_dict = {\n",
    "  \"name\" : \"sumad\",\n",
    "  \"age\" : 32,\n",
    "  \"siblings\" : 1\n",
    "}\n"
   ]
  },
  {
   "cell_type": "code",
   "execution_count": 7,
   "metadata": {},
   "outputs": [
    {
     "name": "stdout",
     "output_type": "stream",
     "text": [
      "dict_items([('name', 'sumad'), ('age', 32), ('siblings', 1)])\n",
      "<class 'dict_items'>\n"
     ]
    }
   ],
   "source": [
    "# items keyword, returns tuples of key,value pairs\n",
    "print(my_dict.items())\n",
    "print (type(my_dict.items()))"
   ]
  },
  {
   "cell_type": "code",
   "execution_count": 4,
   "metadata": {},
   "outputs": [
    {
     "data": {
      "text/plain": [
       "dict_keys(['name', 'age', 'siblings'])"
      ]
     },
     "execution_count": 4,
     "metadata": {},
     "output_type": "execute_result"
    }
   ],
   "source": [
    "# keys keyword returns a list of keys\n",
    "my_dict.keys()"
   ]
  },
  {
   "cell_type": "code",
   "execution_count": 5,
   "metadata": {},
   "outputs": [
    {
     "data": {
      "text/plain": [
       "dict_values(['sumad', 32, 1])"
      ]
     },
     "execution_count": 5,
     "metadata": {},
     "output_type": "execute_result"
    }
   ],
   "source": [
    "my_dict.values() # returns a list of values"
   ]
  },
  {
   "cell_type": "markdown",
   "metadata": {},
   "source": [
    "## Exercise \n",
    "### Deleting items from a dictionary, adding items to a dictionary, \n",
    "### modifying values in a dictionary that are lists"
   ]
  },
  {
   "cell_type": "code",
   "execution_count": null,
   "metadata": {
    "collapsed": true
   },
   "outputs": [],
   "source": []
  },
  {
   "cell_type": "code",
   "execution_count": 14,
   "metadata": {
    "collapsed": true
   },
   "outputs": [],
   "source": [
    "inventory = {\n",
    "  'gold' : 500,\n",
    "  'pouch' : ['flint', 'twine', 'gemstone'], # Assigned a new list to 'pouch' key\n",
    "  'backpack' : ['xylophone','dagger', 'bedroll','bread loaf']\n",
    "}\n",
    "\n",
    "# Adding a key 'burlap bag' and assigning a list to it\n",
    "inventory['burlap bag'] = ['apple', 'small ruby', 'three-toed sloth']\n",
    "\n",
    "# Sorting the list found under the key 'pouch'\n",
    "inventory['pouch'].sort() \n",
    "\n",
    "# Adding a list \"pocket\" to the dictionary\n",
    "inventory['pocket'] = ['seashell', 'strange berry','lint']\n",
    "\n",
    "# Sorting a list in the dictionary\n",
    "inventory['backpack'].sort()\n",
    "\n",
    "# Removing an item from a list in the dictionary\n",
    "inventory['backpack'].remove('dagger')\n",
    "\n",
    "# Modifying a value in the dictionary\n",
    "inventory['gold'] += 50"
   ]
  },
  {
   "cell_type": "code",
   "execution_count": 17,
   "metadata": {},
   "outputs": [
    {
     "name": "stdout",
     "output_type": "stream",
     "text": [
      "[0, 2, 4, 6, 8, 10, 12]\n"
     ]
    }
   ],
   "source": [
    "a = [0, 1, 2, 3, 4, 5, 6, 7, 8, 9, 10, 11, 12, 13]\n",
    "\n",
    "lt = [n for n in a if n % 2 ==0]\n",
    "print(lt)"
   ]
  }
 ],
 "metadata": {
  "kernelspec": {
   "display_name": "Python 3",
   "language": "python",
   "name": "python3"
  },
  "language_info": {
   "codemirror_mode": {
    "name": "ipython",
    "version": 3
   },
   "file_extension": ".py",
   "mimetype": "text/x-python",
   "name": "python",
   "nbconvert_exporter": "python",
   "pygments_lexer": "ipython3",
   "version": "3.6.3"
  }
 },
 "nbformat": 4,
 "nbformat_minor": 2
}
