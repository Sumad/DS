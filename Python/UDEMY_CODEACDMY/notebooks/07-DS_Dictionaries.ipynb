{
 "cells": [
  {
   "cell_type": "markdown",
   "metadata": {},
   "source": [
    "#### Dictionaries\n",
    " Unlike R, in python matrices we have not seen column or row names, so indexing relies on using index numbers.\n",
    " One way to get around that problem is using dictionaries, esp. if a many matrices are constructed using same variables\n",
    " Example in the NBA data set, there are several data on Players, Years in matrices like data on points scores, salaries, games played etc.  \n",
    "To access these matrices one can use dictionaries\n",
    "Dictionaries are a separate object consisting of key value pairs, define using curly braces {}\n"
   ]
  },
  {
   "cell_type": "code",
   "execution_count": 1,
   "metadata": {},
   "outputs": [
    {
     "data": {
      "text/plain": [
       "{'city': 3, 'name1': 2, 'name2': 'Hero'}"
      ]
     },
     "execution_count": 1,
     "metadata": {},
     "output_type": "execute_result"
    }
   ],
   "source": [
    "dict1={'name1':2,'name2':'Hero','city':3}\n",
    "dict1\n"
   ]
  },
  {
   "cell_type": "markdown",
   "metadata": {},
   "source": [
    "Dictionary does not have the elements ordered, to access a value from a list, one needs to use the key.   \n",
    "When you print a list, the order of print reflects how key:value pairs are stored internally which is based  \n",
    "on storage efficiency.Dictionary is still access by [] brackets and passing the key\n"
   ]
  },
  {
   "cell_type": "code",
   "execution_count": 2,
   "metadata": {
    "collapsed": true
   },
   "outputs": [],
   "source": [
    "# Example of using a dictionary to be able to access data from matrices in the NBA data set would be to define dictionary with\n",
    "# names of players, and years becuase data on salries, games, points is organized by these\n",
    "\n",
    "#Seasons\n",
    "Seasons = [\"2005\",\"2006\",\"2007\",\"2008\",\"2009\",\"2010\",\"2011\",\"2012\",\"2013\",\"2014\"]\n",
    "Sdict = {\"2005\":0,\"2006\":1,\"2007\":2,\"2008\":3,\"2009\":4,\"2010\":5,\"2011\":6,\"2012\":7,\"2013\":8,\"2014\":9}\n",
    "\n",
    "#Players\n",
    "Players = [\"KobeBryant\",\"JoeJohnson\",\"LeBronJames\",\"CarmeloAnthony\",\"DwightHoward\",\"ChrisBosh\",\"ChrisPaul\",\"KevinDurant\",\"DerrickRose\",\"DwayneWade\"]\n",
    "Pdict = {\"KobeBryant\":0,\"JoeJohnson\":1,\"LeBronJames\":2,\"CarmeloAnthony\":3,\"DwightHoward\":4,\"ChrisBosh\":5,\"ChrisPaul\":6,\"KevinDurant\":7,\"DerrickRose\":8,\"DwayneWade\":9}\n"
   ]
  },
  {
   "cell_type": "code",
   "execution_count": 5,
   "metadata": {},
   "outputs": [],
   "source": [
    "#Salary[Pdict['JoeJohnson'],Sdict['2011']]\n",
    "#18038573\n",
    "\n",
    "#Points[Pdict['JoeJohnson']]\n",
    "#array([1653, 1426, 1779, 1688, 1619, 1312, 1129, 1170, 1245, 1154])\n"
   ]
  }
 ],
 "metadata": {
  "kernelspec": {
   "display_name": "Python 3",
   "language": "python",
   "name": "python3"
  },
  "language_info": {
   "codemirror_mode": {
    "name": "ipython",
    "version": 3
   },
   "file_extension": ".py",
   "mimetype": "text/x-python",
   "name": "python",
   "nbconvert_exporter": "python",
   "pygments_lexer": "ipython3",
   "version": "3.6.1"
  }
 },
 "nbformat": 4,
 "nbformat_minor": 2
}
