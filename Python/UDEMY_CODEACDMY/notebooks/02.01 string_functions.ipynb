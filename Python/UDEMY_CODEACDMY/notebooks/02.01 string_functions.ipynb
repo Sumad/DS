{
 "cells": [
  {
   "cell_type": "markdown",
   "metadata": {},
   "source": [
    "String have inbuilt methods like\n",
    "string.upper()\n",
    "string.lower()\n",
    "string.isalpha()\n",
    "string.isalnum()\n",
    "and so on"
   ]
  },
  {
   "cell_type": "code",
   "execution_count": 15,
   "metadata": {},
   "outputs": [
    {
     "name": "stdout",
     "output_type": "stream",
     "text": [
      "Enter a word:bcA\n"
     ]
    },
    {
     "data": {
      "text/plain": [
       "'cabay'"
      ]
     },
     "execution_count": 15,
     "metadata": {},
     "output_type": "execute_result"
    }
   ],
   "source": [
    "def piglatin_translator(iput):\n",
    "    '''Function test the validity of the word with following rules\n",
    "    1. Should be atleast 2 characters, excluding spaces\n",
    "    2. Should only contain alphabets\n",
    "    3. trims any leading and ending spaces\n",
    "    \n",
    "    If rules are satisfied, it takes the first characterm attaches it to the end, and then adds \"ay\"'''\n",
    "    \n",
    "    lt = [i for i in iput if i!=' ']\n",
    "    if len(lt) <= 1 or not iput.isalpha():\n",
    "        return \"Enter a valid word\"\n",
    "    newword = iput[1:].lower() + iput[0].lower() + \"ay\"\n",
    "    return newword\n",
    "\n",
    "iput = input(\"Enter a word:\") # Python 2.7 uses raw_input, python 3 used input()\n",
    "piglatin_translator(iput)"
   ]
  },
  {
   "cell_type": "code",
   "execution_count": null,
   "metadata": {
    "collapsed": true
   },
   "outputs": [],
   "source": []
  }
 ],
 "metadata": {
  "kernelspec": {
   "display_name": "Python 3",
   "language": "python",
   "name": "python3"
  },
  "language_info": {
   "codemirror_mode": {
    "name": "ipython",
    "version": 3
   },
   "file_extension": ".py",
   "mimetype": "text/x-python",
   "name": "python",
   "nbconvert_exporter": "python",
   "pygments_lexer": "ipython3",
   "version": "3.6.3"
  }
 },
 "nbformat": 4,
 "nbformat_minor": 2
}
