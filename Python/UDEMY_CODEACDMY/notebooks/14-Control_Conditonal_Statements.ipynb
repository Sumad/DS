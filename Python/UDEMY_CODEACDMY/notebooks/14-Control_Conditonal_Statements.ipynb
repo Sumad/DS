{
 "cells": [
  {
   "cell_type": "markdown",
   "metadata": {},
   "source": [
    "#### Loops and IF Statements\n",
    "\n",
    "##### While Loop:\n",
    "While loop syntax in Python  \n",
    "\n",
    "While condition:\n",
    " execute code1\n",
    " execute code2\n",
    " execute code 3\n",
    "\n",
    "##### Difference from R\n",
    "\n",
    "while (condition)\n",
    "{execute code1\n",
    "execute code2\n",
    "}\n",
    " execute code 3\n",
    "\n",
    "Difference:\n",
    "1. Python does not have braces, the condition to be checked first is determined by anything before colon  \n",
    "2. The executable code is separated from code that follows loop by indentation  \n",
    "3. Indentation is part of the syntax structure in Python!  "
   ]
  },
  {
   "cell_type": "code",
   "execution_count": 3,
   "metadata": {},
   "outputs": [
    {
     "name": "stdout",
     "output_type": "stream",
     "text": [
      "I\n",
      " \n",
      "t\n",
      "h\n",
      "i\n",
      "n\n",
      "k\n"
     ]
    }
   ],
   "source": [
    "x = \"I think i am doing well in Python\"\n",
    "i = 0\n",
    "while i!=7:\n",
    "    print (x[i])\n",
    "    i=i+1"
   ]
  },
  {
   "cell_type": "markdown",
   "metadata": {},
   "source": [
    "#### For Loop\n",
    "It has similar structure as of While loop\n"
   ]
  },
  {
   "cell_type": "code",
   "execution_count": 5,
   "metadata": {},
   "outputs": [
    {
     "name": "stdout",
     "output_type": "stream",
     "text": [
      "0\n",
      "1\n",
      "2\n",
      "3\n",
      "4\n"
     ]
    }
   ],
   "source": [
    "i=0\n",
    "for i in range (5):\n",
    "    print(i)\n",
    "    i=i+1\n",
    "#use of keyword ‘in’ is similar to that in R\n"
   ]
  },
  {
   "cell_type": "markdown",
   "metadata": {},
   "source": [
    "#### Looping techniques  \n",
    "##### Loops can be used with lists and dictionaries\n",
    "1.\tUse of ‘in’ keyword. In and not in are keywords to check memberships, in loops they help   \n",
    "a variable take on values from a sequence (lists, tuples) and dictionaries   \n"
   ]
  },
  {
   "cell_type": "code",
   "execution_count": 6,
   "metadata": {},
   "outputs": [
    {
     "name": "stdout",
     "output_type": "stream",
     "text": [
      "0 12\n",
      "1 15\n",
      "2 18\n",
      "3 20\n",
      "4 21\n",
      "5 24\n"
     ]
    },
    {
     "data": {
      "text/plain": [
       "[(0, 'Spring'), (1, 'Summer'), (2, 'Fall'), (3, 'Winter')]"
      ]
     },
     "execution_count": 6,
     "metadata": {},
     "output_type": "execute_result"
    }
   ],
   "source": [
    "#2.\tWhen looping over a sequence like list both index and values can be accessed using enumerate function\n",
    "ip=[12, 15, 18, 20, 21, 24]\n",
    "for i,j in enumerate(ip):\n",
    "    print (i,j)\n",
    "\n",
    "#enumerate() is a pre-defined function in python, which returns an enumerate object. \n",
    "#It takes argument of a sequence like lists, tuples etc. \n",
    "seasons = ['Spring', 'Summer', 'Fall', 'Winter']\n",
    "list(enumerate(seasons))"
   ]
  },
  {
   "cell_type": "code",
   "execution_count": 7,
   "metadata": {},
   "outputs": [
    {
     "name": "stdout",
     "output_type": "stream",
     "text": [
      "a 1\n",
      "b 2\n",
      "c 3\n",
      "d 4\n"
     ]
    }
   ],
   "source": [
    "# 3.\tTo loop over two sequences/lists at a time, the sequences can be paired using zip() function\n",
    "a=[\"a\",\"b\",\"c\",\"d\"]\n",
    "b=[1,2,3,4]\n",
    "for i,j in zip(a,b):\n",
    "    print(i,j)\n"
   ]
  },
  {
   "cell_type": "code",
   "execution_count": 1,
   "metadata": {},
   "outputs": [
    {
     "name": "stdout",
     "output_type": "stream",
     "text": [
      "('Name', 'Sam')\n",
      "('Car', 'Nissan')\n"
     ]
    }
   ],
   "source": [
    "# 4.\tTo loop over dictionaries and access key and value values use .iteritems() or  \n",
    "# items() method for dictionaries in Python \n",
    "dic = {\"Name\" : \"Sam\" , \"Car\" : \"Nissan\" }\n",
    "for i in dic.items():\n",
    "    print(i)\n"
   ]
  },
  {
   "cell_type": "code",
   "execution_count": 2,
   "metadata": {},
   "outputs": [
    {
     "name": "stdout",
     "output_type": "stream",
     "text": [
      "Name\n",
      "Car\n"
     ]
    }
   ],
   "source": [
    "# 5. To access value of keys, use the name of the dictionary\n",
    "for k in dic:\n",
    "    print(k)"
   ]
  },
  {
   "cell_type": "code",
   "execution_count": 10,
   "metadata": {},
   "outputs": [
    {
     "name": "stdout",
     "output_type": "stream",
     "text": [
      "10\n",
      "20\n",
      "30\n"
     ]
    }
   ],
   "source": [
    "#Lists: Lists are a data structure in Python, an example of for loop with a list is below. \n",
    "#Notice that since list is of integers, we did not have to specify the length of list for iterations in \n",
    "# for loop, it goes over the list of elements of the list and executes if element is not zero.\n",
    "a=[10,20,30]\n",
    "for j in a:\n",
    "    print (j)"
   ]
  },
  {
   "cell_type": "markdown",
   "metadata": {},
   "source": [
    "#### If, if else, nested if else, chained if else statements"
   ]
  },
  {
   "cell_type": "code",
   "execution_count": 12,
   "metadata": {},
   "outputs": [
    {
     "name": "stdout",
     "output_type": "stream",
     "text": [
      "Negative\n",
      "Negative\n"
     ]
    }
   ],
   "source": [
    "# If, If Else, nested if else, chained if else statment\n",
    "\n",
    "'''Syntax:\n",
    "    if condition:\n",
    "        execute code\n",
    "    else:\n",
    "        execute code\n",
    "'''       \n",
    "# else does not require an evaluation of true/false condition\n",
    "#see the indentation, if and else need to be at same level of indentation\n",
    "# numpy is a library in python having functions for scientific calculations\n",
    "# Example of nested if else, \n",
    "\n",
    "import numpy as nm\n",
    "from numpy.random import randn\n",
    "x=randn()\n",
    "if x<0:\n",
    "    print(\"Negative\")\n",
    "else:\n",
    "    if x>0:\n",
    "        print (\"Positive\")\n",
    "    else:\n",
    "        print(\"zero\")\n",
    "\n",
    "# Example of chained if else \n",
    "x=randn()\n",
    "if x<0:\n",
    "    print(\"Negative\")\n",
    "elif x>0:\n",
    "    print (\"Positive\")\n",
    "else:\n",
    "    print(\"zero\")\n"
   ]
  },
  {
   "cell_type": "markdown",
   "metadata": {},
   "source": [
    "## Example of creating total of items purchased\n",
    "### keeping a dictionary of stocks, prices and \n",
    "### Updating stock as it goes"
   ]
  },
  {
   "cell_type": "code",
   "execution_count": 3,
   "metadata": {},
   "outputs": [
    {
     "name": "stdout",
     "output_type": "stream",
     "text": [
      "5.5\n"
     ]
    }
   ],
   "source": [
    "shopping_list = [\"banana\", \"orange\", \"apple\"]\n",
    "\n",
    "stock = {\n",
    "  \"banana\": 6,\n",
    "  \"apple\": 0,\n",
    "  \"orange\": 32,\n",
    "  \"pear\": 15\n",
    "}\n",
    "    \n",
    "prices = {\n",
    "  \"banana\": 4,\n",
    "  \"apple\": 2,\n",
    "  \"orange\": 1.5,\n",
    "  \"pear\": 3\n",
    "}\n",
    "\n",
    "# Write your code below!\n",
    "def compute_bill(food):\n",
    "  total = 0\n",
    "  for item in food:\n",
    "    if stock[item] > 0:\n",
    "      total += prices[item]\n",
    "      stock[item] -= 1\n",
    "    \n",
    "  return(total)  \n",
    "\n",
    "print(compute_bill(shopping_list))"
   ]
  }
 ],
 "metadata": {
  "kernelspec": {
   "display_name": "Python 3",
   "language": "python",
   "name": "python3"
  },
  "language_info": {
   "codemirror_mode": {
    "name": "ipython",
    "version": 3
   },
   "file_extension": ".py",
   "mimetype": "text/x-python",
   "name": "python",
   "nbconvert_exporter": "python",
   "pygments_lexer": "ipython3",
   "version": "3.6.3"
  }
 },
 "nbformat": 4,
 "nbformat_minor": 2
}
