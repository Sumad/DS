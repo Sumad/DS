{
 "cells": [
  {
   "cell_type": "markdown",
   "metadata": {},
   "source": [
    "### Extracting Data from Web, Zipped folders "
   ]
  },
  {
   "cell_type": "markdown",
   "metadata": {},
   "source": [
    "#### Module - requests "
   ]
  },
  {
   "cell_type": "markdown",
   "metadata": {},
   "source": [
    "- requests (http://docs.python-requests.org/en/master/user/quickstart/) provides easy ways to access url \n",
    "(Unique resource locations) for http, ftp protocols, allowing for handling potential errors and content access methods\n",
    "- http url access can be thought as using a request response framework"
   ]
  },
  {
   "cell_type": "markdown",
   "metadata": {},
   "source": [
    "- response = requests.get : sends a get request,and stores the response  "
   ]
  },
  {
   "cell_type": "markdown",
   "metadata": {},
   "source": [
    "Content of reponse can be examined using methods like  \n",
    "- response.text - Access content as strings, using the default encoding  \n",
    "- response.content - Access the content as Binary Bytes  \n",
    "- response.encoding - check the encoding being used  \n",
    "- response.json() - can access content if is in json\n",
    "- zp = zipfile.ZipFile(io.BytesIO(response.content)) - for zip directories \n",
    "- zp.namelist() shows zipped files"
   ]
  },
  {
   "cell_type": "markdown",
   "metadata": {},
   "source": [
    "type(response.content) # bytes \n",
    "type(response.text) # str \n",
    "print(response.encoding) # returns None"
   ]
  },
  {
   "cell_type": "markdown",
   "metadata": {},
   "source": [
    "#### Module io  (https://docs.python.org/3/library/io.html#id1)"
   ]
  },
  {
   "cell_type": "markdown",
   "metadata": {},
   "source": [
    "Module io provides functionality for three different types of I/O : \n",
    "- text : the objects are expected to be available for read/write as string, so a translation is made as data is natively in bytes, using an encoding format.   \n",
    "  - io.StringIO converts inputs into stream of text in - memory\n",
    "- binary or Buffered I/O : objects are expected as bytes. This is useful when data is not text, or more control is needed for handling text data. \n",
    "  - io.BytesIO() converts inputs into stream of bytes in - memory\n",
    "- raw or UnBuffered I/O  \n",
    "  - Use TBU"
   ]
  },
  {
   "cell_type": "code",
   "execution_count": null,
   "metadata": {
    "collapsed": true
   },
   "outputs": [],
   "source": [
    "f = open('test.csv', 'r')  # simplest way to create an object for text data  \n",
    "f = io.StringIO(\"Some text here\")  \n",
    "f = open('test.jpg', 'rb')  # in binary mode  \n",
    "f = io.BytesIO(\"Some text here\")"
   ]
  },
  {
   "cell_type": "markdown",
   "metadata": {},
   "source": [
    "#### Module zipfile : https://docs.python.org/3/library/zipfile.html\n",
    "- zipfile.ZipFile(file, mode) is the main class used to read write data in compressed format. file is file or path like object\n",
    "- The modes used are (these are common when creating a file connection with methods like open also \n",
    "  - w: write, truncates and writes\n",
    "  - r: read\n",
    "  - a: append\n",
    "  - x: exclusively creatr and write to a new file, thows an error if file exists\n",
    "- also supports use with 'with'   \n"
   ]
  },
  {
   "cell_type": "markdown",
   "metadata": {},
   "source": [
    "---"
   ]
  },
  {
   "cell_type": "code",
   "execution_count": null,
   "metadata": {
    "collapsed": true
   },
   "outputs": [],
   "source": []
  }
 ],
 "metadata": {
  "kernelspec": {
   "display_name": "Python 3",
   "language": "python",
   "name": "python3"
  },
  "language_info": {
   "codemirror_mode": {
    "name": "ipython",
    "version": 3
   },
   "file_extension": ".py",
   "mimetype": "text/x-python",
   "name": "python",
   "nbconvert_exporter": "python",
   "pygments_lexer": "ipython3",
   "version": "3.6.3"
  }
 },
 "nbformat": 4,
 "nbformat_minor": 2
}
