{
 "cells": [
  {
   "cell_type": "markdown",
   "metadata": {},
   "source": [
    "### Question 1 (20%)\n",
    "Load the energy data from the file `Energy Indicators.xls`, which is a list of indicators of [energy supply and renewable electricity production](Energy%20Indicators.xls) from the [United Nations](http://unstats.un.org/unsd/environment/excel_file_tables/2013/Energy%20Indicators.xls) for the year 2013, and should be put into a DataFrame with the variable name of **energy**.\n",
    "\n",
    "Keep in mind that this is an Excel file, and not a comma separated values file. Also, make sure to exclude the footer and header information from the datafile. The first two columns are unneccessary, so you should get rid of them, and you should change the column labels so that the columns are:\n",
    "\n",
    "`['Country', 'Energy Supply', 'Energy Supply per Capita', '% Renewable']`\n",
    "\n",
    "Convert `Energy Supply` to gigajoules (there are 1,000,000 gigajoules in a petajoule). For all countries which have missing data (e.g. data with \"...\") make sure this is reflected as `np.NaN` values.\n",
    "\n",
    "Rename the following list of countries (for use in later questions):\n",
    "\n",
    "```\"Republic of Korea\": \"South Korea\",\n",
    "\"United States of America\": \"United States\",\n",
    "\"United Kingdom of Great Britain and Northern Ireland\": \"United Kingdom\",\n",
    "\"China, Hong Kong Special Administrative Region\": \"Hong Kong\"```\n",
    "\n",
    "There are also several countries with numbers and/or parenthesis in their name. Be sure to remove these, \n",
    "\n",
    "e.g. \n",
    "\n",
    "`'Bolivia (Plurinational State of)'` should be `'Bolivia'`, \n",
    "\n",
    "`'Switzerland17'` should be `'Switzerland'`.\n",
    "\n",
    "<br>\n",
    "\n",
    "Next, load the GDP data from the file `world_bank.csv`, which is a csv containing countries' GDP from 1960 to 2015 from [World Bank](http://data.worldbank.org/indicator/NY.GDP.MKTP.CD). Call this DataFrame **GDP**. \n",
    "\n",
    "Make sure to skip the header, and rename the following list of countries:\n",
    "\n",
    "```\"Korea, Rep.\": \"South Korea\", \n",
    "\"Iran, Islamic Rep.\": \"Iran\",\n",
    "\"Hong Kong SAR, China\": \"Hong Kong\"```\n",
    "\n",
    "<br>\n",
    "\n",
    "Finally, load the [Sciamgo Journal and Country Rank data for Energy Engineering and Power Technology](http://www.scimagojr.com/countryrank.php?category=2102) from the file `scimagojr-3.xlsx`, which ranks countries based on their journal contributions in the aforementioned area. Call this DataFrame **ScimEn**.\n",
    "\n",
    "Join the three datasets: GDP, Energy, and ScimEn into a new dataset (using the intersection of country names). Use only the last 10 years (2006-2015) of GDP data and only the top 15 countries by Scimagojr 'Rank' (Rank 1 through 15). \n",
    "\n",
    "The index of this DataFrame should be the name of the country, and the columns should be ['Rank', 'Documents', 'Citable documents', 'Citations', 'Self-citations',\n",
    "       'Citations per document', 'H index', 'Energy Supply',\n",
    "       'Energy Supply per Capita', '% Renewable', '2006', '2007', '2008',\n",
    "       '2009', '2010', '2011', '2012', '2013', '2014', '2015'].\n",
    "\n",
    "*This function should return a DataFrame with 20 columns and 15 entries.*"
   ]
  },
  {
   "cell_type": "code",
   "execution_count": 149,
   "metadata": {
    "collapsed": true
   },
   "outputs": [],
   "source": [
    "import pandas as pd\n",
    "import numpy as np\n",
    "import os\n",
    "import re"
   ]
  },
  {
   "cell_type": "code",
   "execution_count": 198,
   "metadata": {},
   "outputs": [],
   "source": [
    "# Function to make Corrections \n",
    "def dic_corrections(x):\n",
    "    '''\n",
    "    1. Applies corrections stored in a dictionary to a string \n",
    "    2. Remove parts of string, if any in parentheses, and any numbers in the string\n",
    "    \n",
    "    '''\n",
    "    cor_dic = {\"South Korea\" : [[\"Republic\", 'Korea'], [\"Rep.\", 'Korea']],\n",
    "            \"United States\" : [[\"United\", \"States\", \"America\"], ],\n",
    "            \"United Kingdom\" : [[\"United\", \"Kingdom\", \"Britain\"], [\"Northern\", \"Ireland\"]] ,\n",
    "            \"Hong Kong\"  : [['China',\"Hong\" ,\"Kong\"],],\n",
    "            \"Iran\" : [[\"Iran\",],]}\n",
    "    try:\n",
    "        lt_words = x.replace(',', '').split(sep = ' ')\n",
    "        #print(lt_words)\n",
    "        for k,vals in cor_dic.items():\n",
    "            #print(k, vals)\n",
    "            for lt in vals:\n",
    "                check = all([el in lt_words for el in lt])\n",
    "                #print(check, k, '\\n')\n",
    "                if(check & (k != 'South Korea')):\n",
    "                    return(k)\n",
    "                elif(check & (k == 'South Korea') & (len(lt_words) < 4)):\n",
    "                    return(k)\n",
    "                else:\n",
    "                    continue\n",
    "        return(x)        \n",
    "    except:\n",
    "        return(x)\n",
    "    \n",
    "\n",
    "def other_corrections(x):\n",
    "    # partiton on '(' and extract 1st component of the resulting list\n",
    "    #print(x)\n",
    "    try:\n",
    "        temp = re.search('\\(', x,) \n",
    "        if(temp is not None):\n",
    "            result = x[0: temp.start()]\n",
    "        else:\n",
    "            result = x\n",
    "        #print(result)    \n",
    "        m = re.search('[0-9]+', result)  \n",
    "        if(m is not None):\n",
    "            result_fin = result.replace(result[m.start(): m.end()], '')\n",
    "        else:\n",
    "            result_fin = result\n",
    "        return result_fin.strip()    \n",
    "        #print(result)\n",
    "    except TypeError:\n",
    "        return x\n",
    "   \n",
    "    \n",
    "def correct(x):\n",
    "    temp = other_corrections(x)\n",
    "    result = dic_corrections(temp)\n",
    "    #print(x, temp,result)\n",
    "    return(result) \n",
    "\n",
    "def read_frame(path):\n",
    "    '''Read xls file from hard drive'''\n",
    "\n",
    "    with pd.ExcelFile(path) as con:\n",
    "        energy = pd.read_excel(io = path, sheetname = 'Energy',skiprows = 18, \n",
    "                            header = None, index_col = None,\n",
    "                           names = ['Country', 'Energy Supply', 'Energy Supply per Capita', '% Renewable'],\n",
    "                           dtype = {'Country' : 'str', \n",
    "                                    'Energy Suply' : np.float64,  # will work even is NaN are there, as NaN is float\n",
    "                                    'Energy Supply per Capita' : np.float64,\n",
    "                                    '% Renewable' : np.float64},\n",
    "                           # converters = {'Energy Supply' : peta_to_giga, },\n",
    "                            parse_cols = \"C:F\", \n",
    "                            na_values = ['', 'NA', None, '...'], \n",
    "                            verbose = True,)\n",
    "    #print(energy.head())  \n",
    "    #energy = energy.loc[~np.isnan(energy['Country']),].copy()\n",
    "    energy['Country_new'] = energy['Country'].map(correct)\n",
    "    energy.drop('Country',axis= 1, inplace= True)\n",
    "    energy.set_index('Country_new',inplace= True)\n",
    "    # Conversion of gigaJ to petaJ    \n",
    "    energy['Energy Supply(GJ)'] = energy['Energy Supply'].map(lambda x : x*1000000) \n",
    "    energy.drop('Energy Supply', axis= 1,inplace = True)\n",
    "    energy.dropna(axis = 0, how = 'all',inplace = True) # drop empty rows\n",
    "    return(energy)\n",
    "\n",
    "def download_frames(urls):\n",
    "    'Downloads two files from web, makes modifications, and returns them as data frames'\n",
    "    import io\n",
    "    from zipfile import ZipFile\n",
    "    import requests\n",
    "    \n",
    "    ### First file, zipped file ###\n",
    "    \n",
    "    ## pd.read_csv -  Has a provision for reading a zipped file but only when there is single file zipped ##\n",
    "    ## Read specific csv from zipped file without downloading the full zipped directory ##\n",
    "    \n",
    "    response = requests.get(urls[0]) # get response\n",
    "    zp = ZipFile(io.BytesIO(response.content)) # in memory stream of bytes is given to Zipfile\n",
    "    zp.extract(path = os.getcwd() , member = zp.namelist()[1]) # extract specific file\n",
    "    \n",
    "    GDP = pd.read_csv(filepath_or_buffer= os.getcwd() + '/' + zp.namelist()[1],skiprows= 4, \n",
    "                  header = 0, index_col= None, \n",
    "                  usecols = ['Country Name', '2006', '2007', '2008', '2009', \n",
    "                             '2010', '2011', '2012', '2013', '2014', '2015'],\n",
    "                 na_values = [''])\n",
    "    \n",
    "    GDP['Country_new'] = GDP['Country Name'].map(correct)\n",
    "    # print(gdp.loc[gdp['Country_new'].map(lambda x: x.startswith('Iran')),])\n",
    "    GDP.drop('Country Name',axis= 1, inplace= True)\n",
    "    GDP.set_index('Country_new',inplace= True)\n",
    "    \n",
    "    ### Second File, an excel file ###\n",
    "    response = requests.get(urls[1])\n",
    "    with open('sjr.xls', 'wb') as con:\n",
    "        con.write(response.content)\n",
    "    ScimEn_pre = pd.read_excel(io = os.getcwd() + '/' + 'sjr.xls', header = 0)  \n",
    "    # print(ScimEn.head())\n",
    "    ScimEn = ScimEn_pre.set_index('Country',inplace= False).sort_values('Rank', inplace = False)\n",
    "    \n",
    "    dic_frames = {'GDP' : GDP , 'ScimEn' : ScimEn }\n",
    "    return(dic_frames)\n",
    "\n",
    "def check_dup_index(df):\n",
    "    pass\n",
    "\n",
    "def merge_frames(dic_frames):\n",
    "    left_frame = dic_frames[\"GDP\"]\n",
    "    right_frame = dic_frames['energy']\n",
    "    frame_1 = pd.merge(left_frame, right_frame, how = 'inner',\n",
    "                                left_index= True,right_index = True)\n",
    "   \n",
    "    result = pd.merge(frame_1, dic_frames['ScimEn'], how = 'inner',\n",
    "                                left_index= True,right_index = True)\n",
    "    \n",
    "    return(result)    "
   ]
  },
  {
   "cell_type": "markdown",
   "metadata": {},
   "source": [
    "### Read 1st file"
   ]
  },
  {
   "cell_type": "code",
   "execution_count": 199,
   "metadata": {},
   "outputs": [
    {
     "name": "stdout",
     "output_type": "stream",
     "text": [
      "Reading sheet Energy\n"
     ]
    }
   ],
   "source": [
    "#path = os.getcwd() + \"\\\\Data\\\\Energy Indicators.xls\"\n",
    "path = os.getcwd() + \"/Energy Indicators.xls\"\n",
    "energy = read_frame(path)"
   ]
  },
  {
   "cell_type": "code",
   "execution_count": 200,
   "metadata": {
    "collapsed": true,
    "umich_part_id": "009",
    "umich_partlist_id": "003"
   },
   "outputs": [],
   "source": [
    "def answer_one():\n",
    "    df_final = merge_frames(dic_frames).sort_values('Rank')[0:15]\n",
    "    return df_final"
   ]
  },
  {
   "cell_type": "code",
   "execution_count": 201,
   "metadata": {},
   "outputs": [
    {
     "data": {
      "text/plain": [
       "20"
      ]
     },
     "execution_count": 201,
     "metadata": {},
     "output_type": "execute_result"
    }
   ],
   "source": [
    "df = answer_one()\n",
    "len(df.columns)"
   ]
  },
  {
   "cell_type": "code",
   "execution_count": 179,
   "metadata": {},
   "outputs": [],
   "source": [
    "#energy.head()"
   ]
  },
  {
   "cell_type": "markdown",
   "metadata": {
    "collapsed": true
   },
   "source": [
    "### Read two files from web, merge frames"
   ]
  },
  {
   "cell_type": "code",
   "execution_count": 202,
   "metadata": {},
   "outputs": [],
   "source": [
    "# Get data from web \n",
    "url1 = 'http://api.worldbank.org/v2/en/indicator/NY.GDP.MKTP.CD?downloadformat=csv'\n",
    "url2 = 'https://www.scimagojr.com/countryrank.php?category=2102&out=xls'\n",
    "urls = [url1, url2]\n",
    "dic_frames = download_frames(urls)\n",
    "dic_frames.update({'energy' : energy})\n",
    "df = merge_frames(dic_frames)"
   ]
  },
  {
   "cell_type": "markdown",
   "metadata": {},
   "source": [
    "### Question 2 (6.6%)\n",
    "The previous question joined three datasets then reduced this to just the top 15 entries. When you joined the datasets, but before you reduced this to the top 15 items, how many entries did you lose?\n",
    "\n",
    "*This function should return a single number.*"
   ]
  },
  {
   "cell_type": "code",
   "execution_count": 9,
   "metadata": {},
   "outputs": [
    {
     "data": {
      "text/html": [
       "<svg width=\"800\" height=\"300\">\n",
       "  <circle cx=\"150\" cy=\"180\" r=\"80\" fill-opacity=\"0.2\" stroke=\"black\" stroke-width=\"2\" fill=\"blue\" />\n",
       "  <circle cx=\"200\" cy=\"100\" r=\"80\" fill-opacity=\"0.2\" stroke=\"black\" stroke-width=\"2\" fill=\"red\" />\n",
       "  <circle cx=\"100\" cy=\"100\" r=\"80\" fill-opacity=\"0.2\" stroke=\"black\" stroke-width=\"2\" fill=\"green\" />\n",
       "  <line x1=\"150\" y1=\"125\" x2=\"300\" y2=\"150\" stroke=\"black\" stroke-width=\"2\" fill=\"black\" stroke-dasharray=\"5,3\"/>\n",
       "  <text  x=\"300\" y=\"165\" font-family=\"Verdana\" font-size=\"35\">Everything but this!</text>\n",
       "</svg>"
      ],
      "text/plain": [
       "<IPython.core.display.HTML object>"
      ]
     },
     "metadata": {},
     "output_type": "display_data"
    }
   ],
   "source": [
    "%%HTML\n",
    "<svg width=\"800\" height=\"300\">\n",
    "  <circle cx=\"150\" cy=\"180\" r=\"80\" fill-opacity=\"0.2\" stroke=\"black\" stroke-width=\"2\" fill=\"blue\" />\n",
    "  <circle cx=\"200\" cy=\"100\" r=\"80\" fill-opacity=\"0.2\" stroke=\"black\" stroke-width=\"2\" fill=\"red\" />\n",
    "  <circle cx=\"100\" cy=\"100\" r=\"80\" fill-opacity=\"0.2\" stroke=\"black\" stroke-width=\"2\" fill=\"green\" />\n",
    "  <line x1=\"150\" y1=\"125\" x2=\"300\" y2=\"150\" stroke=\"black\" stroke-width=\"2\" fill=\"black\" stroke-dasharray=\"5,3\"/>\n",
    "  <text  x=\"300\" y=\"165\" font-family=\"Verdana\" font-size=\"35\">Everything but this!</text>\n",
    "</svg>"
   ]
  },
  {
   "cell_type": "code",
   "execution_count": 203,
   "metadata": {
    "collapsed": true
   },
   "outputs": [],
   "source": [
    "def answer_two():\n",
    "    a = set(dic_frames['energy'].index)\n",
    "    b = set(dic_frames['GDP'].index)\n",
    "    c = set(dic_frames['ScimEn'].index)\n",
    "    x = a | b | c\n",
    "    y = a & b & c\n",
    "    \n",
    "    return (len(x)- len(y))"
   ]
  },
  {
   "cell_type": "code",
   "execution_count": 204,
   "metadata": {},
   "outputs": [
    {
     "data": {
      "text/plain": [
       "144"
      ]
     },
     "execution_count": 204,
     "metadata": {},
     "output_type": "execute_result"
    }
   ],
   "source": [
    "answer_two()"
   ]
  },
  {
   "cell_type": "markdown",
   "metadata": {},
   "source": [
    "## Answer the following questions in the context of only the top 15 countries by Scimagojr Rank (aka the DataFrame returned by `answer_one()`)"
   ]
  },
  {
   "cell_type": "markdown",
   "metadata": {},
   "source": [
    "### Question 3 (6.6%)\n",
    "What is the average GDP over the last 10 years for each country? (exclude missing values from this calculation.)\n",
    "\n",
    "*This function should return a Series named `avgGDP` with 15 countries and their average GDP sorted in descending order.*"
   ]
  },
  {
   "cell_type": "code",
   "execution_count": 205,
   "metadata": {
    "collapsed": true,
    "scrolled": true,
    "umich_part_id": "011",
    "umich_partlist_id": "003"
   },
   "outputs": [],
   "source": [
    "def avg_nonan(x):\n",
    "    #a = np.ma.array(x, mask = np.isnan(x))\n",
    "    a = x[~np.isnan(x)]\n",
    "    return np.sum(a)/len(a)\n",
    "\n",
    "def answer_three():\n",
    "    Top15 = answer_one()\n",
    "    cols = [str(x) for x in list(range(2006,2016))]\n",
    "    avgGDP = Top15.loc[:,cols].apply(func = avg_nonan, axis = 1).sort_values(ascending = False)\n",
    "    return avgGDP"
   ]
  },
  {
   "cell_type": "code",
   "execution_count": 183,
   "metadata": {
    "collapsed": true
   },
   "outputs": [],
   "source": [
    "#answer_one() \n",
    "#avg_nonan(pd.Series({'a': 3, 'b' :4, 'c' : np.nan}))"
   ]
  },
  {
   "cell_type": "code",
   "execution_count": 206,
   "metadata": {},
   "outputs": [
    {
     "data": {
      "text/plain": [
       "'France'"
      ]
     },
     "execution_count": 206,
     "metadata": {},
     "output_type": "execute_result"
    }
   ],
   "source": [
    "answer_three().index[5,]"
   ]
  },
  {
   "cell_type": "markdown",
   "metadata": {},
   "source": [
    "### Question 4 (6.6%)\n",
    "By how much had the GDP changed over the 10 year span for the country with the 6th largest average GDP?\n",
    "\n",
    "*This function should return a single number.*"
   ]
  },
  {
   "cell_type": "code",
   "execution_count": 207,
   "metadata": {
    "collapsed": true,
    "scrolled": true,
    "umich_part_id": "012",
    "umich_partlist_id": "003"
   },
   "outputs": [],
   "source": [
    "def answer_four():\n",
    "    Top15 = answer_one()\n",
    "    gdp_rk_6 = answer_three().index[5]\n",
    "    ANSWER = Top15.loc[gdp_rk_6,'2015'] - Top15.loc[gdp_rk_6,'2006']\n",
    "    return ANSWER"
   ]
  },
  {
   "cell_type": "code",
   "execution_count": 208,
   "metadata": {},
   "outputs": [
    {
     "data": {
      "text/plain": [
       "119614244263.37988"
      ]
     },
     "execution_count": 208,
     "metadata": {},
     "output_type": "execute_result"
    }
   ],
   "source": [
    "answer_four()"
   ]
  },
  {
   "cell_type": "markdown",
   "metadata": {},
   "source": [
    "### Question 5 (6.6%)\n",
    "What is the mean `Energy Supply per Capita`?\n",
    "\n",
    "*This function should return a single number.*"
   ]
  },
  {
   "cell_type": "code",
   "execution_count": 209,
   "metadata": {
    "collapsed": true,
    "umich_part_id": "013",
    "umich_partlist_id": "003"
   },
   "outputs": [],
   "source": [
    "def answer_five():\n",
    "    Top15 = answer_one()\n",
    "    ANSWER = avg_nonan(Top15['Energy Supply per Capita'])\n",
    "    return ANSWER"
   ]
  },
  {
   "cell_type": "code",
   "execution_count": 210,
   "metadata": {},
   "outputs": [
    {
     "data": {
      "text/plain": [
       "157.6"
      ]
     },
     "execution_count": 210,
     "metadata": {},
     "output_type": "execute_result"
    }
   ],
   "source": [
    "answer_five()"
   ]
  },
  {
   "cell_type": "markdown",
   "metadata": {},
   "source": [
    "### Question 6 (6.6%)\n",
    "What country has the maximum % Renewable and what is the percentage?\n",
    "\n",
    "*This function should return a tuple with the name of the country and the percentage.*"
   ]
  },
  {
   "cell_type": "code",
   "execution_count": 211,
   "metadata": {
    "collapsed": true,
    "umich_part_id": "014",
    "umich_partlist_id": "003"
   },
   "outputs": [],
   "source": [
    "def nonan(x):\n",
    "    #a = np.ma.array(x, mask = np.isnan(x))\n",
    "    a = x[~np.isnan(x)]\n",
    "    return a\n",
    "\n",
    "def answer_six():\n",
    "    Top15 = answer_one()\n",
    "    a = nonan(Top15['% Renewable'])\n",
    "    mx = np.max(a)\n",
    "    nm = np.argmax(a)\n",
    "    return (nm,mx)"
   ]
  },
  {
   "cell_type": "code",
   "execution_count": 212,
   "metadata": {},
   "outputs": [
    {
     "data": {
      "text/plain": [
       "('Brazil', 69.648030000000006)"
      ]
     },
     "execution_count": 212,
     "metadata": {},
     "output_type": "execute_result"
    }
   ],
   "source": [
    "answer_six()"
   ]
  },
  {
   "cell_type": "markdown",
   "metadata": {},
   "source": [
    "### Question 7 (6.6%)\n",
    "Create a new column that is the ratio of Self-Citations to Total Citations. \n",
    "What is the maximum value for this new column, and what country has the highest ratio?\n",
    "\n",
    "*This function should return a tuple with the name of the country and the ratio.*"
   ]
  },
  {
   "cell_type": "code",
   "execution_count": 213,
   "metadata": {
    "collapsed": true,
    "umich_part_id": "015",
    "umich_partlist_id": "003"
   },
   "outputs": [],
   "source": [
    "def answer_seven():\n",
    "    Top15 = answer_one()\n",
    "    Top15['ratio'] = Top15['Self-citations']/Top15['Citations']\n",
    "    mx = np.max(Top15['ratio'])\n",
    "    nm = np.argmax(Top15['ratio'])\n",
    "    \n",
    "    return (nm,mx)"
   ]
  },
  {
   "cell_type": "code",
   "execution_count": 214,
   "metadata": {},
   "outputs": [
    {
     "data": {
      "text/plain": [
       "('China', 0.68320748544381471)"
      ]
     },
     "execution_count": 214,
     "metadata": {},
     "output_type": "execute_result"
    }
   ],
   "source": [
    "answer_seven()"
   ]
  },
  {
   "cell_type": "markdown",
   "metadata": {},
   "source": [
    "### Question 8 (6.6%)\n",
    "\n",
    "Create a column that estimates the population using Energy Supply and Energy Supply per capita. \n",
    "What is the third most populous country according to this estimate?\n",
    "\n",
    "*This function should return a single string value.*"
   ]
  },
  {
   "cell_type": "code",
   "execution_count": 195,
   "metadata": {},
   "outputs": [
    {
     "data": {
      "text/plain": [
       "Index(['2006', '2007', '2008', '2009', '2010', '2011', '2012', '2013', '2014',\n",
       "       '2015', 'Energy Supply per Capita', '% Renewable', 'Energy Suppply(GJ)',\n",
       "       'Rank', 'Documents', 'Citable documents', 'Citations', 'Self-citations',\n",
       "       'Citations per document', 'H index'],\n",
       "      dtype='object')"
      ]
     },
     "execution_count": 195,
     "metadata": {},
     "output_type": "execute_result"
    }
   ],
   "source": [
    "df.columns"
   ]
  },
  {
   "cell_type": "code",
   "execution_count": 215,
   "metadata": {
    "collapsed": true,
    "umich_part_id": "016",
    "umich_partlist_id": "003"
   },
   "outputs": [],
   "source": [
    "def answer_eight():\n",
    "    Top15 = answer_one()\n",
    "    Top15['Pop'] = Top15['Energy Supply(GJ)'] / Top15['Energy Supply per Capita'] \n",
    "    temp = nonan(Top15['Pop']).sort_values(ascending = False)\n",
    "    ANSWER = temp.index[2]\n",
    "    return ANSWER"
   ]
  },
  {
   "cell_type": "code",
   "execution_count": 216,
   "metadata": {},
   "outputs": [
    {
     "data": {
      "text/plain": [
       "'United States'"
      ]
     },
     "execution_count": 216,
     "metadata": {},
     "output_type": "execute_result"
    }
   ],
   "source": [
    "answer_eight()"
   ]
  },
  {
   "cell_type": "markdown",
   "metadata": {},
   "source": [
    "### Question 9 (6.6%)\n",
    "Create a column that estimates the number of citable documents per person. \n",
    "What is the correlation between the number of citable documents per capita and the energy supply per capita? Use the `.corr()` method, (Pearson's correlation).\n",
    "\n",
    "*This function should return a single number.*\n",
    "\n",
    "*(Optional: Use the built-in function `plot9()` to visualize the relationship between Energy Supply per Capita vs. Citable docs per Capita)*"
   ]
  },
  {
   "cell_type": "code",
   "execution_count": 217,
   "metadata": {
    "collapsed": true,
    "umich_part_id": "017",
    "umich_partlist_id": "003"
   },
   "outputs": [],
   "source": [
    "def answer_nine():\n",
    "    Top15 = answer_one()\n",
    "    Top15['Pop'] = Top15['Energy Supply(GJ)'] / Top15['Energy Supply per Capita']\n",
    "    Top15['ESPC'] = Top15['Energy Supply(GJ)'] / Top15['Pop']\n",
    "    Top15['CDPC'] = Top15['Citable documents'] / Top15['Pop']\n",
    "    ANSWER = Top15.loc[:,['ESPC', 'CDPC']].corr(method = 'pearson')\n",
    "    return ANSWER.iloc[0,1]"
   ]
  },
  {
   "cell_type": "code",
   "execution_count": 218,
   "metadata": {},
   "outputs": [
    {
     "data": {
      "text/plain": [
       "0.77404323399911701"
      ]
     },
     "execution_count": 218,
     "metadata": {},
     "output_type": "execute_result"
    }
   ],
   "source": [
    "answer_nine()"
   ]
  },
  {
   "cell_type": "code",
   "execution_count": 221,
   "metadata": {
    "collapsed": true
   },
   "outputs": [],
   "source": [
    "def plot9():\n",
    "    import matplotlib as plt\n",
    "    %matplotlib inline\n",
    "    \n",
    "    Top15 = answer_one()\n",
    "    Top15['Pop'] = Top15['Energy Supply(GJ)'] / Top15['Energy Supply per Capita']\n",
    "    Top15['CDPC'] = Top15['Citable documents'] / Top15['Pop']\n",
    "    Top15['ESPC'] = Top15['Citable documents'] / Top15['Pop']\n",
    "    Top15.plot(x='CDPC', y='ESPC', kind='scatter', xlim=[0, 0.0006])"
   ]
  },
  {
   "cell_type": "code",
   "execution_count": 222,
   "metadata": {},
   "outputs": [
    {
     "data": {
      "image/png": "[encoded data removed]",
      "text/plain": [
       "<matplotlib.figure.Figure at 0x11356cb38>"
      ]
     },
     "metadata": {},
     "output_type": "display_data"
    }
   ],
   "source": [
    "plot9() # Be sure to comment out plot9() before submitting the assignment!"
   ]
  },
  {
   "cell_type": "markdown",
   "metadata": {},
   "source": [
    "### Question 10 (6.6%)\n",
    "Create a new column with a 1 if the country's % Renewable value is at or above the median for all countries in the top 15, and a 0 if the country's % Renewable value is below the median.\n",
    "\n",
    "*This function should return a series named `HighRenew` whose index is the country name sorted in ascending order of rank.*"
   ]
  },
  {
   "cell_type": "code",
   "execution_count": 223,
   "metadata": {
    "collapsed": true,
    "umich_part_id": "018",
    "umich_partlist_id": "003"
   },
   "outputs": [],
   "source": [
    "def answer_ten():\n",
    "    Top15 = answer_one()\n",
    "    a = nonan(Top15['% Renewable'])\n",
    "    med = np.median(a)\n",
    "    Top15['HighRenew_temp'] = Top15['% Renewable'].where(Top15['% Renewable'] >= med,0)\n",
    "    Top15['HighRenew'] = Top15['HighRenew_temp'].where(Top15['HighRenew_temp'] == 0,1)\n",
    "    ANSWER = Top15['HighRenew']\n",
    "    return ANSWER.sort_values(ascending = True)"
   ]
  },
  {
   "cell_type": "code",
   "execution_count": 224,
   "metadata": {},
   "outputs": [
    {
     "data": {
      "text/plain": [
       "United States         0.0\n",
       "Japan                 0.0\n",
       "United Kingdom        0.0\n",
       "India                 0.0\n",
       "South Korea           0.0\n",
       "Iran                  0.0\n",
       "Australia             0.0\n",
       "China                 1.0\n",
       "Germany               1.0\n",
       "Russian Federation    1.0\n",
       "Canada                1.0\n",
       "France                1.0\n",
       "Italy                 1.0\n",
       "Brazil                1.0\n",
       "Spain                 1.0\n",
       "Name: HighRenew, dtype: float64"
      ]
     },
     "execution_count": 224,
     "metadata": {},
     "output_type": "execute_result"
    }
   ],
   "source": [
    "answer_ten()"
   ]
  },
  {
   "cell_type": "markdown",
   "metadata": {},
   "source": [
    "### Question 11 (6.6%)\n",
    "Use the following dictionary to group the Countries by Continent, then create a dateframe that displays the sample size (the number of countries in each continent bin), and the sum, mean, and std deviation for the estimated population of each country.\n",
    "\n",
    "```python\n",
    "ContinentDict  = {'China':'Asia', \n",
    "                  'United States':'North America', \n",
    "                  'Japan':'Asia', \n",
    "                  'United Kingdom':'Europe', \n",
    "                  'Russian Federation':'Europe', \n",
    "                  'Canada':'North America', \n",
    "                  'Germany':'Europe', \n",
    "                  'India':'Asia',\n",
    "                  'France':'Europe', \n",
    "                  'South Korea':'Asia', \n",
    "                  'Italy':'Europe', \n",
    "                  'Spain':'Europe', \n",
    "                  'Iran':'Asia',\n",
    "                  'Australia':'Australia', \n",
    "                  'Brazil':'South America'}\n",
    "```\n",
    "\n",
    "*This function should return a DataFrame with index named Continent `['Asia', 'Australia', 'Europe', 'North America', 'South America']` and columns `['size', 'sum', 'mean', 'std']`*"
   ]
  },
  {
   "cell_type": "code",
   "execution_count": 225,
   "metadata": {
    "collapsed": true,
    "umich_part_id": "019",
    "umich_partlist_id": "003"
   },
   "outputs": [],
   "source": [
    "ContinentDict  = {'China':'Asia', \n",
    "                  'United States':'North America', \n",
    "                  'Japan':'Asia', \n",
    "                  'United Kingdom':'Europe', \n",
    "                  'Russian Federation':'Europe', \n",
    "                  'Canada':'North America', \n",
    "                  'Germany':'Europe', \n",
    "                  'India':'Asia',\n",
    "                  'France':'Europe', \n",
    "                  'South Korea':'Asia', \n",
    "                  'Italy':'Europe', \n",
    "                  'Spain':'Europe', \n",
    "                  'Iran':'Asia',\n",
    "                  'Australia':'Australia', \n",
    "                  'Brazil':'South America'}\n",
    "def answer_eleven():\n",
    "    Top15 = answer_one()\n",
    "    Top15['Pop'] = Top15['Energy Supply(GJ)'] / Top15['Energy Supply per Capita']\n",
    "    Continent = pd.Series(ContinentDict, index = ContinentDict.keys())\n",
    "    Top15['Continent'] = Continent\n",
    "    ANSWER = (Top15.loc[:,['Continent','Pop']].groupby('Continent',squeeze = True)\n",
    "                  .agg({'Pop' :{'sum': np.sum, \n",
    "                                'mean':np.average, \n",
    "                                'std'  :np.std,\n",
    "                                'size' : 'count'}}))\n",
    "              #.set_index('Continent'))\n",
    "    ANSWER.columns = ANSWER.columns.droplevel(0)                               \n",
    "    \n",
    "    return ANSWER"
   ]
  },
  {
   "cell_type": "code",
   "execution_count": 226,
   "metadata": {},
   "outputs": [
    {
     "name": "stderr",
     "output_type": "stream",
     "text": [
      "/Users/sumad/anaconda3/lib/python3.6/site-packages/pandas/core/groupby.py:4036: FutureWarning: using a dict with renaming is deprecated and will be removed in a future version\n",
      "  return super(DataFrameGroupBy, self).aggregate(arg, *args, **kwargs)\n"
     ]
    },
    {
     "data": {
      "text/html": [
       "<div>\n",
       "<style>\n",
       "    .dataframe thead tr:only-child th {\n",
       "        text-align: right;\n",
       "    }\n",
       "\n",
       "    .dataframe thead th {\n",
       "        text-align: left;\n",
       "    }\n",
       "\n",
       "    .dataframe tbody tr th {\n",
       "        vertical-align: top;\n",
       "    }\n",
       "</style>\n",
       "<table border=\"1\" class=\"dataframe\">\n",
       "  <thead>\n",
       "    <tr style=\"text-align: right;\">\n",
       "      <th></th>\n",
       "      <th>sum</th>\n",
       "      <th>mean</th>\n",
       "      <th>std</th>\n",
       "      <th>size</th>\n",
       "    </tr>\n",
       "    <tr>\n",
       "      <th>Continent</th>\n",
       "      <th></th>\n",
       "      <th></th>\n",
       "      <th></th>\n",
       "      <th></th>\n",
       "    </tr>\n",
       "  </thead>\n",
       "  <tbody>\n",
       "    <tr>\n",
       "      <th>Asia</th>\n",
       "      <td>2.898666e+09</td>\n",
       "      <td>5.797333e+08</td>\n",
       "      <td>6.790979e+08</td>\n",
       "      <td>5</td>\n",
       "    </tr>\n",
       "    <tr>\n",
       "      <th>Australia</th>\n",
       "      <td>2.331602e+07</td>\n",
       "      <td>2.331602e+07</td>\n",
       "      <td>NaN</td>\n",
       "      <td>1</td>\n",
       "    </tr>\n",
       "    <tr>\n",
       "      <th>Europe</th>\n",
       "      <td>4.579297e+08</td>\n",
       "      <td>7.632161e+07</td>\n",
       "      <td>3.464767e+07</td>\n",
       "      <td>6</td>\n",
       "    </tr>\n",
       "    <tr>\n",
       "      <th>North America</th>\n",
       "      <td>3.528552e+08</td>\n",
       "      <td>1.764276e+08</td>\n",
       "      <td>1.996696e+08</td>\n",
       "      <td>2</td>\n",
       "    </tr>\n",
       "    <tr>\n",
       "      <th>South America</th>\n",
       "      <td>2.059153e+08</td>\n",
       "      <td>2.059153e+08</td>\n",
       "      <td>NaN</td>\n",
       "      <td>1</td>\n",
       "    </tr>\n",
       "  </tbody>\n",
       "</table>\n",
       "</div>"
      ],
      "text/plain": [
       "                        sum          mean           std  size\n",
       "Continent                                                    \n",
       "Asia           2.898666e+09  5.797333e+08  6.790979e+08     5\n",
       "Australia      2.331602e+07  2.331602e+07           NaN     1\n",
       "Europe         4.579297e+08  7.632161e+07  3.464767e+07     6\n",
       "North America  3.528552e+08  1.764276e+08  1.996696e+08     2\n",
       "South America  2.059153e+08  2.059153e+08           NaN     1"
      ]
     },
     "execution_count": 226,
     "metadata": {},
     "output_type": "execute_result"
    }
   ],
   "source": [
    "answer_eleven()"
   ]
  },
  {
   "cell_type": "markdown",
   "metadata": {},
   "source": [
    "### Question 12 (6.6%)\n",
    "Cut % Renewable into 5 bins. Group Top15 by the Continent, as well as these new % Renewable bins. How many countries are in each of these groups?\n",
    "\n",
    "*This function should return a __Series__ with a MultiIndex of `Continent`, then the bins for `% Renewable`. Do not include groups with no countries.*"
   ]
  },
  {
   "cell_type": "code",
   "execution_count": 227,
   "metadata": {
    "collapsed": true
   },
   "outputs": [],
   "source": [
    "#df.reset_index()"
   ]
  },
  {
   "cell_type": "code",
   "execution_count": 228,
   "metadata": {
    "collapsed": true,
    "scrolled": true
   },
   "outputs": [],
   "source": [
    "def answer_twelve():\n",
    "    Top15 = answer_one()\n",
    "    Top15['Cut'] = pd.cut(Top15['% Renewable'],bins= 5,right= True,include_lowest= False)\n",
    "    Continent = pd.Series(ContinentDict, index = ContinentDict.keys())\n",
    "    Top15['Continent'] = Continent\n",
    "    grps = Top15.reset_index().groupby(['Continent','Cut']).size()\n",
    "    '''\n",
    "    dic = {}\n",
    "    for k, grp in grps:\n",
    "        ctries = len(grp['index'].unique())\n",
    "        if(ctries > 0):\n",
    "            dic[k] = ctries\n",
    "    #df[d]\n",
    "    #df = Top15.reset_index()\n",
    "    return pd.Series(dic, index = dic.keys())\n",
    "    '''\n",
    "    return grps"
   ]
  },
  {
   "cell_type": "code",
   "execution_count": 229,
   "metadata": {},
   "outputs": [
    {
     "data": {
      "text/plain": [
       "Continent      Cut             \n",
       "Asia           (2.212, 15.753]     4\n",
       "               (15.753, 29.227]    1\n",
       "Australia      (2.212, 15.753]     1\n",
       "Europe         (2.212, 15.753]     1\n",
       "               (15.753, 29.227]    3\n",
       "               (29.227, 42.701]    2\n",
       "North America  (2.212, 15.753]     1\n",
       "               (56.174, 69.648]    1\n",
       "South America  (56.174, 69.648]    1\n",
       "dtype: int64"
      ]
     },
     "execution_count": 229,
     "metadata": {},
     "output_type": "execute_result"
    }
   ],
   "source": [
    "answer_twelve()"
   ]
  },
  {
   "cell_type": "markdown",
   "metadata": {},
   "source": [
    "### Question 13 (6.6%)\n",
    "Convert the Population Estimate series to a string with thousands separator (using commas). Do not round the results.\n",
    "\n",
    "e.g. 317615384.61538464 -> 317,615,384.61538464\n",
    "\n",
    "*This function should return a Series `PopEst` whose index is the country name and whose values are the population estimate string.*"
   ]
  },
  {
   "cell_type": "code",
   "execution_count": 231,
   "metadata": {
    "collapsed": true,
    "scrolled": true,
    "umich_part_id": "020",
    "umich_partlist_id": "003"
   },
   "outputs": [],
   "source": [
    "def answer_thirteen():\n",
    "    Top15 = answer_one()\n",
    "    Top15['PopEst'] = Top15['Energy Supply(GJ)'] / Top15['Energy Supply per Capita']\n",
    "    ANSWER = Top15['PopEst'].map(lambda x: '{0:,}'.format(x)).astype(str)\n",
    "    return ANSWER"
   ]
  },
  {
   "cell_type": "code",
   "execution_count": 232,
   "metadata": {},
   "outputs": [
    {
     "data": {
      "text/plain": [
       "China                 1,367,645,161.2903225\n",
       "United States          317,615,384.61538464\n",
       "Japan                  127,409,395.97315437\n",
       "United Kingdom         63,870,967.741935484\n",
       "India                 1,276,730,769.2307692\n",
       "Germany                 80,369,696.96969697\n",
       "Russian Federation            143,500,000.0\n",
       "Canada                  35,239,864.86486486\n",
       "France                  63,837,349.39759036\n",
       "South Korea            49,805,429.864253394\n",
       "Italy                  59,908,256.880733944\n",
       "Iran                    77,075,630.25210084\n",
       "Brazil                 205,915,254.23728815\n",
       "Australia              23,316,017.316017315\n",
       "Spain                    46,443,396.2264151\n",
       "Name: PopEst, dtype: object"
      ]
     },
     "execution_count": 232,
     "metadata": {},
     "output_type": "execute_result"
    }
   ],
   "source": [
    "answer_thirteen()"
   ]
  },
  {
   "cell_type": "markdown",
   "metadata": {},
   "source": [
    "### Optional\n",
    "\n",
    "Use the built in function `plot_optional()` to see an example visualization."
   ]
  },
  {
   "cell_type": "code",
   "execution_count": 233,
   "metadata": {
    "collapsed": true,
    "scrolled": true
   },
   "outputs": [],
   "source": [
    "def plot_optional():\n",
    "    import matplotlib as plt\n",
    "    %matplotlib inline\n",
    "    Top15 = answer_one()\n",
    "    ax = Top15.plot(x='Rank', y='% Renewable', kind='scatter', \n",
    "                    c=['#e41a1c','#377eb8','#e41a1c','#4daf4a','#4daf4a','#377eb8','#4daf4a','#e41a1c',\n",
    "                       '#4daf4a','#e41a1c','#4daf4a','#4daf4a','#e41a1c','#dede00','#ff7f00'], \n",
    "                    xticks=range(1,16), s=6*Top15['2014']/10**10, alpha=.75, figsize=[16,6]);\n",
    "\n",
    "    for i, txt in enumerate(Top15.index):\n",
    "        ax.annotate(txt, [Top15['Rank'][i], Top15['% Renewable'][i]], ha='center')\n",
    "\n",
    "    print(\"This is an example of a visualization that can be created to help understand the data. \\\n",
    "This is a bubble chart showing % Renewable vs. Rank. The size of the bubble corresponds to the countries' \\\n",
    "2014 GDP, and the color corresponds to the continent.\")"
   ]
  },
  {
   "cell_type": "code",
   "execution_count": 234,
   "metadata": {},
   "outputs": [
    {
     "name": "stdout",
     "output_type": "stream",
     "text": [
      "This is an example of a visualization that can be created to help understand the data. This is a bubble chart showing % Renewable vs. Rank. The size of the bubble corresponds to the countries' 2014 GDP, and the color corresponds to the continent.\n"
     ]
    },
    {
     "data": {
      "image/png": "[encoded data removed]",
      "text/plain": [
       "<matplotlib.figure.Figure at 0x1194be390>"
      ]
     },
     "metadata": {},
     "output_type": "display_data"
    }
   ],
   "source": [
    "plot_optional() # Be sure to comment out plot_optional() before submitting the assignment!"
   ]
  }
 ],
 "metadata": {
  "kernelspec": {
   "display_name": "Python 3",
   "language": "python",
   "name": "python3"
  },
  "language_info": {
   "codemirror_mode": {
    "name": "ipython",
    "version": 3
   },
   "file_extension": ".py",
   "mimetype": "text/x-python",
   "name": "python",
   "nbconvert_exporter": "python",
   "pygments_lexer": "ipython3",
   "version": "3.6.3"
  }
 },
 "nbformat": 4,
 "nbformat_minor": 2
}
