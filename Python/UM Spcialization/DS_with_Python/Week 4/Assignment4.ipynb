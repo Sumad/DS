{
 "cells": [
  {
   "cell_type": "markdown",
   "metadata": {},
   "source": [
    "# Assignment 4 - Hypothesis Testing\n",
    "This assignment requires more individual learning than previous assignments - you are encouraged to check out the [pandas documentation](http://pandas.pydata.org/pandas-docs/stable/) to find functions or methods you might not have used yet, or ask questions on [Stack Overflow](http://stackoverflow.com/) and tag them as pandas and python related. And of course, the discussion forums are open for interaction with your peers and the course staff.\n",
    "\n",
    "Definitions:\n",
    "* A _quarter_ is a specific three month period, Q1 is January through March, Q2 is April through June, Q3 is July through September, Q4 is October through December.\n",
    "* A _recession_ is defined as starting with two consecutive quarters of GDP decline, and ending with two consecutive quarters of GDP growth.\n",
    "* A _recession bottom_ is the quarter within a recession which had the lowest GDP.\n",
    "* A _university town_ is a city which has a high percentage of university students compared to the total population of the city.\n",
    "\n",
    "**Hypothesis**: University towns have their mean housing prices less effected by recessions. Run a t-test to compare the ratio of the mean price of houses in university towns the quarter before the recession starts compared to the recession bottom. (`price_ratio=quarter_before_recession/recession_bottom`)\n",
    "\n",
    "The following data files are available for this assignment:\n",
    "* From the [Zillow research data site](http://www.zillow.com/research/data/) there is housing data for the United States. In particular the datafile for [all homes at a city level](http://files.zillowstatic.com/research/public/City/City_Zhvi_AllHomes.csv), ```City_Zhvi_AllHomes.csv```, has median home sale prices at a fine grained level.\n",
    "* From the Wikipedia page on college towns is a list of [university towns in the United States](https://en.wikipedia.org/wiki/List_of_college_towns#College_towns_in_the_United_States) which has been copy and pasted into the file ```university_towns.txt```.\n",
    "* From Bureau of Economic Analysis, US Department of Commerce, the [GDP over time](http://www.bea.gov/national/index.htm#gdp) of the United States in current dollars (use the chained value in 2009 dollars), in quarterly intervals, in the file ```gdplev.xls```. For this assignment, only look at GDP data from the first quarter of 2000 onward.\n",
    "\n",
    "Each function in this assignment below is worth 10%, with the exception of ```run_ttest()```, which is worth 50%."
   ]
  },
  {
   "cell_type": "code",
   "execution_count": null,
   "metadata": {
    "collapsed": true
   },
   "outputs": [],
   "source": [
    "import pandas as pd\n",
    "import numpy as np\n",
    "from  scipy import stats "
   ]
  },
  {
   "cell_type": "code",
   "execution_count": null,
   "metadata": {
    "collapsed": true
   },
   "outputs": [],
   "source": [
    "# Use this dictionary to map state names to two letter acronyms\n",
    "states = {'OH': 'Ohio', 'KY': 'Kentucky', 'AS': 'American Samoa', 'NV': 'Nevada', \n",
    "          'WY': 'Wyoming', 'NA': 'National', 'AL': 'Alabama', 'MD': 'Maryland', \n",
    "          'AK': 'Alaska', 'UT': 'Utah', 'OR': 'Oregon', 'MT': 'Montana', 'IL': 'Illinois', \n",
    "          'TN': 'Tennessee', 'DC': 'District of Columbia', 'VT': 'Vermont', 'ID': 'Idaho', 'AR': 'Arkansas', \n",
    "          'ME': 'Maine', 'WA': 'Washington', 'HI': 'Hawaii', 'WI': 'Wisconsin', 'MI': 'Michigan', 'IN': 'Indiana', \n",
    "          'NJ': 'New Jersey', 'AZ': 'Arizona', 'GU': 'Guam', 'MS': 'Mississippi', 'PR': 'Puerto Rico', \n",
    "          'NC': 'North Carolina', 'TX': 'Texas', 'SD': 'South Dakota', 'MP': 'Northern Mariana Islands', \n",
    "          'IA': 'Iowa', 'MO': 'Missouri', 'CT': 'Connecticut', 'WV': 'West Virginia', 'SC': 'South Carolina', 'LA': 'Louisiana', 'KS': 'Kansas', 'NY': 'New York', 'NE': 'Nebraska', 'OK': 'Oklahoma', 'FL': 'Florida', 'CA': 'California', 'CO': 'Colorado', 'PA': 'Pennsylvania', 'DE': 'Delaware', 'NM': 'New Mexico', 'RI': 'Rhode Island', 'MN': 'Minnesota', 'VI': 'Virgin Islands', 'NH': 'New Hampshire', 'MA': 'Massachusetts', 'GA': 'Georgia', 'ND': 'North Dakota', 'VA': 'Virginia'}\n",
    "\n"
   ]
  },
  {
   "cell_type": "code",
   "execution_count": null,
   "metadata": {
    "collapsed": true
   },
   "outputs": [],
   "source": [
    "def get_list_of_university_towns():\n",
    "    '''Returns a DataFrame of towns and the states they are in from the \n",
    "    university_towns.txt list. The format of the DataFrame should be:\n",
    "    DataFrame( [ [\"Michigan\", \"Ann Arbor\"], [\"Michigan\", \"Yipsilanti\"] ], \n",
    "    columns=[\"State\", \"RegionName\"]  )\n",
    "    \n",
    "    The following cleaning needs to be done:\n",
    "\n",
    "    1. For \"State\", removing characters from \"[\" to the end.\n",
    "    2. For \"RegionName\", when applicable, removing every character from \" (\" to the end.\n",
    "    3. Depending on how you read the data, you may need to remove newline character '\\n'. '''\n",
    "    import re\n",
    "    ser = []\n",
    "    with open('university_towns.txt', 'rt') as con:\n",
    "        for line in con.readlines(): \n",
    "            if(line == '\\n'):\n",
    "                continue\n",
    "            elif(line.endswith('[edit]\\n')):\n",
    "                k = line.split('[')[0].strip()\n",
    "                #print(line,'--',k,'>')\n",
    "            else:\n",
    "                ret1 = re.search('\\(', line)\n",
    "                ret2 = re.search('\\[', line)\n",
    "                if((ret1 is None)  & (ret2 is None)):\n",
    "                    val = line.strip()\n",
    "                    ser.append([k,val])\n",
    "                elif((ret1 is not None)  & (ret2 is None)):    \n",
    "                    val = line[0:ret1.span()[0]].strip()\n",
    "                    ser.append([k,val])\n",
    "                elif((ret1 is None)  & (ret2 is not None)):\n",
    "                    val = line[0:ret2.span()[0]].strip()\n",
    "                    ser.append([k,val]) \n",
    "                elif(ret1.span()[0] < ret2.span()[0]):\n",
    "                    val = line[0:ret1.span()[0]].strip()\n",
    "                    ser.append([k,val])\n",
    "                else:\n",
    "                    val = line[0:ret2.span()[0]].strip()\n",
    "                    ser.append([k,val])\n",
    "                #print(line,'--',val,'>')           \n",
    "                    \n",
    "                    \n",
    "    con.close()                \n",
    "    df = pd.DataFrame(ser, columns = ['State', 'RegionName'])                \n",
    "    \n",
    "    return df\n",
    "\n",
    "df = get_list_of_university_towns()\n",
    "len(df)\n",
    "#df.info\n",
    "df.tail(5)"
   ]
  },
  {
   "cell_type": "code",
   "execution_count": null,
   "metadata": {
    "collapsed": true
   },
   "outputs": [],
   "source": [
    "def read_qtrly_data():\n",
    "    df= pd.read_excel('gdplev.xls', skiprows = 219, parse_cols = \"E,G\", names = ['Qtr', 'GDP'])\n",
    "    df.index = pd.to_datetime(df['Qtr'])\n",
    "    df.sort_index(ascending = True, inplace = True)\n",
    "    return(df)"
   ]
  },
  {
   "cell_type": "code",
   "execution_count": null,
   "metadata": {
    "collapsed": true
   },
   "outputs": [],
   "source": [
    "def get_recession_start():\n",
    "    '''Returns the year and quarter of the recession start time as a \n",
    "    string value in a format such as 2005q3'''\n",
    "    df = read_qtrly_data()\n",
    "    for i in range(len(df.index)-2):\n",
    "        if((df.iloc[i,1] > df.iloc[i + 1,1]) & (df.iloc[i+1,1] > df.iloc[i + 2,1])):\n",
    "            ans = df.loc[df.index[i], 'Qtr']\n",
    "            break\n",
    "        else:\n",
    "            continue   \n",
    "    return ans\n",
    "\n",
    "get_recession_start()"
   ]
  },
  {
   "cell_type": "code",
   "execution_count": null,
   "metadata": {
    "collapsed": true
   },
   "outputs": [],
   "source": [
    "def get_recession_end():\n",
    "    '''Returns the year and quarter of the recession end time as a \n",
    "    string value in a format such as 2005q3'''\n",
    "    df = read_qtrly_data()\n",
    "    for i in range(len(df.index)-2):\n",
    "        if(df.index[i] <= pd.to_datetime(get_recession_start())):\n",
    "            continue\n",
    "        elif((df.iloc[i,1] < df.iloc[i + 1,1]) & (df.iloc[i+1,1] < df.iloc[i + 2,1])):\n",
    "            ans = df.loc[df.index[i+2], 'Qtr']\n",
    "            break\n",
    "        else:\n",
    "            continue \n",
    "       \n",
    "    return ans\n",
    "\n",
    "get_recession_end()\n",
    "\n",
    "def get_recession_bottom():\n",
    "    '''Returns the year and quarter of the recession bottom time as a \n",
    "    string value in a format such as 2005q3'''\n",
    "    df = read_qtrly_data()\n",
    "    start = pd.to_datetime(get_recession_start())\n",
    "    end = pd.to_datetime(get_recession_end())\n",
    "    subset = df.loc[(df.index >= start) & (df.index <=end), ]\n",
    "    ans = subset.loc[subset['GDP'] == subset['GDP'].min(),'Qtr'].values[0]\n",
    "    return ans\n",
    "\n",
    "get_recession_bottom()"
   ]
  },
  {
   "cell_type": "code",
   "execution_count": null,
   "metadata": {
    "collapsed": true
   },
   "outputs": [],
   "source": [
    "def convert_housing_data_to_quarters():\n",
    "    '''Converts the housing data to quarters and returns it as mean \n",
    "    values in a dataframe. This dataframe should be a dataframe with\n",
    "    columns for 2000q1 through 2016q3, and should have a multi-index\n",
    "    in the shape of [\"State\",\"RegionName\"].\n",
    "    \n",
    "    Note: Quarters are defined in the assignment description, they are\n",
    "    not arbitrary three month periods.\n",
    "    \n",
    "    The resulting dataframe should have 67 columns, and 10,730 rows.\n",
    "    '''\n",
    "    homes = pd.read_csv('City_Zhvi_AllHomes.csv') \n",
    "    drop_cols = ['RegionID', 'Metro', 'CountyName', 'SizeRank']\n",
    "    for col in drop_cols:\n",
    "        homes.drop(col, axis = 'columns', inplace = True)\n",
    "    homes.set_index('State', inplace = True)\n",
    "    homes['states'] = pd.Series(states)\n",
    "    homes.set_index(['states', 'RegionName'], inplace = True)\n",
    "    homes.columns = pd.to_datetime(homes.columns, format = \"%Y-%m\")\n",
    "    #homes_t = homes.transpose().copy()\n",
    "    homes_sub = homes.loc[:,homes.columns >= pd.to_datetime('2000-01-01')]\n",
    "    def custom_fun(array_like):\n",
    "        return array_like[~np.isnan(array_like)].mean()\n",
    "    grps = homes_sub.transpose().resample('Q').apply(custom_fun)\n",
    "    grps.index = grps.index.map(lambda x: str(x.year) + 'q' + str(x.quarter))\n",
    "    result = grps.transpose()\n",
    "    \n",
    "    return result\n",
    "\n",
    "#convert_housing_data_to_quarters()[0:5]\n",
    "convert_housing_data_to_quarters().loc[\"Texas\"].loc[\"Austin\"].loc[\"2010q3\"]"
   ]
  },
  {
   "cell_type": "code",
   "execution_count": null,
   "metadata": {
    "collapsed": true
   },
   "outputs": [],
   "source": [
    "def run_ttest():\n",
    "    '''First creates new data showing the decline or growth of housing prices\n",
    "    between the recession start and the recession bottom. Then runs a ttest\n",
    "    comparing the university town values to the non-university towns values, \n",
    "    return whether the alternative hypothesis (that the two groups are the same)\n",
    "    is true or not as well as the p-value of the confidence. \n",
    "    \n",
    "    Return the tuple (different, p, better) where different=True if the t-test is\n",
    "    True at a p<0.01 (we reject the null hypothesis), or different=False if \n",
    "    otherwise (we cannot reject the null hypothesis). The variable p should\n",
    "    be equal to the exact p value returned from scipy.stats.ttest_ind(). The\n",
    "    value for better should be either \"university town\" or \"non-university town\"\n",
    "    depending on which has a lower mean price ratio (which is equivilent to a\n",
    "    reduced market loss).'''\n",
    "    \n",
    "    df = get_list_of_university_towns()\n",
    "    df['UT'] = 'Y'\n",
    "    df.set_index(['State', 'RegionName'], inplace= True)\n",
    "    df1 = convert_housing_data_to_quarters()\n",
    "    df1.index.names = ['State', 'RegionName']\n",
    "    df2 = pd.merge(df1,df, how = 'left', left_index= True, right_index= True )\n",
    "    start = get_recession_start()\n",
    "    bottom = get_recession_bottom()\n",
    "    ut = df2.loc[df2['UT'] == 'Y',['2008q1','2009q2'] ]\n",
    "    nut = df2.loc[df2['UT'] != 'Y',['2008q1','2009q2'] ]\n",
    "    ut_new = ut.dropna(axis= 0,how= 'any') # 257\n",
    "    nut_new = nut.dropna(axis= 0,how= 'any') # 9599\n",
    "\n",
    "    ut_new['MPR'] = (ut_new['2008q1'] / ut_new['2009q2']) \n",
    "    nut_new['MPR'] = (nut_new['2008q1']/nut_new['2009q2'])\n",
    "    result = stats.ttest_ind(ut_new['MPR'], nut_new['MPR'])\n",
    "    p = result.pvalue\n",
    "    if(p < 0.01):\n",
    "        different = True\n",
    "    else:\n",
    "        different = False\n",
    "    if(ut_new['MPR'].mean() < nut_new['MPR'].mean()):\n",
    "        better = \"university town\"\n",
    "    else:\n",
    "        better = \"non-university town\"\n",
    "    ans = (different, p, better) \n",
    "    \n",
    "    return ans\n",
    "\n",
    "run_ttest()"
   ]
  }
 ],
 "metadata": {
  "kernelspec": {
   "display_name": "Python 3",
   "language": "python",
   "name": "python3"
  },
  "language_info": {
   "codemirror_mode": {
    "name": "ipython",
    "version": 3
   },
   "file_extension": ".py",
   "mimetype": "text/x-python",
   "name": "python",
   "nbconvert_exporter": "python",
   "pygments_lexer": "ipython3",
   "version": "3.6.3"
  }
 },
 "nbformat": 4,
 "nbformat_minor": 2
}
