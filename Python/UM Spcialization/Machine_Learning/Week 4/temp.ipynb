{
 "cells": [
  {
   "cell_type": "code",
   "execution_count": 26,
   "metadata": {},
   "outputs": [],
   "source": [
    "from matplotlib import pyplot as plt\n",
    "import pandas as pd\n",
    "import numpy as np\n",
    "from scipy.cluster.hierarchy import dendrogram,complete,\n",
    "#from sklearn.decomposition "
   ]
  },
  {
   "cell_type": "code",
   "execution_count": 72,
   "metadata": {},
   "outputs": [],
   "source": [
    "s = np.array([[1]*5 + [0]*7,\n",
    "              [0]+ [1]*3 + [0]*8,\n",
    "              [1]+[0]*3+[1]+[0]*7,\n",
    "            [1,0,1]+[0]*9,\n",
    "            [1,0,0,0,1]+[0]*7,\n",
    "             [0]*5 + [1]*5+[0,0],\n",
    "             [0]*7+[1]*3+[0]*2,\n",
    "             [0]*6+[1]*4+[0]*2,\n",
    "             [0]*8+[1,1]+[0,0],\n",
    "             [0]*9+[1,0,0],\n",
    "             [0]*10+[1,0],\n",
    "             [0]*11+[1]])\n"
   ]
  },
  {
   "cell_type": "code",
   "execution_count": 73,
   "metadata": {},
   "outputs": [
    {
     "name": "stdout",
     "output_type": "stream",
     "text": [
      "0 - [1 1 1 1 1 0 0 0 0 0 0 0]\n",
      "1 - [0 1 1 1 0 0 0 0 0 0 0 0]\n",
      "2 - [1 0 0 0 1 0 0 0 0 0 0 0]\n",
      "3 - [1 0 1 0 0 0 0 0 0 0 0 0]\n",
      "4 - [1 0 0 0 1 0 0 0 0 0 0 0]\n",
      "5 - [0 0 0 0 0 1 1 1 1 1 0 0]\n",
      "6 - [0 0 0 0 0 0 0 1 1 1 0 0]\n",
      "7 - [0 0 0 0 0 0 1 1 1 1 0 0]\n",
      "8 - [0 0 0 0 0 0 0 0 1 1 0 0]\n",
      "9 - [0 0 0 0 0 0 0 0 0 1 0 0]\n",
      "10 - [0 0 0 0 0 0 0 0 0 0 1 0]\n",
      "11 - [0 0 0 0 0 0 0 0 0 0 0 1]\n"
     ]
    }
   ],
   "source": [
    "for i in range(12):\n",
    "    print(i ,'-',s[i,:])"
   ]
  },
  {
   "cell_type": "code",
   "execution_count": 74,
   "metadata": {},
   "outputs": [],
   "source": [
    "#%matplotlib notebook\n",
    "#plt.figure()\n",
    "#dendrogram(complete(s))\n",
    "#s[[0, 1, 2, 3, 4, 5, 6, 7, 8, 9, 10, 11],:]"
   ]
  },
  {
   "cell_type": "code",
   "execution_count": 108,
   "metadata": {},
   "outputs": [],
   "source": [
    "def get_big_supplier(arr, hidden_ids):\n",
    "    ids = [i for i in range(len(arr)) if i not in hidden_ids]\n",
    "    #print(ids)\n",
    "    s = np.sum(arr, axis = 1)\n",
    "    #print(s, type(s))\n",
    "    s_ = s[ids].copy()\n",
    "    ids_max = np.where(s == np.max(s_))\n",
    "    for id in ids_max[0]:\n",
    "        if(id in hidden_ids):\n",
    "            continue\n",
    "        else:    \n",
    "            return(id)"
   ]
  },
  {
   "cell_type": "code",
   "execution_count": 102,
   "metadata": {},
   "outputs": [
    {
     "data": {
      "text/plain": [
       "0"
      ]
     },
     "execution_count": 102,
     "metadata": {},
     "output_type": "execute_result"
    }
   ],
   "source": [
    "get_big_supplier(s, [])"
   ]
  },
  {
   "cell_type": "code",
   "execution_count": 109,
   "metadata": {},
   "outputs": [],
   "source": [
    "def create_groups(arr):\n",
    "    temp_arr = arr.copy()\n",
    "    orig_ids = range(len(temp_arr))\n",
    "    gps = []\n",
    "    hidden_ids = []\n",
    "    \n",
    "    while(len(hidden_ids) < len(temp_arr)):\n",
    "        print('--- New Iter ---')\n",
    "        gp = []\n",
    "        id_max = get_big_supplier(temp_arr, hidden_ids)\n",
    "        print('max supp id = ', id_max)\n",
    "        gp.append(id_max)\n",
    "        id_rem = [i for i in orig_ids if ((i != id_max) & (i not in hidden_ids))]\n",
    "        for idx in id_rem:\n",
    "                if(sum(temp_arr[id_max,:] | temp_arr[idx,:]) == sum(temp_arr[id_max,:])):\n",
    "                    gp.append(idx)            \n",
    "        gps.append(gp)\n",
    "        hidden_ids += gp  \n",
    "        print('group = ', gp)\n",
    "        print('hidden ids = ', hidden_ids)\n",
    "    return(gps)    "
   ]
  },
  {
   "cell_type": "code",
   "execution_count": 110,
   "metadata": {},
   "outputs": [
    {
     "name": "stdout",
     "output_type": "stream",
     "text": [
      "--- New Iter ---\n",
      "max supp id =  0\n",
      "group =  [0, 1, 2, 3, 4]\n",
      "hidden ids =  [0, 1, 2, 3, 4]\n",
      "--- New Iter ---\n",
      "max supp id =  5\n",
      "group =  [5, 6, 7, 8, 9]\n",
      "hidden ids =  [0, 1, 2, 3, 4, 5, 6, 7, 8, 9]\n",
      "--- New Iter ---\n",
      "max supp id =  10\n",
      "group =  [10]\n",
      "hidden ids =  [0, 1, 2, 3, 4, 5, 6, 7, 8, 9, 10]\n",
      "--- New Iter ---\n",
      "max supp id =  11\n",
      "group =  [11]\n",
      "hidden ids =  [0, 1, 2, 3, 4, 5, 6, 7, 8, 9, 10, 11]\n"
     ]
    },
    {
     "data": {
      "text/plain": [
       "[[0, 1, 2, 3, 4], [5, 6, 7, 8, 9], [10], [11]]"
      ]
     },
     "execution_count": 110,
     "metadata": {},
     "output_type": "execute_result"
    }
   ],
   "source": [
    "create_groups(s)"
   ]
  }
 ],
 "metadata": {
  "kernelspec": {
   "display_name": "Python 3",
   "language": "python",
   "name": "python3"
  },
  "language_info": {
   "codemirror_mode": {
    "name": "ipython",
    "version": 3
   },
   "file_extension": ".py",
   "mimetype": "text/x-python",
   "name": "python",
   "nbconvert_exporter": "python",
   "pygments_lexer": "ipython3",
   "version": "3.6.3"
  }
 },
 "nbformat": 4,
 "nbformat_minor": 2
}
