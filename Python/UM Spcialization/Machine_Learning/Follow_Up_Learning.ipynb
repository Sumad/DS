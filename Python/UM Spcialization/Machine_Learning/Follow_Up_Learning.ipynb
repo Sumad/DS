{
 "cells": [
  {
   "cell_type": "markdown",
   "metadata": {},
   "source": [
    "### Topics that need coverage"
   ]
  },
  {
   "cell_type": "markdown",
   "metadata": {},
   "source": [
    "1. Difference in solvers used inside scikit learn's lass/ridge regression implementation \n",
    "  - ‘svd’, ‘cholesky’, ‘lsqr’, ‘sparse_cg’, ‘sag’, ‘saga’ \n",
    "  - Singular Value Decomposition \n",
    "  - Conjugate Gradient Descent \n",
    "  - Stochastic gradient descent\n",
    "  - (Mathematics for ML covers matrix algebra, which would form foundational to cover these topics)\n",
    "  - Materials attached on scikit learn user guide page can be helpful"
   ]
  },
  {
   "cell_type": "markdown",
   "metadata": {},
   "source": [
    "2. sklearn's Feature selection module \n",
    "  - comparison of tree based feature selection vs lasso feature selection\n",
    "3. Coordinate descent -  used in lasso\n",
    "4. All types of regressions in sklearn's GLM module \n",
    "    - Lars \n",
    "    - LarsLasso \n",
    "    - Multi Task Elastic net , and Lasso\n",
    "    - OMP \n",
    "    - Bayesian Regression \n",
    "    - ARD (Automatic Relevance Determination)\n",
    "    - SGD\n",
    "    - Perceptron \n",
    "    - Passive Aggressive Algorithms\n",
    "    - Robust Regressions \n",
    "      - Random Sample Consensus (RanScan)\n",
    "      - Theil-Sen Estimator \n",
    "      - Huber Regression \n",
    "    - Polynomial Regression with basis functions  "
   ]
  },
  {
   "cell_type": "markdown",
   "metadata": {},
   "source": [
    "5. Bayesian Optimization for searching through hyperparameter space \n",
    "   - building on Grid Search and RandomizedCVSearch "
   ]
  },
  {
   "cell_type": "code",
   "execution_count": null,
   "metadata": {},
   "outputs": [],
   "source": []
  }
 ],
 "metadata": {
  "kernelspec": {
   "display_name": "Python 3",
   "language": "python",
   "name": "python3"
  },
  "language_info": {
   "codemirror_mode": {
    "name": "ipython",
    "version": 3
   },
   "file_extension": ".py",
   "mimetype": "text/x-python",
   "name": "python",
   "nbconvert_exporter": "python",
   "pygments_lexer": "ipython3",
   "version": "3.6.3"
  }
 },
 "nbformat": 4,
 "nbformat_minor": 2
}
