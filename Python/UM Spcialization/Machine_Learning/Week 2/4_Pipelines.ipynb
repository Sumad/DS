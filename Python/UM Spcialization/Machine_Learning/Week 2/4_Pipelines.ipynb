{
 "cells": [
  {
   "cell_type": "markdown",
   "metadata": {},
   "source": [
    "# Pipeline  and Composite Estimators\n",
    "1. Transformers , Estimators , Composite Estimators, Pipelines\n",
    "2. Pipelines : Benefits\n",
    "3. Creating pipelines \n",
    "  - Class and Methods : Pipeline, make_pipeline  \n",
    "  - Accessing estimators in a pipeline object\n",
    "  - Accessing parameters  \n",
    "  - GridSearch with pipeline. \n",
    "  - Eg: Feature extraction and SVC classifier training, and composite grid search\n",
    "  - Caching Transformers  \n",
    "4. Transforming target : Another composite estimator  \n",
    "3. Feature Union : Composite feature space \n",
    "  - When to use\n",
    "  - Examples:\n",
    "4. Column Transformer \n",
    "  - When to use \n",
    "  - Examples:"
   ]
  },
  {
   "cell_type": "markdown",
   "metadata": {},
   "source": [
    "#### 1. Terms : Transformers , Estimators , Composite Estimators, Pipelines  \n",
    "- Common steps in ML are feature engineering, selection, model training with parameter tuning, scoring and evaluation. \n",
    "- All these steps can be bound together using pipeline class \n",
    "- Terms:\n",
    "  - Estimator : Any class which uses data to learn, these are classifiers, regressors, feature selectors, feature scalers etc\n",
    "  - Transformer : Estimator that has fit and transform method  \n",
    "  - FeatureUnion : Used to combine the inputs of transformers that create feature space\n",
    "  - TransformedTargetRegressor : Used to act on y to transform y  \n",
    "  - Pipeline : Chain several estimators, all estimators except last one should be a transformer, last can be any estimator\n",
    "    - **As a result, pipeline object has all methods that last estimator has, including fit and transform(it there).**\n",
    "    - When fit method is called on pipeline, it in turn calls fit and transform on all previous transformers"
   ]
  },
  {
   "cell_type": "markdown",
   "metadata": {},
   "source": [
    "#### 2. Pipelines : Benefits  \n",
    "- Avoid leakage from test data to train data   \n",
    "  - simple example : Scale train data, then apply same scaler on test data using parameters from train data. \n",
    "  - **prime example : in a CV settng, in case of multiple train/test splits, want to make sure scaling follows the above rule in each cv iteration. You don't want to scale the whole data beforehand and then perform CV**\n",
    "- Grid search : can do a combined grid search over all parameters used in a pipeline, making it more comprehensive search or params. \n",
    "- Convenience / Short hand to chain steps"
   ]
  },
  {
   "cell_type": "markdown",
   "metadata": {},
   "source": [
    "#### 3. Creating pipelines"
   ]
  },
  {
   "cell_type": "markdown",
   "metadata": {},
   "source": [
    "#### 3.1 Class and Methods : Pipeline, make_pipeline"
   ]
  },
  {
   "cell_type": "code",
   "execution_count": 3,
   "metadata": {},
   "outputs": [],
   "source": [
    "from sklearn.pipeline import Pipeline, make_pipeline\n",
    "from sklearn.decomposition import PCA\n",
    "from sklearn.svm import SVC"
   ]
  },
  {
   "cell_type": "markdown",
   "metadata": {},
   "source": [
    "##### Pipeline \n",
    "- Take k, v pairs; key being a name of estimator, values is estimator object"
   ]
  },
  {
   "cell_type": "code",
   "execution_count": 5,
   "metadata": {},
   "outputs": [],
   "source": [
    "steps = [('dim_red', PCA()), ('clf', SVC())]\n",
    "pipe = Pipeline(steps = steps)"
   ]
  },
  {
   "cell_type": "code",
   "execution_count": 6,
   "metadata": {},
   "outputs": [
    {
     "data": {
      "text/plain": [
       "Pipeline(memory=None,\n",
       "     steps=[('dim_red', PCA(copy=True, iterated_power='auto', n_components=None, random_state=None,\n",
       "  svd_solver='auto', tol=0.0, whiten=False)), ('clf', SVC(C=1.0, cache_size=200, class_weight=None, coef0=0.0,\n",
       "  decision_function_shape='ovr', degree=3, gamma='auto', kernel='rbf',\n",
       "  max_iter=-1, probability=False, random_state=None, shrinking=True,\n",
       "  tol=0.001, verbose=False))])"
      ]
     },
     "execution_count": 6,
     "metadata": {},
     "output_type": "execute_result"
    }
   ],
   "source": [
    "pipe"
   ]
  },
  {
   "cell_type": "markdown",
   "metadata": {},
   "source": [
    "#### make_pipeline \n",
    "- shorthand, estimator names are automatically assigned, takes a list of estimators"
   ]
  },
  {
   "cell_type": "code",
   "execution_count": 12,
   "metadata": {},
   "outputs": [
    {
     "data": {
      "text/plain": [
       "Pipeline(memory=None,\n",
       "     steps=[('pca', PCA(copy=True, iterated_power='auto', n_components=None, random_state=None,\n",
       "  svd_solver='auto', tol=0.0, whiten=False)), ('svc', SVC(C=1.0, cache_size=200, class_weight=None, coef0=0.0,\n",
       "  decision_function_shape='ovr', degree=3, gamma='auto', kernel='rbf',\n",
       "  max_iter=-1, probability=False, random_state=None, shrinking=True,\n",
       "  tol=0.001, verbose=False))])"
      ]
     },
     "execution_count": 12,
     "metadata": {},
     "output_type": "execute_result"
    }
   ],
   "source": [
    "pipe2 = make_pipeline(PCA(), SVC())\n",
    "pipe2"
   ]
  },
  {
   "cell_type": "markdown",
   "metadata": {},
   "source": [
    "#### 3.2 Accessing estimators in a pipeline object\n",
    "Through Attributes:\n",
    "  - steps : list \n",
    "  - named_steps : dictionary"
   ]
  },
  {
   "cell_type": "code",
   "execution_count": 13,
   "metadata": {},
   "outputs": [
    {
     "data": {
      "text/plain": [
       "[('dim_red',\n",
       "  PCA(copy=True, iterated_power='auto', n_components=None, random_state=None,\n",
       "    svd_solver='auto', tol=0.0, whiten=False)),\n",
       " ('clf', SVC(C=1.0, cache_size=200, class_weight=None, coef0=0.0,\n",
       "    decision_function_shape='ovr', degree=3, gamma='auto', kernel='rbf',\n",
       "    max_iter=-1, probability=False, random_state=None, shrinking=True,\n",
       "    tol=0.001, verbose=False))]"
      ]
     },
     "execution_count": 13,
     "metadata": {},
     "output_type": "execute_result"
    }
   ],
   "source": [
    "pipe.steps"
   ]
  },
  {
   "cell_type": "code",
   "execution_count": 16,
   "metadata": {},
   "outputs": [
    {
     "data": {
      "text/plain": [
       "SVC(C=1.0, cache_size=200, class_weight=None, coef0=0.0,\n",
       "  decision_function_shape='ovr', degree=3, gamma='auto', kernel='rbf',\n",
       "  max_iter=-1, probability=False, random_state=None, shrinking=True,\n",
       "  tol=0.001, verbose=False)"
      ]
     },
     "execution_count": 16,
     "metadata": {},
     "output_type": "execute_result"
    }
   ],
   "source": [
    "pipe.named_steps['clf']"
   ]
  },
  {
   "cell_type": "markdown",
   "metadata": {},
   "source": [
    "#### 3.3 Accessing attributes of estimators  \n",
    "- insidie pipe.set_params, can access params as (est_name)__(param)"
   ]
  },
  {
   "cell_type": "code",
   "execution_count": 18,
   "metadata": {},
   "outputs": [
    {
     "data": {
      "text/plain": [
       "SVC(C=2, cache_size=200, class_weight=None, coef0=0.0,\n",
       "  decision_function_shape='ovr', degree=3, gamma='auto', kernel='rbf',\n",
       "  max_iter=-1, probability=False, random_state=None, shrinking=True,\n",
       "  tol=0.001, verbose=False)"
      ]
     },
     "execution_count": 18,
     "metadata": {},
     "output_type": "execute_result"
    }
   ],
   "source": [
    "pipe.set_params(clf__C=2)\n",
    "pipe.named_steps['clf']"
   ]
  },
  {
   "cell_type": "markdown",
   "metadata": {},
   "source": [
    "#### 3.4 Grid Search wih Pipeline \n",
    "- Naming estimators, and being able to access their attributes, allows constructing grid search with pipeline very \n",
    "comprehensively \n",
    "  - **Can have estimators themselves as parameters to search, against name**\n",
    "  - **Set parameters of estimators by accessing using estimator name**"
   ]
  },
  {
   "cell_type": "markdown",
   "metadata": {},
   "source": [
    "#### 3.5 Eg: Dimesnionality reduction, classifier training, with composite grid search \n",
    "- Digits data set \n",
    "- Say we want to choose between dim. reduction techniques (PCA, NMF and univariate feature selection technique Chi Square), as well as see what number of dimension provide best predictive performance\n",
    "  - Chi Sq characteristic $\\sum_{i=i}^{k}\\frac{(O_i-E_i)^2}{E_i}$ between a feature and cat. target, where k is number of cells in contingency/cross tab table, represents how dependent a target will be on feature, given DF is same for all features. So , it become a stat. for univariate selection  \n",
    "  - NMF, non-negative matrix factorization, finds an approximate solution to matrix W $W = U x V$, which gives matrix\n",
    "  U as a reeduced matrix that can be used instead of W"
   ]
  },
  {
   "cell_type": "code",
   "execution_count": 6,
   "metadata": {},
   "outputs": [],
   "source": [
    "import numpy as np\n",
    "from sklearn.model_selection import GridSearchCV, train_test_split, KFold\n",
    "from sklearn.feature_selection import chi2, SelectKBest\n",
    "from sklearn.preprocessing import MinMaxScaler\n",
    "from sklearn.svm import LinearSVC\n",
    "from sklearn.decomposition import PCA, NMF\n",
    "from sklearn.datasets import load_digits\n",
    "\n",
    "digits = load_digits()\n",
    "y = digits.target\n",
    "X = digits.data"
   ]
  },
  {
   "cell_type": "code",
   "execution_count": 66,
   "metadata": {},
   "outputs": [],
   "source": [
    "X_train, X_test, y_train, y_test = train_test_split(X, y, test_size = 0.2, \n",
    "                                                    shuffle = True, stratify = y, random_state = 123)\n",
    "kf = KFold(n_splits=5, shuffle= True, random_state= 123)"
   ]
  },
  {
   "cell_type": "code",
   "execution_count": 67,
   "metadata": {},
   "outputs": [
    {
     "data": {
      "text/plain": [
       "Pipeline(memory=None,\n",
       "     steps=[('scaler', MinMaxScaler(copy=True, feature_range=(0, 1))), ('dim_red', PCA(copy=True, iterated_power='auto', n_components=None, random_state=None,\n",
       "  svd_solver='auto', tol=0.0, whiten=False)), ('clf', LinearSVC(C=1.0, class_weight=None, dual=True, fit_intercept=True,\n",
       "     intercept_scaling=1, loss='squared_hinge', max_iter=1000,\n",
       "     multi_class='ovr', penalty='l2', random_state=None, tol=0.0001,\n",
       "     verbose=0))])"
      ]
     },
     "execution_count": 67,
     "metadata": {},
     "output_type": "execute_result"
    }
   ],
   "source": [
    "steps = [('scaler', MinMaxScaler()),('dim_red', PCA()), ('clf', LinearSVC())]\n",
    "pipe = Pipeline(steps = steps)\n",
    "pipe"
   ]
  },
  {
   "cell_type": "code",
   "execution_count": 68,
   "metadata": {},
   "outputs": [],
   "source": [
    "n_comps = [2,4,6,8]\n",
    "C_opts = [1,5,10]"
   ]
  },
  {
   "cell_type": "code",
   "execution_count": 69,
   "metadata": {},
   "outputs": [],
   "source": [
    "# List of dictionaries \n",
    "#- tune only C \n",
    "#- tune choice of dim reduction method,no. of components and C\n",
    "param_grid = [{'dim_red' : [None],\n",
    "              'clf__C' : C_opts\n",
    "             },\n",
    "            {'dim_red' : [PCA(), NMF()],\n",
    "              'dim_red__n_components' : n_comps,\n",
    "              'clf__C' : C_opts\n",
    "             },\n",
    "             {'dim_red' : [SelectKBest(chi2)], # need to make a list\n",
    "              'dim_red__k' : n_comps,\n",
    "              'clf__C' : C_opts}]\n",
    "gcv = GridSearchCV(pipe, param_grid = param_grid, cv = kf)"
   ]
  },
  {
   "cell_type": "code",
   "execution_count": 70,
   "metadata": {},
   "outputs": [
    {
     "data": {
      "text/plain": [
       "GridSearchCV(cv=KFold(n_splits=5, random_state=123, shuffle=True),\n",
       "       error_score='raise',\n",
       "       estimator=Pipeline(memory=None,\n",
       "     steps=[('scaler', MinMaxScaler(copy=True, feature_range=(0, 1))), ('dim_red', PCA(copy=True, iterated_power='auto', n_components=None, random_state=None,\n",
       "  svd_solver='auto', tol=0.0, whiten=False)), ('clf', LinearSVC(C=1.0, class_weight=None, dual=True, fit_intercept=True,\n",
       "     intercept_scaling=1, loss='squared_hinge', max_iter=1000,\n",
       "     multi_class='ovr', penalty='l2', random_state=None, tol=0.0001,\n",
       "     verbose=0))]),\n",
       "       fit_params=None, iid=True, n_jobs=1,\n",
       "       param_grid=[{'dim_red': [None], 'clf__C': [1, 5, 10]}, {'dim_red': [PCA(copy=True, iterated_power='auto', n_components=8, random_state=None,\n",
       "  svd_solver='auto', tol=0.0, whiten=False), NMF(alpha=0.0, beta_loss='frobenius', init=None, l1_ratio=0.0, max_iter=200,\n",
       "  n_components=8, random_state=None, ...=8, score_func=<function chi2 at 0x1a0f755a60>)], 'dim_red__k': [2, 4, 6, 8], 'clf__C': [1, 5, 10]}],\n",
       "       pre_dispatch='2*n_jobs', refit=True, return_train_score='warn',\n",
       "       scoring=None, verbose=0)"
      ]
     },
     "execution_count": 70,
     "metadata": {},
     "output_type": "execute_result"
    }
   ],
   "source": [
    "gcv.fit(X_train, y_train)"
   ]
  },
  {
   "cell_type": "code",
   "execution_count": 72,
   "metadata": {},
   "outputs": [
    {
     "data": {
      "text/plain": [
       "array([ 0.96520529,  0.95963814,  0.95476688,  0.49965205,  0.7585247 ,\n",
       "        0.81837161,  0.88308977,  0.31245651,  0.64787752,  0.78079332,\n",
       "        0.82115518,  0.50243563,  0.76130828,  0.82115518,  0.88796103,\n",
       "        0.31941545,  0.66388309,  0.80167015,  0.83228949,  0.50243563,\n",
       "        0.76200418,  0.82115518,  0.88796103,  0.31871955,  0.66527488,\n",
       "        0.80514962,  0.83716075,  0.32080724,  0.53166319,  0.66040362,\n",
       "        0.75365344,  0.32150313,  0.53723034,  0.6631872 ,  0.7585247 ,\n",
       "        0.3249826 ,  0.53792624,  0.6631872 ,  0.7592206 ])"
      ]
     },
     "execution_count": 72,
     "metadata": {},
     "output_type": "execute_result"
    }
   ],
   "source": [
    "gcv.cv_results_['mean_test_score']"
   ]
  },
  {
   "cell_type": "code",
   "execution_count": 74,
   "metadata": {},
   "outputs": [
    {
     "data": {
      "text/plain": [
       "{'clf__C': 1, 'dim_red': None}"
      ]
     },
     "execution_count": 74,
     "metadata": {},
     "output_type": "execute_result"
    }
   ],
   "source": [
    "gcv.best_params_"
   ]
  },
  {
   "cell_type": "markdown",
   "metadata": {},
   "source": [
    "#### 3.6 Caching Transformers  \n",
    "- **Transformations can be expensive operations**, Caching can be helpful when a transformer may need to be fit with the same input data \n",
    "- Useful in grid search, when input data for a cv iteration is same, and you want to apply a scaling transformation,\n",
    "before search over hyperparameter of an estimator. "
   ]
  },
  {
   "cell_type": "markdown",
   "metadata": {},
   "source": [
    "#### 4. Transforming target : Another composite estimator  \n",
    "- Useful in regression estimators when target needs to be transformed  \n",
    "- Example of using a Quantile transformer on y before applying regression, to make it distribution uniform"
   ]
  },
  {
   "cell_type": "code",
   "execution_count": 91,
   "metadata": {},
   "outputs": [
    {
     "data": {
      "text/plain": [
       "'0.19.1'"
      ]
     },
     "execution_count": 91,
     "metadata": {},
     "output_type": "execute_result"
    }
   ],
   "source": [
    "import sklearn\n",
    "sklearn.__version__"
   ]
  },
  {
   "cell_type": "code",
   "execution_count": 7,
   "metadata": {},
   "outputs": [],
   "source": [
    "from sklearn.linear_model import LinearRegression\n",
    "from sklearn.preprocessing import QuantileTransformer\n",
    "from sklearn.compose import TransformedTargetRegressor\n",
    "from sklearn.datasets import load_boston \n",
    "from matplotlib import pyplot as plt"
   ]
  },
  {
   "cell_type": "code",
   "execution_count": 35,
   "metadata": {},
   "outputs": [],
   "source": [
    "data = load_boston()\n",
    "y = data.target\n",
    "X = data.data\n",
    "X_train, X_test, y_train, y_test = train_test_split(X, y,\n",
    "                                                    #test_size = 0.2, \n",
    "                                                    shuffle = True, random_state = 0)"
   ]
  },
  {
   "cell_type": "code",
   "execution_count": 36,
   "metadata": {},
   "outputs": [
    {
     "data": {
      "text/plain": [
       "TransformedTargetRegressor(check_inverse=True, func=None, inverse_func=None,\n",
       "              regressor=LinearRegression(copy_X=True, fit_intercept=True, n_jobs=None,\n",
       "         normalize=False),\n",
       "              transformer=QuantileTransformer(copy=True, ignore_implicit_zeros=False, n_quantiles=1000,\n",
       "          output_distribution='normal', random_state=None,\n",
       "          subsample=100000))"
      ]
     },
     "execution_count": 36,
     "metadata": {},
     "output_type": "execute_result"
    }
   ],
   "source": [
    "lr = LinearRegression()\n",
    "qtf = QuantileTransformer(n_quantiles= 1000, output_distribution= 'normal')\n",
    "mod_lr = TransformedTargetRegressor(regressor= lr, transformer= qtf)\n",
    "mod_lr"
   ]
  },
  {
   "cell_type": "code",
   "execution_count": 37,
   "metadata": {},
   "outputs": [
    {
     "name": "stdout",
     "output_type": "stream",
     "text": [
      "R sq for modified regression : 0.668128276483\n",
      "R sq for normal regression : 0.63546384332\n"
     ]
    }
   ],
   "source": [
    "mod_lr.fit(X_train, y_train)\n",
    "test_score1 = mod_lr.score(X_test,y_test)\n",
    "print('R sq for modified regression :', test_score1)\n",
    "lr = LinearRegression()\n",
    "lr.fit(X_train, y_train)\n",
    "test_score2 = lr.score(X_test,y_test)\n",
    "print('R sq for normal regression :', test_score2)"
   ]
  },
  {
   "cell_type": "code",
   "execution_count": 90,
   "metadata": {},
   "outputs": [
    {
     "data": {
      "image/png": "[encoded data removed]",
      "text/plain": [
       "<matplotlib.figure.Figure at 0x1a2383e978>"
      ]
     },
     "metadata": {
      "needs_background": "light"
     },
     "output_type": "display_data"
    }
   ],
   "source": [
    "qtf = QuantileTransformer(n_quantiles= 100, output_distribution= 'normal')\n",
    "y_ = qtf.fit_transform(y.reshape(506,-1))\n",
    "plt.figure()\n",
    "plt.subplot(1,2,1)\n",
    "_ = plt.hist(y, bins = 50,histtype = 'bar',density = True,color = 'cyan')\n",
    "plt.subplot(1,2,2)\n",
    "_ = plt.hist(y_, bins = 50,histtype = 'bar',density = True,color = 'cyan')"
   ]
  },
  {
   "cell_type": "code",
   "execution_count": null,
   "metadata": {},
   "outputs": [],
   "source": []
  }
 ],
 "metadata": {
  "kernelspec": {
   "display_name": "Python 3",
   "language": "python",
   "name": "python3"
  },
  "language_info": {
   "codemirror_mode": {
    "name": "ipython",
    "version": 3
   },
   "file_extension": ".py",
   "mimetype": "text/x-python",
   "name": "python",
   "nbconvert_exporter": "python",
   "pygments_lexer": "ipython3",
   "version": "3.6.3"
  }
 },
 "nbformat": 4,
 "nbformat_minor": 2
}
