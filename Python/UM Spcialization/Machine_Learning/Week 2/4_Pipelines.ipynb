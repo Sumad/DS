{
 "cells": [
  {
   "cell_type": "markdown",
   "metadata": {},
   "source": [
    "# Pipeline  and Composite Estimators\n",
    "1. Transformers , Estimators , Composite Estimators\n",
    "2. Pipelines : Benefits\n",
    "3. Creating pipelines \n",
    "  - Class and Methods : Pipeline, make_pipeline  \n",
    "  - Setting composite parameters \n",
    "  - Methods of pipeline object\n",
    "  - Eg: Feature extraction and SVC classifier training, and composite grid search\n",
    "  - Caching Transformers  \n",
    "4. Transforming target : Another composite estimator  \n",
    "3. Feature Union : Composite feature space \n",
    "  - When to use\n",
    "  - Examples:\n",
    "4. Column Transformer \n",
    "  - When to use \n",
    "  - Examples:"
   ]
  },
  {
   "cell_type": "code",
   "execution_count": null,
   "metadata": {},
   "outputs": [],
   "source": []
  }
 ],
 "metadata": {
  "kernelspec": {
   "display_name": "Python 3",
   "language": "python",
   "name": "python3"
  },
  "language_info": {
   "codemirror_mode": {
    "name": "ipython",
    "version": 3
   },
   "file_extension": ".py",
   "mimetype": "text/x-python",
   "name": "python",
   "nbconvert_exporter": "python",
   "pygments_lexer": "ipython3",
   "version": "3.6.3"
  }
 },
 "nbformat": 4,
 "nbformat_minor": 2
}
