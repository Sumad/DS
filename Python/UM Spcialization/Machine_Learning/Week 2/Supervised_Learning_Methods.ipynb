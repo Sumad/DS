{
 "cells": [
  {
   "cell_type": "markdown",
   "metadata": {},
   "source": [
    "1. Supervised Learning Algorithms \n",
    "   - k Nearest Neighbors\n",
    "   - Generalized Linear Models \n",
    "   - GLMs with regularization - Lasso and Ridge GLMs\n",
    "   - Kernel based support vector models \n",
    "   - Decision Trees \n",
    "   - Tree Ensembles (Bagging, Random Forest, Boosting with trees) \n",
    "   - Neural Networks  \n",
    "2. Common Concepts Used in using these algorithms. \n",
    "   - Algorithm Classification \n",
    "     - Parametric/ Non Parametric \n",
    "     - Classification / Regression / Unsupervised\n",
    "   - Bias vs Variance or Underfitting vs Overfitting   \n",
    "     - Usually related to choice of model hyperparameters or train/test selection\n",
    "3. Strengths vs Weaknesses of each algorithm  \n",
    "4. Scikit-learn's general flow of modeling "
   ]
  },
  {
   "cell_type": "markdown",
   "metadata": {},
   "source": [
    "### Overfitting vs Underfitting. \n",
    "- Capturing global trends vs local trends (Good fit vs Overfit)\n",
    "- Capturing global trends well vs failing to capture global trends well enough (good fit vs underfit) \n",
    "- Many reasons for overitting\n",
    "  - ** Ability to capture global trend relies on an important assumption:**\n",
    "    - **Data is representative of future data that model will see, which might not be realistically true.** \n",
    "      - So, choice of training sample is definitely important for model to not overfit\n",
    "      - Some model monitoring is required to flag when scoring data starts veering from the training set\n",
    "      - We rely on this assumption, and create tests on test set to try as much as possible to not overfit \n",
    "    - Choice of hyperparameters  \n",
    "      - k in KNN, low k leads to overfit , high l to underfit \n",
    "      - learning rate in GBM\n",
    "    - Data sampling \n",
    "      - If a selection bias occurs in data sampling, can results in over or even under fit  \n",
    "    - Too many features, not good variable selection  \n",
    "      - Polynomial regression "
   ]
  },
  {
   "cell_type": "markdown",
   "metadata": {},
   "source": [
    "4. Scikit-learn's general flow of modeling  \n",
    "   - Train/Test sets : model_selection\n",
    "   - Model Estimator : a class used to create a model object \n",
    "   - fit method : train the model object\n",
    "   - score method : Model Evaluation using the object and test data"
   ]
  },
  {
   "cell_type": "code",
   "execution_count": null,
   "metadata": {
    "collapsed": true
   },
   "outputs": [],
   "source": []
  }
 ],
 "metadata": {
  "kernelspec": {
   "display_name": "Python 3",
   "language": "python",
   "name": "python3"
  },
  "language_info": {
   "codemirror_mode": {
    "name": "ipython",
    "version": 3
   },
   "file_extension": ".py",
   "mimetype": "text/x-python",
   "name": "python",
   "nbconvert_exporter": "python",
   "pygments_lexer": "ipython3",
   "version": "3.6.3"
  }
 },
 "nbformat": 4,
 "nbformat_minor": 2
}
