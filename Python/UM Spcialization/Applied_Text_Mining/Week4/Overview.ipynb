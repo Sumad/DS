{
 "cells": [
  {
   "cell_type": "markdown",
   "metadata": {},
   "source": [
    "### 1. Semantic Similarity\n",
    "### a. Wordnet\n",
    "### b. lin Similarity and Information Criteria\n",
    "### c. Colocations and Distributional Similarity\n",
    "\n",
    "### 2. Distributional Similarity : Context \n",
    "#### Words before/after after size x\n",
    "#### Syntatic relation to target \n",
    "#### Words in same sentence, same passage etc\n",
    "\n",
    "## 3. Once context is defined, can define association\n",
    "### Normalize for too frequenctly occuring words \n",
    "### Pointwise mutual information\n",
    "\n",
    "nltk \n",
    "Can use colocation and association meausres"
   ]
  },
  {
   "cell_type": "markdown",
   "metadata": {},
   "source": [
    "## Finding similarity is non trivial , but many measures exist"
   ]
  },
  {
   "cell_type": "markdown",
   "metadata": {},
   "source": [
    "## Topic Modeling   \n",
    "- Topic is a subject or theme of a discourse,  which is thought to be represented by a distriution of words.  \n",
    "Examples: Article in Gentrics could have topics like Anatomy, Comuputation. Article in medicine could be nephrology,  \n",
    "pediatrics etc.   \n",
    "- Topic Modeling is used to make a sense of what kind of topics are in the corpus of documents.  \n",
    "- A document is though to be a mixture of documents.\n",
    "\n",
    "Problem Structure: \n",
    "Given : A corpus of documents , and you have a specific no. of topics, but not which topics. Topic distribution of documents  \n",
    "is also not givem.\n",
    "\n",
    "    \n",
    "Topic Modeling is a text clustering problem, you have to figure which words come together based on semantic similarity, and  \n",
    "then which documents come together."
   ]
  },
  {
   "cell_type": "markdown",
   "metadata": {},
   "source": [
    "## Generative text Models\n",
    "PLSA -  Probabilistic Latent Semantic Analysis   \n",
    "LDA - latent Dirichlet Association   \n",
    "LDA is a text exploration tool, can be used for feature selection.  \n"
   ]
  },
  {
   "cell_type": "markdown",
   "metadata": {},
   "source": [
    "## Information Extraction   - task to convert unstructured to structured\n",
    "Goal : Identify and extract fields of interest  \n",
    "Examples: from an article  \n",
    "Author, Reviewer, Date, Place, etc.  \n",
    "\n",
    "### Fields of Interest  \n",
    "These are named entities.  Depending on topics, could be - \n",
    "NEWS - people, place, time, urls\n",
    "MEDICINE - diseases, drugs, procedures   \n",
    "\n",
    "These are very diverse. \n",
    "\n",
    "### Named Entity Recognition\n",
    "1. Named entities :  are noun phrases of specific type.  \n",
    "2. Named entity recognition : Identify the boundary, and then assign a label/tag  \n",
    "    \n",
    "Examples of medicine: \n",
    "63-year-old male with a 3 year history of hand numbness and occasional weekeness. Within last 3 years conditions got worse. \n",
    "She had a surgery by a neurologist and MRI revealed a cord compression and a T2 sinal change.  \n",
    "\n",
    "Entities: persons, conditions,operations  \n",
    "    \n",
    "### Approaches to identify named entities \n",
    "- Regular Expressions  \n",
    "- Machine Learning \n",
    "\n",
    "\n",
    "### Relation Extraction  \n",
    "\n",
    "\n",
    "### Coreference Resolution  \n",
    "- Could be useful for question - answering type of scenario. One type is pronoun resolution."
   ]
  }
 ],
 "metadata": {
  "kernelspec": {
   "display_name": "Python 3",
   "language": "python",
   "name": "python3"
  },
  "language_info": {
   "codemirror_mode": {
    "name": "ipython",
    "version": 3
   },
   "file_extension": ".py",
   "mimetype": "text/x-python",
   "name": "python",
   "nbconvert_exporter": "python",
   "pygments_lexer": "ipython3",
   "version": "3.7.3"
  }
 },
 "nbformat": 4,
 "nbformat_minor": 2
}
