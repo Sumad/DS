{
 "cells": [
  {
   "cell_type": "markdown",
   "metadata": {},
   "source": [
    "#### Read and Write operations on a text file\n",
    "1. Opening and closing connection to a file  \n",
    "2. Read and Write functions  \n",
    "3. Getting lines into a list by splitting"
   ]
  },
  {
   "cell_type": "markdown",
   "metadata": {},
   "source": [
    "**Opening a connection to a file, modes could be r,w,a**  \n",
    "con = open(filename,mode)  \n",
    "\n",
    "** Using the connection to read text, different ways are - **    \n",
    "1.con.readline() - Reads one line, a line is recognized by end of line character i.e \\n, keeps \\n  \n",
    "2.1con.read() - Reads all text as a character string, keeps \\n at the end of line  \n",
    "\n",
    "2.2 con.read(n)  - Reads n lines    \n",
    "\n",
    "3.0 for line in con:  \n",
    "     dosomething(line)    \n",
    "\n",
    "** Resetting the pointer to begining of a line number**  \n",
    "con.seek(n)   \n",
    "\n",
    "** Write to the file, but needs to be open in w or a mode**  \n",
    "con.write(message)  \n",
    "\n",
    "** Closing connection **    \n",
    "con.close()  - closes connection   \n",
    "con.closed()  - check if connection is closed"
   ]
  },
  {
   "cell_type": "code",
   "execution_count": 54,
   "metadata": {},
   "outputs": [],
   "source": [
    "con = open(file= \"sachin_wk.txt\" , mode = \"r\")\n",
    "#con.close()\n"
   ]
  },
  {
   "cell_type": "code",
   "execution_count": 35,
   "metadata": {},
   "outputs": [
    {
     "data": {
      "text/plain": [
       "\"Sachin Ramesh Tendulkar (/?s?t??n t?n'du?lk?r/ (About this sound listen); born 24 April 1973) is a former Indian cricketer and a former captain, widely regarded as the greatest batsman of all time.[4] The highest run scorer of all time in International cricket, Tendulkar took up cricket at the age of eleven, made his Test debut on 15 November 1989 against Pakistan in Karachi at the age of sixteen, and went on to represent Mumbai domestically and India internationally for close to twenty-four years. He is the only player to have scored one hundred international centuries, the first batsman to score a double century in a One Day International, the holder of the record for the most number of runs in both ODI and Test cricket, and the only player to complete more than 30,000 runs in international cricket.[5]\\n\""
      ]
     },
     "execution_count": 35,
     "metadata": {},
     "output_type": "execute_result"
    }
   ],
   "source": [
    "con.readline() # Notice that one line is read till '\\n' is found\n",
    "# type(con.readline())\n",
    "# <class 'str'>"
   ]
  },
  {
   "cell_type": "code",
   "execution_count": 37,
   "metadata": {},
   "outputs": [
    {
     "data": {
      "text/plain": [
       "'Sachin Ramesh Tendulkar (/?s?t??n t?n\\'du?lk?r/ (About this sound listen); born 24 April 1973) is a former Indian cricketer and a former captain, widely regarded as the greatest batsman of all time.[4] The highest run scorer of all time in International cricket, Tendulkar took up cricket at the age of eleven, made his Test debut on 15 November 1989 against Pakistan in Karachi at the age of sixteen, and went on to represent Mumbai domestically and India internationally for close to twenty-four years. He is the only player to have scored one hundred international centuries, the first batsman to score a double century in a One Day International, the holder of the record for the most number of runs in both ODI and Test cricket, and the only player to complete more than 30,000 runs in international cricket.[5]\\n\\nIn 2002, halfway through his career, Wisden Cricketers\\' Almanack ranked him the second greatest Test batsman of all time, behind Don Bradman, and the second greatest ODI batsman of all time, behind Viv Richards.[6] Later in his career, Tendulkar was a part of the Indian team that won the 2011 World Cup, his first win in six World Cup appearances for India.[7] He had previously been named \"Player of the Tournament\" at the 2003 edition of the tournament, held in South Africa. In 2013, he was the only Indian cricketer included in an all-time Test World XI named to mark the 150th anniversary of Wisden Cricketers\\' Almanack.[8][9][10]\\n\\nTendulkar received the Arjuna Award in 1994 for his outstanding sporting achievement, the Rajiv Gandhi Khel Ratna award in 1997, India\\'s highest sporting honour, and the Padma Shri and Padma Vibhushan awards in 1999 and 2008, respectively, India\\'s fourth and second highest civilian awards.[11] After a few hours of his final match on 16 November 2013, the Prime Minister\\'s Office announced the decision to award him the Bharat Ratna, India\\'s highest civilian award.[12][13] He is the youngest recipient to date and the first ever sportsperson to receive the award.[14][15] He also won the 2010 Sir Garfield Sobers Trophy for cricketer of the year at the ICC awards.[16] In 2012, Tendulkar was nominated to the Rajya Sabha, the upper house of the Parliament of India.[17] He was also the first sportsperson and the first person without an aviation background to be awarded the honorary rank of group captain by the Indian Air Force.[18] In 2012, he was named an Honorary Member of the Order of Australia.[19][20]'"
      ]
     },
     "execution_count": 37,
     "metadata": {},
     "output_type": "execute_result"
    }
   ],
   "source": [
    "# Since the connection is open, and readline() was called, the reference needs to be taken to the begining\n",
    "con.seek(0)\n",
    "\n",
    "# con.read() reads full text, notice that this text has line breaks to make 3 paras. So you will notice double '\\n'\n",
    "# characters at two places\n",
    "\n",
    "full_text = con.read()\n",
    "full_text\n",
    "#len(full_text)  2467 characters in full file\n",
    "#type(full_text)  str\n"
   ]
  },
  {
   "cell_type": "code",
   "execution_count": 44,
   "metadata": {},
   "outputs": [
    {
     "data": {
      "text/plain": [
       "[\"Sachin Ramesh Tendulkar (/?s?t??n t?n'du?lk?r/ (About this sound listen); born 24 April 1973) is a former Indian cricketer and a former captain, widely regarded as the greatest batsman of all time.[4] The highest run scorer of all time in International cricket, Tendulkar took up cricket at the age of eleven, made his Test debut on 15 November 1989 against Pakistan in Karachi at the age of sixteen, and went on to represent Mumbai domestically and India internationally for close to twenty-four years. He is the only player to have scored one hundred international centuries, the first batsman to score a double century in a One Day International, the holder of the record for the most number of runs in both ODI and Test cricket, and the only player to complete more than 30,000 runs in international cricket.[5]\",\n",
       " '',\n",
       " 'In 2002, halfway through his career, Wisden Cricketers\\' Almanack ranked him the second greatest Test batsman of all time, behind Don Bradman, and the second greatest ODI batsman of all time, behind Viv Richards.[6] Later in his career, Tendulkar was a part of the Indian team that won the 2011 World Cup, his first win in six World Cup appearances for India.[7] He had previously been named \"Player of the Tournament\" at the 2003 edition of the tournament, held in South Africa. In 2013, he was the only Indian cricketer included in an all-time Test World XI named to mark the 150th anniversary of Wisden Cricketers\\' Almanack.[8][9][10]',\n",
       " '',\n",
       " \"Tendulkar received the Arjuna Award in 1994 for his outstanding sporting achievement, the Rajiv Gandhi Khel Ratna award in 1997, India's highest sporting honour, and the Padma Shri and Padma Vibhushan awards in 1999 and 2008, respectively, India's fourth and second highest civilian awards.[11] After a few hours of his final match on 16 November 2013, the Prime Minister's Office announced the decision to award him the Bharat Ratna, India's highest civilian award.[12][13] He is the youngest recipient to date and the first ever sportsperson to receive the award.[14][15] He also won the 2010 Sir Garfield Sobers Trophy for cricketer of the year at the ICC awards.[16] In 2012, Tendulkar was nominated to the Rajya Sabha, the upper house of the Parliament of India.[17] He was also the first sportsperson and the first person without an aviation background to be awarded the honorary rank of group captain by the Indian Air Force.[18] In 2012, he was named an Honorary Member of the Order of Australia.[19][20]\"]"
      ]
     },
     "execution_count": 44,
     "metadata": {},
     "output_type": "execute_result"
    }
   ],
   "source": [
    "# Split lines to get a list of lines, the split is done using '\\n' character\n",
    "lines = full_text.splitlines()\n",
    "#len(lines) # gives 5 lines, because there were two line breaks\n",
    "lines"
   ]
  },
  {
   "cell_type": "code",
   "execution_count": 51,
   "metadata": {},
   "outputs": [
    {
     "data": {
      "text/plain": [
       "[\"Sachin Ramesh Tendulkar (/?s?t??n t?n'du?lk?r/ (About this sound listen); born 24 April 1973) is a former Indian cricketer and a former captain, widely regarded as the greatest batsman of all time.[4] The highest run scorer of all time in International cricket, Tendulkar took up cricket at the age of eleven, made his Test debut on 15 November 1989 against Pakistan in Karachi at the age of sixteen, and went on to represent Mumbai domestically and India internationally for close to twenty-four years. He is the only player to have scored one hundred international centuries, the first batsman to score a double century in a One Day International, the holder of the record for the most number of runs in both ODI and Test cricket, and the only player to complete more than 30,000 runs in international cricket.[5]\",\n",
       " 'In 2002, halfway through his career, Wisden Cricketers\\' Almanack ranked him the second greatest Test batsman of all time, behind Don Bradman, and the second greatest ODI batsman of all time, behind Viv Richards.[6] Later in his career, Tendulkar was a part of the Indian team that won the 2011 World Cup, his first win in six World Cup appearances for India.[7] He had previously been named \"Player of the Tournament\" at the 2003 edition of the tournament, held in South Africa. In 2013, he was the only Indian cricketer included in an all-time Test World XI named to mark the 150th anniversary of Wisden Cricketers\\' Almanack.[8][9][10]',\n",
       " \"Tendulkar received the Arjuna Award in 1994 for his outstanding sporting achievement, the Rajiv Gandhi Khel Ratna award in 1997, India's highest sporting honour, and the Padma Shri and Padma Vibhushan awards in 1999 and 2008, respectively, India's fourth and second highest civilian awards.[11] After a few hours of his final match on 16 November 2013, the Prime Minister's Office announced the decision to award him the Bharat Ratna, India's highest civilian award.[12][13] He is the youngest recipient to date and the first ever sportsperson to receive the award.[14][15] He also won the 2010 Sir Garfield Sobers Trophy for cricketer of the year at the ICC awards.[16] In 2012, Tendulkar was nominated to the Rajya Sabha, the upper house of the Parliament of India.[17] He was also the first sportsperson and the first person without an aviation background to be awarded the honorary rank of group captain by the Indian Air Force.[18] In 2012, he was named an Honorary Member of the Order of Australia.[19][20]\"]"
      ]
     },
     "execution_count": 51,
     "metadata": {},
     "output_type": "execute_result"
    }
   ],
   "source": [
    "# Getting rid of space characters, and any end or start of line whitespaces\n",
    "full_text_cln = [line.strip() for line in lines if len(line) >0 ]\n",
    "full_text_cln"
   ]
  },
  {
   "cell_type": "code",
   "execution_count": 56,
   "metadata": {},
   "outputs": [
    {
     "data": {
      "text/plain": [
       "\"Sachin Ramesh Tendulkar (/?s?t??n t?n'du?lk?r/ (About this sound listen); born 24 April 1973) is a former Indian cricketer and a former captain, widely regarded as the greatest batsman of all time.[4] The highest run scorer of all time in International cricket, Tendulkar took up cricket at the age of eleven, made his Test debut on 15 November 1989 against Pakistan in Karachi at the age of sixteen, and went on to represent Mumbai domestically and India internationally for close to twenty-four years. He is the only player to have scored one hundred international centuries, the first batsman to score a double century in a One Day International, the holder of the record for the most number of runs in both ODI and Test cricket, and the only player to complete more than 30,000 runs in international cricket.[5]\""
      ]
     },
     "execution_count": 56,
     "metadata": {},
     "output_type": "execute_result"
    }
   ],
   "source": [
    "# If using con.readline() , to get rid of '\\n use rstrip, rstrip removes whitespaces, '\\n' is form of whitespace.\n",
    "# it also takes care of removing whitespaces from other file formats like DOS newline which is '\\r' or '\\r\\n\n",
    "con.seek(0)\n",
    "txt = con.readline()\n",
    "txt_clean = txt.rstrip()\n",
    "txt_clean"
   ]
  },
  {
   "cell_type": "code",
   "execution_count": 57,
   "metadata": {
    "collapsed": true
   },
   "outputs": [],
   "source": [
    "con.close()"
   ]
  }
 ],
 "metadata": {
  "kernelspec": {
   "display_name": "Python 3",
   "language": "python",
   "name": "python3"
  },
  "language_info": {
   "codemirror_mode": {
    "name": "ipython",
    "version": 3
   },
   "file_extension": ".py",
   "mimetype": "text/x-python",
   "name": "python",
   "nbconvert_exporter": "python",
   "pygments_lexer": "ipython3",
   "version": "3.6.7"
  }
 },
 "nbformat": 4,
 "nbformat_minor": 2
}
