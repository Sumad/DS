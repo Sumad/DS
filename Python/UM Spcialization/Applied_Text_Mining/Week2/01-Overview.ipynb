{
 "cells": [
  {
   "cell_type": "markdown",
   "metadata": {},
   "source": [
    "## Key high level tasks of pre-processing in  NLP\n",
    "1. Frequency of words\n",
    "2. Finding Sentence Endings\n",
    "3. Parts of speech tagging ( verb, noun, preposition etc)\n",
    "4. Parsing sentence structure\n",
    "5. Identity Identification/semantic role labeling (object, subject)\n",
    "6. Pronoun to identity mapping / Co-reference and pronoun  resolution\n",
    "\n",
    "## tactical tasks that are accomploished using packages exist in nltk, these make use of above concepts and their implementation\n",
    "1. Normalization and Stemming\n",
    "2. Lemmatization \n",
    "3. Tokenization"
   ]
  },
  {
   "cell_type": "code",
   "execution_count": null,
   "metadata": {
    "collapsed": true
   },
   "outputs": [],
   "source": [
    "## Advacned NLP Tasks\n",
    "3. Parts of speech tagging ( verb, noun, preposition etc)\n",
    "4. pasing sentence structure\n",
    "5. identity Identification/semantic role labeling (object, subject)\n",
    "6. Pronoun to identity mapping Identification/ Co-refernce and pronoun  resolution\n"
   ]
  },
  {
   "cell_type": "code",
   "execution_count": null,
   "metadata": {
    "collapsed": true
   },
   "outputs": [],
   "source": []
  }
 ],
 "metadata": {
  "kernelspec": {
   "display_name": "Python 3",
   "language": "python",
   "name": "python3"
  },
  "language_info": {
   "codemirror_mode": {
    "name": "ipython",
    "version": 3
   },
   "file_extension": ".py",
   "mimetype": "text/x-python",
   "name": "python",
   "nbconvert_exporter": "python",
   "pygments_lexer": "ipython3",
   "version": "3.6.3"
  }
 },
 "nbformat": 4,
 "nbformat_minor": 2
}
