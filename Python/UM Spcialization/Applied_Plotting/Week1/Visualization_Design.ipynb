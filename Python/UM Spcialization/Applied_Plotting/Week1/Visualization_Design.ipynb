{
 "cells": [
  {
   "cell_type": "markdown",
   "metadata": {},
   "source": [
    "# Tools for thinking about Design"
   ]
  },
  {
   "cell_type": "markdown",
   "metadata": {},
   "source": [
    "### 1. Alberto Cairo's Visualization Wheel  \n",
    "#### Useful to think about how to design the visual and who is it for.  Also, helpful to understand, with the background of audience , in which dim.  the tradeoffs will tilt and design for them. \n",
    "#### Further useful to have two representations of an idea and compare them on design dimensions  \n",
    "1. Multi vs Uni Dimensions : When many dimensions of the phenomenon and their relationship are being described. Eg: Minard's graph of Napolean's march on Russia depicts on the chart :\n",
    "  - Size of the army onward and backward   \n",
    "  - Temp. during the march\n",
    "  - Time stamps  \n",
    "  - Geographical information like rivers, cities  \n",
    "  - Direction   \n",
    "We may choose to describe one dimension in multiple ways.\n",
    "2. Figurability vs Abstraction  : Determined by how one chooses to represent dimensions to describe a phenomenon. Eg: Using aesthetics as abstractions (line, dot, boxes, size , color , shade) or real world figures(figurabilility) can let one play with abstraction and figurability. Eg: Using the figure of a cloud to describe its width, height, volume \n",
    "etc.  \n",
    "3. Functionality vs Decoration. i.e No Embellishment vs Artistic embellishment: Decoration may aid in understanding of functional aspects depicted on the graph. Eg: Adding a legend, axis labels are decoration aspects to aid understanding.  \n",
    "4. Originality vs Familiarity. : New methods of representation or well understood methods.I think this depends on who will use the visual, and their experience with the visuals in the past.Eg: Business managers, used to seeing graphs my find bars on bar chart used to represent a dimension like frequency, familiar. But, for a painter, not used to working on computers, that may be original..  \n",
    "5. Novelty vs Redundancy: Each item explained once vs encoding multiple explanations of same phenomenon. Eg: Highest sales represneted by longest bar as well as different color.\n",
    "6. Density vs Lightness: Requires in-depth study or light glance to understand. Brings into consideration the context\n",
    "   in which image is viewed. Eg: a textbook (can affort a dense image) vs a 30 mins presentation (light?).\n",
    "  "
   ]
  },
  {
   "cell_type": "markdown",
   "metadata": {},
   "source": [
    "### 2 .Visualization Heuristics \n",
    "- Rules which are not most optimal, but give good results"
   ]
  },
  {
   "cell_type": "markdown",
   "metadata": {},
   "source": [
    "#### 1. Data to Ink Ratio  \n",
    "- Reduce footprint of non data ink on the chart, essentially use brevity, to maximize consumption\n",
    "- Fosters idea of minimalism"
   ]
  },
  {
   "cell_type": "markdown",
   "metadata": {},
   "source": [
    "#### 2. Chart Junk, Use of spark lines and reduce lie Factor\n",
    "- Optical Junk: \n",
    "  - Patterning in charts, like seeing striped shirts in a video. Causes visual fatigue.  \n",
    "  - Gridlines : Could complete with the actual data on the chart. A way to overcome is direct labeling of data, or \n",
    "  thinning and making them light. \n",
    "  - The Duck: Referes to embellishments , typically used in papers and magazines. Premise of Tufte is to reduce it, as it adds nothing for interpreting the results. \n",
    "A counter premise to use them is to increase memorability of graphic, without reducing the accuracy of desired interpretation.  \n",
    "A study on comparing the two premises - http://hci.usask.ca/uploads/173-pap0297-bateman.pdf  \n",
    "- Sparklines: Add visual in the context where it is helpful to the reader, instead of having it as a separate artifact. Eg: in tables. An instance is sparklines that excel can produce in a table to show trend.   \n",
    "- Lie Factor:  Be careful not to tell unintentional lies with data."
   ]
  },
  {
   "cell_type": "markdown",
   "metadata": {},
   "source": [
    "### 3. Qualities of great Viz -  from Alberto Cairos' Truthful Art \n",
    "1. Truthful : beaware of self deception, and do not deceive others. Know your data and share discoveries forthrightly. \n",
    "2. Functional : vs Embellished, i.e they show most relevant information without causing visual fatigue. \n",
    "3. Insightful: Don't simply convert a table into a chart, usually Multidimesnionality brings insights, originality reveals it to the minds of consumers. \n",
    "4. Beautiful : Beauty vs Chart Junk, something to consider. \n",
    "5. Enlightening : Relates to choice of topics, to be ethically respoonsible and wise -  as in casting light over relevant issues.\n"
   ]
  }
 ],
 "metadata": {
  "kernelspec": {
   "display_name": "Python 3",
   "language": "python",
   "name": "python3"
  },
  "language_info": {
   "codemirror_mode": {
    "name": "ipython",
    "version": 3
   },
   "file_extension": ".py",
   "mimetype": "text/x-python",
   "name": "python",
   "nbconvert_exporter": "python",
   "pygments_lexer": "ipython3",
   "version": "3.6.3"
  }
 },
 "nbformat": 4,
 "nbformat_minor": 2
}
