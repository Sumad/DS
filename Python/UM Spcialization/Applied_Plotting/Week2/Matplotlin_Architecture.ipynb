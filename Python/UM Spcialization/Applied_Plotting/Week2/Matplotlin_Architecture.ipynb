{
 "cells": [
  {
   "cell_type": "markdown",
   "metadata": {},
   "source": [
    "# Matplotlib Architecture  \n",
    "- Three Layers:\n",
    "  - Backend Layer\n",
    "  - Artist Layer. \n",
    "  - Scripting Layer (pyplot)"
   ]
  },
  {
   "cell_type": "markdown",
   "metadata": {},
   "source": [
    "### Backend Layer  \n",
    "- Primarily describes which environment matplotlib is rendering graphics to - an OS, web browser, harcopy. Many backends available  \n",
    "- Not all backends support interactive features, like the backend for jupyter notebook. There are backends for rendering to graphic formats like svg, png, pdf.  \n",
    "- Backends vary by type of OS like for MAC and linux.  \n",
    "- Functional use of backend is described in three main classes \n",
    "  - FigureCanvas : Functionality about setting up a canvas to draw on\n",
    "  - Renderer: Functionality to put ink on the canvas\n",
    "  - Event : Functionality to take user input. "
   ]
  },
  {
   "cell_type": "code",
   "execution_count": 1,
   "metadata": {
    "collapsed": true
   },
   "outputs": [],
   "source": [
    "%matplotlib notebook"
   ]
  },
  {
   "cell_type": "code",
   "execution_count": 4,
   "metadata": {},
   "outputs": [
    {
     "data": {
      "text/plain": [
       "'nbAgg'"
      ]
     },
     "execution_count": 4,
     "metadata": {},
     "output_type": "execute_result"
    }
   ],
   "source": [
    "import matplotlib as mlb\n",
    "mlb.get_backend() # gets the backend being used after the magic command above"
   ]
  },
  {
   "cell_type": "markdown",
   "metadata": {},
   "source": [
    "### Artist Layer  \n",
    "- Provides functionality to construct what to put on the canvas  \n",
    "- Artist layer is an abstraction around drawing and layouts. \n",
    "- Artist layer consists of primitives and components. Primitives represent standard  objects that we want to put oncanvas like Lines(Line2D), Rectangles,AxisImages etc and components are objects that hold them - Figure, Axes, Axis, all classes.  \n",
    "  * Standard method is to create an instance of Figure, which is used to create an axes object, and helper function from axes object are used to create  primitives.  \n",
    "  * Axes is the most important compnent, and methods available for Axes can be used to add a lot of primitives to the Axes object."
   ]
  },
  {
   "cell_type": "markdown",
   "metadata": {},
   "source": [
    "### Scripting Layer  \n",
    "- Oriented to make it easy for user interested to do exploratory work, to use the Artist and Backend layer  \n",
    "- UI developers and Webapp developers would ideally use programming model of Backend Layer and Artist Layer  \n",
    "-  Data scientists would typically use scripting layer to pull together plots quickly"
   ]
  },
  {
   "cell_type": "markdown",
   "metadata": {
    "collapsed": true
   },
   "source": [
    "#### A read on architectural aspects \n",
    "http://www.aosabook.org/en/matplotlib.html"
   ]
  },
  {
   "cell_type": "markdown",
   "metadata": {},
   "source": [
    "#### Ten rules for effective visualizations. \n",
    "http://journals.plos.org/ploscompbiol/article?id=10.1371/journal.pcbi.1003833"
   ]
  },
  {
   "cell_type": "markdown",
   "metadata": {},
   "source": [
    "#### Procedural vs Declarative Visualization languages   \n",
    "pyplot is a procedural viz. language, needing commands to be issued to backend to render plotting objects.\n",
    "In declarative languages viz. are created as document object models. Eg: html and d3.js"
   ]
  },
  {
   "cell_type": "markdown",
   "metadata": {},
   "source": [
    "### Basic Plotting with Matplotlib  \n",
    "1. Using pyplot scripting API "
   ]
  },
  {
   "cell_type": "code",
   "execution_count": null,
   "metadata": {
    "collapsed": true
   },
   "outputs": [],
   "source": [
    "from matpltlib import pyplot as plt"
   ]
  }
 ],
 "metadata": {
  "kernelspec": {
   "display_name": "Python 3",
   "language": "python",
   "name": "python3"
  },
  "language_info": {
   "codemirror_mode": {
    "name": "ipython",
    "version": 3
   },
   "file_extension": ".py",
   "mimetype": "text/x-python",
   "name": "python",
   "nbconvert_exporter": "python",
   "pygments_lexer": "ipython3",
   "version": "3.6.3"
  }
 },
 "nbformat": 4,
 "nbformat_minor": 2
}
