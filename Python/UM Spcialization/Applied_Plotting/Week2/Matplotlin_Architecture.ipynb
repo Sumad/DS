{
 "cells": [
  {
   "cell_type": "markdown",
   "metadata": {},
   "source": [
    "# Matplotlib Architecture  \n",
    "- Three Layers:\n",
    "  - Backend Layer\n",
    "  - Artist Layer. \n",
    "  - Scripting Layer (pyplot)"
   ]
  },
  {
   "cell_type": "markdown",
   "metadata": {},
   "source": [
    "### Backend Layer  \n",
    "- Primarily describes which environment matplotlib is rendering graphics to - an OS, web browser, harcopy. Many backends available  \n",
    "- Not all backends support interactive features, like the backend for jupyter notebook\n",
    "- Functional use of backend is described in three main classes \n",
    "  - FigureCanvas : Functionality about setting up a canvas to draw on\n",
    "  - Renderer: Functionality to put ink on the canvas\n",
    "  - Event : Functionality to take user input. "
   ]
  },
  {
   "cell_type": "code",
   "execution_count": 1,
   "metadata": {
    "collapsed": true
   },
   "outputs": [],
   "source": [
    "%matplotlib notebook"
   ]
  },
  {
   "cell_type": "code",
   "execution_count": 4,
   "metadata": {},
   "outputs": [
    {
     "data": {
      "text/plain": [
       "'nbAgg'"
      ]
     },
     "execution_count": 4,
     "metadata": {},
     "output_type": "execute_result"
    }
   ],
   "source": [
    "import matplotlib as mlb\n",
    "mlb.get_backend() # gets the backend being used after the magic command above"
   ]
  },
  {
   "cell_type": "markdown",
   "metadata": {},
   "source": [
    "### Artist Layer  \n",
    "- Provides functionality to construct what to put on the canvas"
   ]
  },
  {
   "cell_type": "markdown",
   "metadata": {},
   "source": [
    "### Scripting Layer  \n",
    "- Oriented to make it easy for user interested to do exploratory work, to use the Artist and Backend layer  \n",
    "- UI developers and Webapp developers would ideally use programming model of Backend Layer and Artist Layer"
   ]
  },
  {
   "cell_type": "code",
   "execution_count": null,
   "metadata": {
    "collapsed": true
   },
   "outputs": [],
   "source": []
  }
 ],
 "metadata": {
  "kernelspec": {
   "display_name": "Python 3",
   "language": "python",
   "name": "python3"
  },
  "language_info": {
   "codemirror_mode": {
    "name": "ipython",
    "version": 3
   },
   "file_extension": ".py",
   "mimetype": "text/x-python",
   "name": "python",
   "nbconvert_exporter": "python",
   "pygments_lexer": "ipython3",
   "version": "3.6.3"
  }
 },
 "nbformat": 4,
 "nbformat_minor": 2
}
