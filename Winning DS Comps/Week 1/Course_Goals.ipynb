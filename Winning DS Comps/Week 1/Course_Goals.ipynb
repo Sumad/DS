{
 "cells": [
  {
   "cell_type": "markdown",
   "metadata": {},
   "source": [
    "### Course Coverage"
   ]
  },
  {
   "cell_type": "markdown",
   "metadata": {},
   "source": [
    "### Week 1"
   ]
  },
  {
   "cell_type": "markdown",
   "metadata": {},
   "source": [
    "- How are competitions different than industrial projects. \n",
    "- Review of ML Models  \n",
    "- Python Libraries. \n",
    "- Feature Engineering \n",
    "  - Feature types   \n",
    "  - Feature creation from text and images   "
   ]
  },
  {
   "cell_type": "markdown",
   "metadata": {},
   "source": [
    "### Week 2"
   ]
  },
  {
   "cell_type": "markdown",
   "metadata": {},
   "source": [
    "Setting up the pipeline. \n",
    "- EDA.  \n",
    "- Data Cleaning  \n",
    "- Anonymized features. using logic and visualization  \n",
    "- Data Leakage: how to identify and utilize  \n",
    "- Validation stratgies : Problems posed and how to overcome them. "
   ]
  },
  {
   "cell_type": "markdown",
   "metadata": {},
   "source": [
    "### Week 3"
   ]
  },
  {
   "cell_type": "markdown",
   "metadata": {},
   "source": [
    "- Metrics for classification and regression.  \n",
    "- Mean Encodings : for numerical, categorical and time series, creating these features  \n",
    "- Problem of overfitting with mean encodings, use of regularization. \n",
    "- Advanced features. \n",
    "  - statistics and distance-based features  \n",
    "  - metrics factorizations  \n",
    "  - feature interactions  \n",
    "  - t-SNE. "
   ]
  },
  {
   "cell_type": "markdown",
   "metadata": {},
   "source": [
    "### Week 4"
   ]
  },
  {
   "cell_type": "markdown",
   "metadata": {},
   "source": [
    "- Hyperparameter optimization : systematic steps to tune the model   \n",
    "- Practical, Technical guide on setting up pipeline and what to try first in competitions. \n",
    "- Ensembles  \n",
    "- Stacking and Stacked net approach. "
   ]
  },
  {
   "cell_type": "markdown",
   "metadata": {},
   "source": [
    "### Week 5"
   ]
  },
  {
   "cell_type": "markdown",
   "metadata": {},
   "source": [
    "-  Project"
   ]
  }
 ],
 "metadata": {
  "kernelspec": {
   "display_name": "Python 3",
   "language": "python",
   "name": "python3"
  },
  "language_info": {
   "codemirror_mode": {
    "name": "ipython",
    "version": 3
   },
   "file_extension": ".py",
   "mimetype": "text/x-python",
   "name": "python",
   "nbconvert_exporter": "python",
   "pygments_lexer": "ipython3",
   "version": "3.6.3"
  }
 },
 "nbformat": 4,
 "nbformat_minor": 2
}
