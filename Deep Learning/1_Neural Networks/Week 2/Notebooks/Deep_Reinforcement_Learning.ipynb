{
 "cells": [
  {
   "cell_type": "markdown",
   "metadata": {},
   "source": [
    "Key Takeaways: \n",
    "1. Reinforcement Learning  \n",
    "  - Supervised Learning is essentially learning to match a given outout, the learning objective is reduce a form of loss  \n",
    "  - Many questions open in RL. \n",
    "  - Typical examples are Autonomous Vehicles, Robotics. \n",
    "    - Questions on  \n",
    "    a. Systems to reason over long term horizon, current successes are limited to short term horizon  \n",
    "    b. Learning safely. c. Keep Learning over long time  \n",
    "    c. Can we design programs to learn the reinforcement learning programs\n",
    "2. Deep RL\n",
    "  - Deep representation of RL \n",
    "    "
   ]
  },
  {
   "cell_type": "markdown",
   "metadata": {},
   "source": [
    "Advise on AI carrers  \n",
    "- Be hands on, try algorithms yourself  \n",
    "- Good mentorship helps you pace to the right learning path"
   ]
  },
  {
   "cell_type": "code",
   "execution_count": null,
   "metadata": {
    "collapsed": true
   },
   "outputs": [],
   "source": []
  }
 ],
 "metadata": {
  "kernelspec": {
   "display_name": "Python 3",
   "language": "python",
   "name": "python3"
  },
  "language_info": {
   "codemirror_mode": {
    "name": "ipython",
    "version": 3
   },
   "file_extension": ".py",
   "mimetype": "text/x-python",
   "name": "python",
   "nbconvert_exporter": "python",
   "pygments_lexer": "ipython3",
   "version": "3.6.3"
  }
 },
 "nbformat": 4,
 "nbformat_minor": 2
}
