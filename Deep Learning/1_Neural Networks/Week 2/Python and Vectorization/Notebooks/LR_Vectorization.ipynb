{
 "cells": [
  {
   "cell_type": "markdown",
   "metadata": {},
   "source": [
    "### **Vectorization**: \n",
    "Method of utilizing functions that do faster numerical computation using parallel processing capabilities of CPU or GPU than for loops. \n",
    "In python numpy methods are vectorized, always perform better than for loops"
   ]
  },
  {
   "cell_type": "code",
   "execution_count": 1,
   "metadata": {
    "collapsed": true
   },
   "outputs": [],
   "source": [
    "import numpy as np \n",
    "import time"
   ]
  },
  {
   "cell_type": "code",
   "execution_count": 6,
   "metadata": {
    "collapsed": true
   },
   "outputs": [],
   "source": [
    "a = np.random.rand(1000000)\n",
    "b = np.random.rand(1000000)"
   ]
  },
  {
   "cell_type": "code",
   "execution_count": 32,
   "metadata": {},
   "outputs": [
    {
     "name": "stdout",
     "output_type": "stream",
     "text": [
      "Vectorized time = 0.7810592651367188 milli secs\n",
      "250355.004922\n"
     ]
    }
   ],
   "source": [
    "start = time.time()\n",
    "z = np.dot(a,b)\n",
    "end = time.time()\n",
    "print(\"Vectorized time = {0}{1}\".format(1000*(end -start),' milli secs'))\n",
    "print(z)"
   ]
  },
  {
   "cell_type": "code",
   "execution_count": 31,
   "metadata": {},
   "outputs": [
    {
     "name": "stdout",
     "output_type": "stream",
     "text": [
      "For Loop time = 346.8492031097412 milli secs\n",
      "250355.004922\n"
     ]
    }
   ],
   "source": [
    "start = time.time()\n",
    "z = 0\n",
    "for i in range(1000000):\n",
    "    z+= a[i]*b[i]\n",
    "end = time.time()\n",
    "print(\"For Loop time = {0}{1}\".format(1000*(end -start),' milli secs'))\n",
    "print(z)\n",
    "    "
   ]
  },
  {
   "cell_type": "markdown",
   "metadata": {},
   "source": [
    "### Example of vectorization"
   ]
  },
  {
   "cell_type": "code",
   "execution_count": 247,
   "metadata": {},
   "outputs": [
    {
     "name": "stdout",
     "output_type": "stream",
     "text": [
      "[[ 0  1  2  3]\n",
      " [ 4  5  6  7]\n",
      " [ 8  9 10 11]]\n",
      "[[0]\n",
      " [1]\n",
      " [2]\n",
      " [3]]\n",
      "[[ 0  2  4  6]\n",
      " [ 4  6  8 10]\n",
      " [ 8 10 12 14]]\n"
     ]
    }
   ],
   "source": [
    "# Vectorize \n",
    "a = np.arange(12).reshape(3,4)\n",
    "b = np.arange(4).reshape(4,1)\n",
    "c = np.zeros_like(a)\n",
    "\n",
    "# a.shape = (3,4)\n",
    "# b.shape = (4,1)\n",
    "\n",
    "for i in range(3):\n",
    "  for j in range(4):\n",
    "    c[i][j] = a[i][j] + b[j]\n",
    "print(a)\n",
    "print(b)\n",
    "print(c)"
   ]
  },
  {
   "cell_type": "code",
   "execution_count": 248,
   "metadata": {},
   "outputs": [
    {
     "data": {
      "text/plain": [
       "array([[ 0,  2,  4,  6],\n",
       "       [ 4,  6,  8, 10],\n",
       "       [ 8, 10, 12, 14]])"
      ]
     },
     "execution_count": 248,
     "metadata": {},
     "output_type": "execute_result"
    }
   ],
   "source": [
    "a + b.T"
   ]
  },
  {
   "cell_type": "markdown",
   "metadata": {},
   "source": [
    "### Importance of Vectorization"
   ]
  },
  {
   "cell_type": "markdown",
   "metadata": {},
   "source": [
    "In Deep Learning, we will mostly deal with massive calculations, vectorization can make a big difference in completing\n",
    "a single iteration. \n",
    "On smaller data sets, it used to be 'good to have' option, in deep learning, it becomes must have"
   ]
  },
  {
   "cell_type": "markdown",
   "metadata": {},
   "source": [
    "Numpy methods perform vectorization and are way faster than loops. \n",
    "Example: element wise operations performed by functions-\n",
    "exp(x), abs(x), exp(x) , log(x), 1/x where x is a matrix"
   ]
  },
  {
   "cell_type": "markdown",
   "metadata": {},
   "source": [
    "## Vectorization of Logistic Regression using representation in 1_LR_algo_math_rep.ipynb"
   ]
  },
  {
   "cell_type": "markdown",
   "metadata": {},
   "source": [
    "## Design of algorithm implementation\n",
    "\n",
    "|-- process_data : Function to convert an array of images of size $m * num_{px} * num_{px} * 3$ into a two dimensional matrix  \n",
    "|-- 'Initialize Weights' : Function to Initialize weights   \n",
    "|-- 'Sigmoid' : Activation Function for LR, can be changed so keep as a separate function  \n",
    "|-- 'propagate' : Function to do forward propagation to compute activation function, Cost function, backward          \n",
    "                   propgation to compute change in weights  \n",
    "|-- 'optimize' : Function to run iterations   \n",
    "|-- 'predict'. : Function to convert predicted probability to label  \n",
    "|-- 'lr_model' : Function utilizing above functions to take a dataset, no. of iterations, alpha and return wights,                      bias, Loss values after trainining.   \n"
   ]
  },
  {
   "cell_type": "code",
   "execution_count": 3,
   "metadata": {},
   "outputs": [],
   "source": [
    "# Imageine Loading the data (cat/non-cat) after loading libraries\n",
    "import numpy as np\n",
    "import matplotlib.pyplot as plt\n",
    "import h5py\n",
    "import scipy\n",
    "from PIL import Image\n",
    "from scipy import ndimage\n",
    "#from lr_utils import load_dataset\n",
    "\n",
    "%matplotlib inline\n",
    "#train_set_x_orig, train_set_y, test_set_x_orig, test_set_y, classes = load_dataset()"
   ]
  },
  {
   "cell_type": "markdown",
   "metadata": {},
   "source": [
    "### Step 1: Pre-process"
   ]
  },
  {
   "cell_type": "code",
   "execution_count": 12,
   "metadata": {},
   "outputs": [
    {
     "data": {
      "text/plain": [
       "array([[[[ 0,  1],\n",
       "         [ 2,  3]],\n",
       "\n",
       "        [[ 4,  5],\n",
       "         [ 6,  7]],\n",
       "\n",
       "        [[ 8,  9],\n",
       "         [10, 11]]],\n",
       "\n",
       "\n",
       "       [[[12, 13],\n",
       "         [14, 15]],\n",
       "\n",
       "        [[16, 17],\n",
       "         [18, 19]],\n",
       "\n",
       "        [[20, 21],\n",
       "         [22, 23]]],\n",
       "\n",
       "\n",
       "       [[[24, 25],\n",
       "         [26, 27]],\n",
       "\n",
       "        [[28, 29],\n",
       "         [30, 31]],\n",
       "\n",
       "        [[32, 33],\n",
       "         [34, 35]]],\n",
       "\n",
       "\n",
       "       [[[36, 37],\n",
       "         [38, 39]],\n",
       "\n",
       "        [[40, 41],\n",
       "         [42, 43]],\n",
       "\n",
       "        [[44, 45],\n",
       "         [46, 47]]],\n",
       "\n",
       "\n",
       "       [[[48, 49],\n",
       "         [50, 51]],\n",
       "\n",
       "        [[52, 53],\n",
       "         [54, 55]],\n",
       "\n",
       "        [[56, 57],\n",
       "         [58, 59]]]])"
      ]
     },
     "execution_count": 12,
     "metadata": {},
     "output_type": "execute_result"
    }
   ],
   "source": [
    "a1 = np.arange(60).reshape((5,3,2,2))\n",
    "# Interpret the array as 5 images each represnted by 3 2*2 arrays\n",
    "a1"
   ]
  },
  {
   "cell_type": "code",
   "execution_count": 24,
   "metadata": {},
   "outputs": [
    {
     "name": "stdout",
     "output_type": "stream",
     "text": [
      "[[ 0  1  2  3  4  5  6  7  8  9 10 11]\n",
      " [12 13 14 15 16 17 18 19 20 21 22 23]\n",
      " [24 25 26 27 28 29 30 31 32 33 34 35]\n",
      " [36 37 38 39 40 41 42 43 44 45 46 47]\n",
      " [48 49 50 51 52 53 54 55 56 57 58 59]]\n"
     ]
    }
   ],
   "source": [
    "# To turn this into a 2D array, each image represented by a column\n",
    "a2 = a1.reshape(5,-1) # the unrolling happens row by row and in sequence for each of 3 arrays corresponding to an image\n",
    "print(a2)\n",
    "a3 = a2.T.copy() # copy because T produces a view, and changes made to view are broadcasted back\n",
    "#then take transpose"
   ]
  },
  {
   "cell_type": "markdown",
   "metadata": {},
   "source": [
    "One common preprocessing step in machine learning is to center and standardize your dataset, meaning that you substract the mean of the whole numpy array from each example, and then divide each example by the standard deviation of the whole numpy array. But for picture datasets, it is simpler and more convenient and works almost as well to just divide every row of the dataset by 255 (the maximum value of a pixel channel)"
   ]
  },
  {
   "cell_type": "code",
   "execution_count": 349,
   "metadata": {
    "collapsed": true
   },
   "outputs": [],
   "source": [
    "def process_data(train_x):\n",
    "    '''\n",
    "    Function flattern the array to two dimen\n",
    "    Arguments:\n",
    "    train_x : numpy array of size m * num_{px} * num_{px} * 3\n",
    "    \n",
    "    Returns:\n",
    "    train_x_flatten : A two dim. array of dim n*m, where n= num_{px} * num_{px} * 3; after reshaping and normalizing\n",
    "    '''\n",
    "    train_x_flatten = train_x.reshape(train_x.shape[0],-1).T.copy\n",
    "    train_x_flatten /= 255 # Normalize by dividing by maximum possible, normalizing enable gradient descent to train \n",
    "                           # faster\n",
    "        \n",
    "    return train_x_flatten\n",
    "    "
   ]
  },
  {
   "cell_type": "markdown",
   "metadata": {},
   "source": [
    "### Step 2: Initialize weights"
   ]
  },
  {
   "cell_type": "code",
   "execution_count": 414,
   "metadata": {},
   "outputs": [
    {
     "name": "stdout",
     "output_type": "stream",
     "text": [
      "w = [[ 0.33813498]\n",
      " [ 0.60331013]]\n",
      "b = 0.4470709640209256\n"
     ]
    }
   ],
   "source": [
    "def initialize_weights(dim):\n",
    "    '''\n",
    "    Argumnts : \n",
    "    dim : scalar\n",
    "    \n",
    "    Returns:\n",
    "    w : n*1 matrix\n",
    "    b : scalar\n",
    "    '''\n",
    "    w_init = np.random.rand(dim,1)\n",
    "    b_init = np.random.rand()\n",
    "    assert(w_init.shape == (dim,1))\n",
    "    assert(isinstance(b_init, float) or isinstance(b_init, int) )\n",
    "    dic = {\"w\" : w_init,\n",
    "          \"b\" : b_init}\n",
    "    return dic\n",
    "\n",
    "def initialize_with_zeros(dim):\n",
    "    \"\"\"\n",
    "    This function creates a vector of zeros of shape (dim, 1) for w and initializes b to 0.\n",
    "    \n",
    "    Argument:\n",
    "    dim -- size of the w vector we want (or number of parameters in this case)\n",
    "    \n",
    "    Returns:\n",
    "    w -- initialized vector of shape (dim, 1)\n",
    "    b -- initialized scalar (corresponds to the bias)\n",
    "    \"\"\"\n",
    "    \n",
    "    ### START CODE HERE ### (≈ 1 line of code)\n",
    "    w_init = np.zeros((dim,1))\n",
    "    b_init = 0\n",
    "    ### END CODE HERE ###\n",
    "\n",
    "    assert(w_init.shape == (dim, 1))\n",
    "    assert(isinstance(b_init, float) or isinstance(b_init, int))\n",
    "    \n",
    "    dic = {\"w\" : w_init,\n",
    "          \"b\" : b_init}\n",
    "    return dic\n",
    "\n",
    "# Unit Test\n",
    "dim = 2\n",
    "dic = initialize_weights(dim)\n",
    "print (\"w = \" + str(dic['w']))\n",
    "print (\"b = \" + str(dic['b']))"
   ]
  },
  {
   "cell_type": "markdown",
   "metadata": {},
   "source": [
    "### Step 3: Sigmoid Function to compute $ a^{(i)}$"
   ]
  },
  {
   "cell_type": "code",
   "execution_count": 351,
   "metadata": {},
   "outputs": [
    {
     "name": "stdout",
     "output_type": "stream",
     "text": [
      "sigmoid([0, 2]) = [ 0.5         0.88079708]\n"
     ]
    }
   ],
   "source": [
    "import numpy as np\n",
    "def sigmoid(z):\n",
    "    '''\n",
    "    Argumnts : \n",
    "    z : 1* m matrix\n",
    "    \n",
    "    Returns:\n",
    "    A : 1*m matrix'''\n",
    "    #print(\"dimension of X is {0}, W is {1}, B is {2}\".format(str(X.shape), str(W.shape),str(B.shape)))\n",
    "    A = 1/(1 + np.exp(-1*z))\n",
    "    return(A)\n",
    "\n",
    "# Unit test\n",
    "print (\"sigmoid([0, 2]) = \" + str(sigmoid(np.array([0,2]))))\n",
    "# Expected O/P :  [ 0.5         0.88079708]"
   ]
  },
  {
   "cell_type": "markdown",
   "metadata": {},
   "source": [
    "### Step 4: Propagage - forward and back in one iteration"
   ]
  },
  {
   "cell_type": "code",
   "execution_count": 352,
   "metadata": {},
   "outputs": [
    {
     "data": {
      "text/plain": [
       "array([[[ 0,  1,  2,  3,  4],\n",
       "        [ 5,  6,  7,  8,  9],\n",
       "        [10, 11, 12, 13, 14],\n",
       "        [15, 16, 17, 18, 19]]])"
      ]
     },
     "execution_count": 352,
     "metadata": {},
     "output_type": "execute_result"
    }
   ],
   "source": [
    "# np.squeeze reduces dimensions of an array by removing dimension present as 1\n",
    "a = np.arange(20).reshape(1,4,5)\n",
    "a"
   ]
  },
  {
   "cell_type": "code",
   "execution_count": 353,
   "metadata": {},
   "outputs": [
    {
     "data": {
      "text/plain": [
       "(4, 5)"
      ]
     },
     "execution_count": 353,
     "metadata": {},
     "output_type": "execute_result"
    }
   ],
   "source": [
    "a.squeeze().shape"
   ]
  },
  {
   "cell_type": "code",
   "execution_count": 405,
   "metadata": {},
   "outputs": [
    {
     "name": "stdout",
     "output_type": "stream",
     "text": [
      "dw = [[ 0.99845601]\n",
      " [ 2.39507239]]\n",
      "db = [ 0.00145558]\n",
      "cost = 5.801545319394553\n"
     ]
    }
   ],
   "source": [
    "def propagate(w,b,X,Y):\n",
    "    '''\n",
    "    Arguments:\n",
    "    Y: 1*m vector\n",
    "    X: n*m matrix\n",
    "    w: n*1 column vector\n",
    "    b: scalar\n",
    "    Returns:\n",
    "    Cost : Negative likelihood \n",
    "    dw : Matrix of Change in weights, of n*1 dims\n",
    "    db : Change in bias, a scalar'''\n",
    "    \n",
    "  \n",
    "    m = X.shape[1]\n",
    "    # Forward propagation\n",
    "    z = np.dot(w.T,X)+ b  # use of broadcasting\n",
    "    a = sigmoid(z)\n",
    "    loss = -1 *(Y * np.log(a) + (1-Y)*(np.log(1-a)))\n",
    "    cost = np.sum(loss, axis = 1)/m\n",
    "    cost = cost.squeeze()\n",
    "    assert(cost.shape==())\n",
    "    dz = a - Y\n",
    "    dw = np.dot(X, dz.T) / m# n*1 vec\n",
    "    assert(dw.shape == w.shape)\n",
    "    db = np.sum(dz, axis = 1)/m\n",
    "    assert(db.dtype == float)\n",
    "    grads = {'dw' : dw,\n",
    "           'db' : db}\n",
    "    return grads, cost\n",
    "\n",
    "## Unit test\n",
    "w, b, X, Y = np.array([[1.],[2.]]), 2., np.array([[1.,2.,-1.],[3.,4.,-3.2]]), np.array([[1,0,1]])\n",
    "grads, cost = propagate(w, b, X, Y)\n",
    "print (\"dw = \" + str(grads[\"dw\"]))\n",
    "print (\"db = \" + str(grads[\"db\"]))\n",
    "print (\"cost = \" + str(cost))\n",
    "    "
   ]
  },
  {
   "cell_type": "markdown",
   "metadata": {},
   "source": [
    "**Expected Output**:\n",
    "\n",
    "dw = [[ 0.99845601]\n",
    " [ 2.39507239]]\n",
    "db = [ 0.00145558]\n",
    "cost = 5.801545319394553"
   ]
  },
  {
   "cell_type": "markdown",
   "metadata": {},
   "source": [
    "### Step 5: Optimize"
   ]
  },
  {
   "cell_type": "code",
   "execution_count": 418,
   "metadata": {},
   "outputs": [
    {
     "name": "stdout",
     "output_type": "stream",
     "text": [
      "w = [[-0.08608643]\n",
      " [ 0.10971233]]\n",
      "b = [-0.14427427]\n",
      "dw = [[ 0.12311093]\n",
      " [ 0.13629247]]\n",
      "db = [-0.14923916]\n"
     ]
    }
   ],
   "source": [
    "def optimize(w, b, X, Y, iters, alpha, print_cost = False):\n",
    "    '''\n",
    "    Arguments:\n",
    "       X     : n*m matrix of numerical features\n",
    "       y     : 1*m vector of binary labels\n",
    "       iters  : max. no of iterations if exit criteria is not satisfied, to avoid long training iteration,\n",
    "              switch to using larger learning rate\n",
    "       alpha : learning rate  \n",
    "       print_cost = If cost is to be printed every 100 iterations\n",
    "       \n",
    "    Returns:\n",
    "    params : dictionary containing the weights w and bias b\n",
    "    grads : dictionary containing the gradients of the weights and bias with respect to the cost function\n",
    "    costs : list of all the costs computed during the optimization, this will be used to plot the learning curve.\n",
    "    '''\n",
    "    #2. Compute z\n",
    "    #3. Compute a\n",
    "    #4. Compute Cost\n",
    "    #5. Adjust weights and bias\n",
    "    #6. Compute cost\n",
    "    #7. Check if cost of step 5 decreases than in step 3, if yes go to step 2, if no decrease happened for 10 iterations\n",
    "    #  stop, and return cost, weights, bias\n",
    "    params ={}\n",
    "    grads ={}\n",
    "    costs =[]\n",
    "    for i in range(iters):\n",
    "        grads, cost = propagate(w,b,X,Y)\n",
    "        costs.append(cost)\n",
    "        w = w - alpha * grads['dw']\n",
    "        b = b - alpha * grads['db']\n",
    "        # Print the cost every 1000 training iterations\n",
    "        if print_cost and i % 1000 == 0:\n",
    "            print (\"Cost after iteration %i: %f\" %(i, cost))\n",
    "    params = {'w' : w, 'b' : b}\n",
    "    return params, grads, costs    \n",
    "    \n",
    "## Unit test\n",
    "params, grads, costs = optimize(w, b, X, Y, iters= 100, alpha = 0.009, print_cost = False)\n",
    "\n",
    "print (\"w = \" + str(params[\"w\"]))\n",
    "print (\"b = \" + str(params[\"b\"]))\n",
    "print (\"dw = \" + str(grads[\"dw\"]))\n",
    "print (\"db = \" + str(grads[\"db\"]))"
   ]
  },
  {
   "cell_type": "markdown",
   "metadata": {},
   "source": [
    "** Expected Output**\n",
    "w = [[ 0.19033591]\n",
    " [ 0.12259159]]\n",
    "b = [ 1.92535983]\n",
    "dw = [[ 0.67752042]\n",
    " [ 1.41625495]]\n",
    "db = [ 0.2191945]"
   ]
  },
  {
   "cell_type": "markdown",
   "metadata": {},
   "source": [
    "### Step 6: predict"
   ]
  },
  {
   "cell_type": "code",
   "execution_count": 407,
   "metadata": {},
   "outputs": [
    {
     "name": "stdout",
     "output_type": "stream",
     "text": [
      "predictions = {'probs': array([[ 0.52241976,  0.50960677,  0.34597965]]), 'labels': array([[ 1.,  1.,  0.]])}\n"
     ]
    }
   ],
   "source": [
    "def predict(w, b, X):\n",
    "    '''\n",
    "    Predict whether the label is 0 or 1 using learned logistic regression parameters (w, b)\n",
    "    \n",
    "    Arguments:\n",
    "    w -- weights, a numpy array of size (num_px * num_px * 3, 1)\n",
    "    b -- bias, a scalar\n",
    "    X -- data of size (num_px * num_px * 3, number of examples)\n",
    "    \n",
    "    Returns:\n",
    "    dic -- dic of numpy arrays (vectors) containing probabilities and all predictions (0/1) for the examples in X\n",
    "    '''\n",
    "    m = X.shape[1]\n",
    "    w = w.reshape(X.shape[0],1)\n",
    "    z = np.dot(w.T,X) + b\n",
    "    predicted_probs_y = sigmoid(z)\n",
    "    predicted_labels_y = np.zeros((1,m))\n",
    "    predicted_labels_y = np.where(predicted_probs_y > 0.5,1,predicted_labels_y)\n",
    "    assert(predicted_probs_y.shape == (1,m))\n",
    "    assert(predicted_labels_y.shape == (1,m))\n",
    "    dic = {'probs' : predicted_probs_y,\n",
    "          'labels' : predicted_labels_y}\n",
    "    return dic\n",
    "\n",
    "# Unit Test\n",
    "w = np.array([[0.1124579],[0.23106775]])\n",
    "b = -0.3\n",
    "X = np.array([[1.,-1.1,-3.2],[1.2,2.,0.1]])\n",
    "print (\"predictions = \" + str(predict(w, b, X)))"
   ]
  },
  {
   "cell_type": "markdown",
   "metadata": {},
   "source": [
    "### Step 7: LR_model"
   ]
  },
  {
   "cell_type": "code",
   "execution_count": 419,
   "metadata": {},
   "outputs": [],
   "source": [
    "def lr_model(X_train,Y_train, X_test, Y_test, alpha = 0.05, iters = 2000, print_cost = True):\n",
    "    '''\n",
    "    Builds the logistic regression model by calling the function you've implemented previously\n",
    "    \n",
    "    Arguments:\n",
    "    X_train : training set represented by a numpy array of shape (num_px * num_px * 3, m_train)\n",
    "    Y_train -- training labels represented by a numpy array (vector) of shape (1, m_train)\n",
    "    X_test -- test set represented by a numpy array of shape (num_px * num_px * 3, m_test)\n",
    "    Y_test -- test labels represented by a numpy array (vector) of shape (1, m_test)\n",
    "    iters -- hyperparameter representing the number of iterations to optimize the parameters\n",
    "    alpha -- hyperparameter representing the learning rate used in the update rule of optimize()\n",
    "    print_cost -- Set to true to print the cost every 100 iterations\n",
    "    \n",
    "    Returns:\n",
    "    d -- dictionary containing information about the model.\n",
    "    '''\n",
    "    assert(X_train.shape[1]==Y_train.shape[1])\n",
    "    assert(Y_train.shape[0] == 1)\n",
    "    #dic = initialize_weights(X_train.shape[0])\n",
    "    dic = initialize_with_zeros(X_train.shape[0])\n",
    "    w = dic['w']\n",
    "    b = dic['b']\n",
    "    params, grads, costs = optimize(w, b, X_train, Y_train, iters, alpha, print_cost)\n",
    "    # Print training error\n",
    "    preds_dic_train = predict(w, b, X_train)\n",
    "    preds_dic_test = predict(w, b, X_test)\n",
    "    accuracy_train = np.sum(preds_dic_train['labels'] == Y_train)/Y_train.shape[1]\n",
    "    accuracy_test = np.sum(preds_dic_test['labels'] == Y_test)/Y_test.shape[1]\n",
    "    print(\"The training accuracy is {0} %\".format(accuracy_train*100))\n",
    "    print(\"The testing accuracy is {0} %\".format(accuracy_test*100))\n",
    "    \n",
    "    d = {'w' :w,\n",
    "         'b' :b,\n",
    "         'costs': costs,\n",
    "          'learning_rate' : alpha,\n",
    "          'iterations' : iters}\n",
    "    return d"
   ]
  },
  {
   "cell_type": "markdown",
   "metadata": {},
   "source": [
    "### Test on a structured data set"
   ]
  },
  {
   "cell_type": "code",
   "execution_count": 409,
   "metadata": {},
   "outputs": [
    {
     "name": "stdout",
     "output_type": "stream",
     "text": [
      "['DESCR', 'data', 'feature_names', 'target', 'target_names'] (569, 30)\n"
     ]
    }
   ],
   "source": [
    "from sklearn.datasets import load_breast_cancer\n",
    "data = load_breast_cancer()\n",
    "print(dir(data), data.data.shape)"
   ]
  },
  {
   "cell_type": "code",
   "execution_count": 410,
   "metadata": {},
   "outputs": [
    {
     "name": "stdout",
     "output_type": "stream",
     "text": [
      "(569,) (569,)\n"
     ]
    }
   ],
   "source": [
    "no_train = int(0.7*569)\n",
    "np.random.seed(1001)\n",
    "train_sample = np.random.choice(a = np.arange(569), size = no_train,replace = False)\n",
    "assert(len(np.unique(train_sample))==no_train)\n",
    "\n",
    "train_index = np.isin(np.arange(569),train_sample)\n",
    "test_index = ~train_index\n",
    "print(train_index.shape, test_index.shape)"
   ]
  },
  {
   "cell_type": "code",
   "execution_count": 411,
   "metadata": {},
   "outputs": [
    {
     "name": "stdout",
     "output_type": "stream",
     "text": [
      "(30, 398) (30, 171) (1, 398) (1, 171)\n"
     ]
    }
   ],
   "source": [
    "train_X = data.data[train_index].T.copy() # boolean indexing creates a copy; T creates a view\n",
    "train_Y = data.target[train_index].reshape(1,-1)\n",
    "test_X = dt[test_index].T.copy()\n",
    "test_Y = data.target[test_index].reshape(1,-1)\n",
    "print(train_X.shape, test_X.shape,train_Y.shape,test_Y.shape)"
   ]
  },
  {
   "cell_type": "code",
   "execution_count": 412,
   "metadata": {},
   "outputs": [],
   "source": [
    "# Normalize X matrices\n",
    "train_X = (train_X - np.mean(train_X, axis = 1).reshape(-1,1))/np.std(train_X,axis = 1).reshape(-1,1)\n",
    "test_X = (test_X - np.mean(test_X, axis = 1).reshape(-1,1))/np.std(test_X,axis = 1).reshape(-1,1)"
   ]
  },
  {
   "cell_type": "code",
   "execution_count": 423,
   "metadata": {},
   "outputs": [
    {
     "name": "stdout",
     "output_type": "stream",
     "text": [
      "Cost after iteration 0: 0.693147\n",
      "Cost after iteration 1000: 0.053462\n",
      "Cost after iteration 2000: 0.045436\n",
      "Cost after iteration 3000: 0.041301\n",
      "Cost after iteration 4000: 0.038535\n",
      "Cost after iteration 5000: 0.036470\n",
      "Cost after iteration 6000: 0.034835\n",
      "Cost after iteration 7000: 0.033488\n",
      "Cost after iteration 8000: 0.032349\n",
      "Cost after iteration 9000: 0.031364\n",
      "The training accuracy is 38.19095477386934 %\n",
      "The testing accuracy is 35.08771929824561 %\n"
     ]
    }
   ],
   "source": [
    "model = lr_model(train_X, train_Y, test_X, test_Y, alpha = 0.1, iters = 10000, print_cost = True)"
   ]
  },
  {
   "cell_type": "code",
   "execution_count": 425,
   "metadata": {},
   "outputs": [
    {
     "data": {
      "image/png": "[encoded data removed]",
      "text/plain": [
       "<matplotlib.figure.Figure at 0x18172053c8>"
      ]
     },
     "metadata": {},
     "output_type": "display_data"
    }
   ],
   "source": [
    "# Plot learning curve (with costs)\n",
    "costs = np.squeeze(model['costs'])\n",
    "plt.plot(costs)\n",
    "plt.ylabel('cost')\n",
    "plt.xlabel('iterations (per thousands)')\n",
    "plt.title(\"Learning rate =\" + str(model[\"learning_rate\"]))\n",
    "plt.show()"
   ]
  },
  {
   "cell_type": "markdown",
   "metadata": {},
   "source": [
    "## Impact of learning rate"
   ]
  },
  {
   "cell_type": "code",
   "execution_count": 428,
   "metadata": {},
   "outputs": [
    {
     "name": "stdout",
     "output_type": "stream",
     "text": [
      "learning rate is: 0.01\n",
      "The training accuracy is 38.19095477386934 %\n",
      "The testing accuracy is 35.08771929824561 %\n",
      "\n",
      "-------------------------------------------------------\n",
      "\n",
      "learning rate is: 0.001\n",
      "The training accuracy is 38.19095477386934 %\n",
      "The testing accuracy is 35.08771929824561 %\n",
      "\n",
      "-------------------------------------------------------\n",
      "\n",
      "learning rate is: 0.0001\n",
      "The training accuracy is 38.19095477386934 %\n",
      "The testing accuracy is 35.08771929824561 %\n",
      "\n",
      "-------------------------------------------------------\n",
      "\n"
     ]
    },
    {
     "data": {
      "image/png": "[encoded data removed]",
      "text/plain": [
       "<matplotlib.figure.Figure at 0x1a179c26a0>"
      ]
     },
     "metadata": {},
     "output_type": "display_data"
    }
   ],
   "source": [
    "learning_rates = [0.01, 0.001, 0.0001]\n",
    "models = {}\n",
    "for i in learning_rates:\n",
    "    print (\"learning rate is: \" + str(i))\n",
    "    models[str(i)] = lr_model(train_X, train_Y, test_X, test_Y, iters = 10000, alpha = i, print_cost = False)\n",
    "    print ('\\n' + \"-------------------------------------------------------\" + '\\n')\n",
    "\n",
    "for i in learning_rates:\n",
    "    plt.plot(np.squeeze(models[str(i)][\"costs\"]), label= str(models[str(i)][\"learning_rate\"]))\n",
    "\n",
    "plt.ylabel('cost')\n",
    "plt.xlabel('iterations (thousands)')\n",
    "\n",
    "legend = plt.legend(loc='upper center', shadow=True)\n",
    "frame = legend.get_frame()\n",
    "frame.set_facecolor('0.90')\n",
    "plt.show()"
   ]
  },
  {
   "cell_type": "markdown",
   "metadata": {},
   "source": [
    "**Interpretation**: \n",
    "- Different learning rates give different costs and thus different predictions results.\n",
    "- If the learning rate is too large (0.01), the cost may oscillate up and down. It may even diverge (though in this example, using 0.01 still eventually ends up at a good value for the cost). \n",
    "- A lower cost doesn't mean a better model. You have to check if there is possibly overfitting. It happens when the training accuracy is a lot higher than the test accuracy.\n",
    "- In deep learning, usually recommend that : \n",
    "    - Choose the learning rate that better minimizes the cost function.\n",
    "    - If your model overfits, use other techniques to reduce overfitting. (TBD)\n",
    "\n"
   ]
  },
  {
   "cell_type": "markdown",
   "metadata": {},
   "source": [
    "## TBD : Run the algorithm on a images data later, confirm cost function can oscillate up an downs"
   ]
  },
  {
   "cell_type": "markdown",
   "metadata": {},
   "source": [
    "## Code snipped below from scipy to process image"
   ]
  },
  {
   "cell_type": "code",
   "execution_count": null,
   "metadata": {
    "collapsed": true
   },
   "outputs": [],
   "source": [
    "## START CODE HERE ## (PUT YOUR IMAGE NAME) \n",
    "my_image = \"my_image.jpg\"   # change this to the name of your image file \n",
    "## END CODE HERE ##\n",
    "\n",
    "# We preprocess the image to fit your algorithm.\n",
    "fname = \"images/\" + my_image\n",
    "image = np.array(ndimage.imread(fname, flatten=False))\n",
    "my_image = scipy.misc.imresize(image, size=(num_px,num_px)).reshape((1, num_px*num_px*3)).T\n",
    "my_predicted_image = predict(d[\"w\"], d[\"b\"], my_image)\n",
    "\n",
    "plt.imshow(image)\n",
    "print(\"y = \" + str(np.squeeze(my_predicted_image)) + \", your algorithm predicts a \\\"\" + classes[int(np.squeeze(my_predicted_image)),].decode(\"utf-8\") +  \"\\\" picture.\")"
   ]
  },
  {
   "cell_type": "code",
   "execution_count": null,
   "metadata": {
    "collapsed": true
   },
   "outputs": [],
   "source": []
  }
 ],
 "metadata": {
  "kernelspec": {
   "display_name": "Python 3",
   "language": "python",
   "name": "python3"
  },
  "language_info": {
   "codemirror_mode": {
    "name": "ipython",
    "version": 3
   },
   "file_extension": ".py",
   "mimetype": "text/x-python",
   "name": "python",
   "nbconvert_exporter": "python",
   "pygments_lexer": "ipython3",
   "version": "3.6.3"
  }
 },
 "nbformat": 4,
 "nbformat_minor": 2
}
