{
 "cells": [
  {
   "cell_type": "markdown",
   "metadata": {},
   "source": [
    "### 1. Vectors and Properties\n",
    "* Vector definition and use in ML and DL  \n",
    "* Vector Norm \n",
    "* Vector additions \n",
    "* Multiplication with scalar  \n",
    "* Dot/Inner product, geometrical meaning \n",
    "* Projection of a vector \n",
    "* Cosine similarity \n",
    "* Normal Vector\n",
    "* Orthogonal, Orthonormal Vectors  \n",
    "* Vector Space \n",
    "* Linear Combination of vectors \n",
    "* Linear Span \n",
    "* Linear Independence \n",
    "* Basis "
   ]
  },
  {
   "cell_type": "markdown",
   "metadata": {},
   "source": [
    "### 2. Matrices and Properties \n",
    "* Matrix as a collection of vectors \n",
    "* Matrix multiplication - Interpretation and Properties\n",
    "* Dot product, scalar multiplication, addition, transpose.  \n",
    "* Linear Transformation \n",
    "* Determinant  \n",
    "* Identity \n",
    "* Inverse and checks for Invertibility \n",
    "* Rank of a Matrix \n",
    "* Trace of a Matrix \n",
    "* Special Square Matrix \n",
    "  * Symmetric \n",
    "* Popular Matrix types  \n",
    "  * Diagonal \n",
    "  * Orthogonal \n",
    "  * Orthonormal \n",
    "  * Positive Definite Matrix"
   ]
  },
  {
   "cell_type": "markdown",
   "metadata": {},
   "source": [
    "#### Vector definition and use in ML and DL  \n",
    "A point on a cartesian axes system (2 dimenstions) can be represented as a vector, having a direction, making an angle with the x and y axes and having a magnitude.  \n",
    "A record in a ML and DL in the training data can be considered as a point in n dimensional system, with the same concept of magnitude and direction.  \n",
    "Hence, the concept of vectors in 2D can be extended to n dimensional space considered to be comprised by n*m dimensional data set, n being no. of features and m being number of examples.   \n",
    "\n",
    "$\\overrightarrow{a} = [2,3]$ is a vector  \n",
    "$||\\overrightarrow{a}|| = \\sqrt{13}$ is the magnitude  \n",
    "$\\widehat a = [\\frac{2}{\\sqrt{13}},\\frac{3}{\\sqrt{13}}]$ is a unit vector  \n",
    "We can say:  \n",
    "\n",
    "$\\overrightarrow{a} =||\\overrightarrow{a}||* \\widehat a $   \n",
    "where unit vector has the same direction (in terms of making the same angle with x axis)\n",
    "\n"
   ]
  },
  {
   "cell_type": "markdown",
   "metadata": {},
   "source": [
    "#### Vector Norm  \n",
    "Norm of a vector is indication of its magnitude, norm is defined in different orders - 1,2.. p.  \n",
    "\n",
    "$L_p$ norm is defined as  $||\\overrightarrow{x}||_p = ({\\sum_{i=1}^n|x_i|^p})^{\\frac{1}{p}}$   \n",
    "\n",
    "Specifically, L1 norm is defined as :\n",
    "$||\\overrightarrow{x}||_1 = \\sum_{i=1}^n|x_i|$   \n",
    "\n",
    "and L2 norm is defined as :\n",
    "$||\\overrightarrow{x}||_2 = ({\\sum_{i=1}^n x_i^2})^{\\frac{1}{2}}$"
   ]
  },
  {
   "cell_type": "code",
   "execution_count": null,
   "metadata": {
    "collapsed": true
   },
   "outputs": [],
   "source": []
  }
 ],
 "metadata": {
  "kernelspec": {
   "display_name": "Python 3",
   "language": "python",
   "name": "python3"
  },
  "language_info": {
   "codemirror_mode": {
    "name": "ipython",
    "version": 3
   },
   "file_extension": ".py",
   "mimetype": "text/x-python",
   "name": "python",
   "nbconvert_exporter": "python",
   "pygments_lexer": "ipython3",
   "version": "3.6.7"
  }
 },
 "nbformat": 4,
 "nbformat_minor": 2
}
