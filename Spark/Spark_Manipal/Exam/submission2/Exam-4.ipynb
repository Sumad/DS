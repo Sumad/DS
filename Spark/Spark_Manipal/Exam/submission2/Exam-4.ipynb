{
 "cells": [
  {
   "cell_type": "markdown",
   "metadata": {},
   "source": [
    "## Churn for High Net individuals on prepaid using usage based churn "
   ]
  },
  {
   "cell_type": "code",
   "execution_count": 2,
   "metadata": {},
   "outputs": [],
   "source": [
    "# imports \n",
    "from pyspark.sql import SparkSession\n",
    "spark = SparkSession.builder.appName('sumad_test').getOrCreate()"
   ]
  },
  {
   "cell_type": "code",
   "execution_count": 3,
   "metadata": {},
   "outputs": [
    {
     "data": {
      "text/plain": [
       "'2.4.0'"
      ]
     },
     "execution_count": 3,
     "metadata": {},
     "output_type": "execute_result"
    }
   ],
   "source": [
    "spark.version"
   ]
  },
  {
   "cell_type": "code",
   "execution_count": 60,
   "metadata": {},
   "outputs": [],
   "source": [
    "from pyspark.sql import functions as F"
   ]
  },
  {
   "cell_type": "code",
   "execution_count": 164,
   "metadata": {},
   "outputs": [],
   "source": [
    "from pyspark.ml import Pipeline\n",
    "from pyspark.ml.classification import LogisticRegression, DecisionTreeClassifier\n",
    "from pyspark.ml.evaluation import BinaryClassificationEvaluator\n",
    "#from pyspark.ml.feature import HashingTF, Tokenizer\n",
    "from pyspark.ml.tuning import CrossValidator, ParamGridBuilder"
   ]
  },
  {
   "cell_type": "code",
   "execution_count": 5,
   "metadata": {},
   "outputs": [],
   "source": [
    "import pandas as pd \n",
    "import numpy as np \n",
    "from matplotlib import pyplot as plt\n",
    "%matplotlib notebook \n",
    "plt.style.use('bmh')"
   ]
  },
  {
   "cell_type": "code",
   "execution_count": 6,
   "metadata": {},
   "outputs": [
    {
     "name": "stdout",
     "output_type": "stream",
     "text": [
      "Found 7 items\r\n",
      "drwx------   - sumad sumad          0 2018-12-04 03:00 .Trash\r\n",
      "drwxr-xr-x   - sumad sumad          0 2019-01-16 01:34 .sparkStaging\r\n",
      "-rw-r--r--   2 sumad sumad      21353 2018-11-30 01:58 2010-summary.json\r\n",
      "drwxr-xr-x   - sumad sumad          0 2018-12-07 02:00 Data\r\n",
      "drwxr-xr-x   - sumad sumad          0 2018-12-04 01:52 fractalUS\r\n",
      "-rw-r--r--   2 sumad sumad   79156935 2019-01-16 01:41 telecom_churn_data.csv\r\n",
      "drwxr-xr-x   - sumad sumad          0 2018-11-21 03:33 weblogs\r\n"
     ]
    }
   ],
   "source": [
    "!hadoop fs -ls"
   ]
  },
  {
   "cell_type": "code",
   "execution_count": 9,
   "metadata": {},
   "outputs": [
    {
     "name": "stdout",
     "output_type": "stream",
     "text": [
      "/home/sumad\r\n"
     ]
    }
   ],
   "source": [
    "!pwd"
   ]
  },
  {
   "cell_type": "markdown",
   "metadata": {},
   "source": [
    "## 1. Data Preparation"
   ]
  },
  {
   "cell_type": "markdown",
   "metadata": {},
   "source": [
    "#### Read Data, Data Quality Check"
   ]
  },
  {
   "cell_type": "markdown",
   "metadata": {},
   "source": [
    "#### had to pull data to local file system and then read"
   ]
  },
  {
   "cell_type": "code",
   "execution_count": 20,
   "metadata": {},
   "outputs": [],
   "source": [
    "df_raw = spark.read.format(\"csv\")\\\n",
    " .option(\"header\", \"true\")\\\n",
    " .option(\"inferSchema\", \"true\")\\\n",
    " .load(\"/user/sumad/telecom_churn_data.csv\")\\\n",
    " .coalesce(5)\n",
    " #.where(\"Description IS NOT NULL\")"
   ]
  },
  {
   "cell_type": "code",
   "execution_count": 21,
   "metadata": {},
   "outputs": [
    {
     "data": {
      "text/plain": [
       "99999"
      ]
     },
     "execution_count": 21,
     "metadata": {},
     "output_type": "execute_result"
    }
   ],
   "source": [
    "df_raw.count()"
   ]
  },
  {
   "cell_type": "code",
   "execution_count": 31,
   "metadata": {},
   "outputs": [
    {
     "data": {
      "text/plain": [
       "226"
      ]
     },
     "execution_count": 31,
     "metadata": {},
     "output_type": "execute_result"
    }
   ],
   "source": [
    "len(df_raw.columns)"
   ]
  },
  {
   "cell_type": "code",
   "execution_count": 26,
   "metadata": {},
   "outputs": [
    {
     "data": {
      "text/plain": [
       "pyspark.sql.dataframe.DataFrame"
      ]
     },
     "execution_count": 26,
     "metadata": {},
     "output_type": "execute_result"
    }
   ],
   "source": [
    "type(df_raw)"
   ]
  },
  {
   "cell_type": "code",
   "execution_count": 185,
   "metadata": {},
   "outputs": [],
   "source": [
    "#df_raw.dtypes"
   ]
  },
  {
   "cell_type": "code",
   "execution_count": 35,
   "metadata": {},
   "outputs": [],
   "source": [
    "df_sample = df_raw.limit(5).toPandas()"
   ]
  },
  {
   "cell_type": "code",
   "execution_count": 37,
   "metadata": {},
   "outputs": [],
   "source": [
    "df_sample.to_csv('sample_telco.csv')"
   ]
  },
  {
   "cell_type": "markdown",
   "metadata": {},
   "source": [
    "#### Filter high networth individuals"
   ]
  },
  {
   "cell_type": "code",
   "execution_count": 206,
   "metadata": {},
   "outputs": [],
   "source": [
    "df_raw_1 = df_raw.withColumn('avg_rech_months_6_7', \n",
    "                             (F.col('total_rech_amt_6') + F.col('total_rech_amt_7'))/2)"
   ]
  },
  {
   "cell_type": "code",
   "execution_count": 207,
   "metadata": {},
   "outputs": [],
   "source": [
    "th_amt = df_raw_1.select('avg_rech_months_6_7').summary('70%').collect()"
   ]
  },
  {
   "cell_type": "code",
   "execution_count": 208,
   "metadata": {},
   "outputs": [],
   "source": [
    "df_raw_2 = (df_raw_1.withColumn('HNI_Ind',F.when(F.col('avg_rech_months_6_7') >= float(th_amt[0][1]),1)\n",
    "                                .otherwise(0)).filter(F.col('HNI_Ind') == 1))"
   ]
  },
  {
   "cell_type": "code",
   "execution_count": 77,
   "metadata": {},
   "outputs": [
    {
     "data": {
      "text/plain": [
       "30011"
      ]
     },
     "execution_count": 77,
     "metadata": {},
     "output_type": "execute_result"
    }
   ],
   "source": [
    "df_raw_2.count()"
   ]
  },
  {
   "cell_type": "markdown",
   "metadata": {},
   "source": [
    "#### Create churn indicator"
   ]
  },
  {
   "cell_type": "code",
   "execution_count": 209,
   "metadata": {},
   "outputs": [],
   "source": [
    "df_raw_3 = df_raw_2.withColumn('Churn', F.when(((F.col(\"total_ic_mou_9\") == 0) &\n",
    "(F.col(\"total_og_mou_9\") == 0) &\n",
    "(F.col(\"vol_2g_mb_9\") == 0) &\n",
    "(F.col(\"vol_3g_mb_9\") == 0)),1).otherwise(0))"
   ]
  },
  {
   "cell_type": "code",
   "execution_count": 210,
   "metadata": {},
   "outputs": [
    {
     "name": "stdout",
     "output_type": "stream",
     "text": [
      "+-----+-----+\n",
      "|Churn|count|\n",
      "+-----+-----+\n",
      "|    1| 2593|\n",
      "|    0|27418|\n",
      "+-----+-----+\n",
      "\n"
     ]
    }
   ],
   "source": [
    "df_raw_3.groupBy('Churn').count().show()"
   ]
  },
  {
   "cell_type": "markdown",
   "metadata": {},
   "source": [
    "##### Churn rate of 9% in overall data can be seen"
   ]
  },
  {
   "cell_type": "markdown",
   "metadata": {},
   "source": [
    "#### Drop all month 9 variables"
   ]
  },
  {
   "cell_type": "code",
   "execution_count": 211,
   "metadata": {},
   "outputs": [
    {
     "name": "stdout",
     "output_type": "stream",
     "text": [
      "229\n",
      "54\n"
     ]
    }
   ],
   "source": [
    "month_9_cols = [x for x in df_raw_3.columns if(x.endswith('9'))]\n",
    "print(len(df_raw_3.columns))\n",
    "print(len(month_9_cols))"
   ]
  },
  {
   "cell_type": "code",
   "execution_count": 212,
   "metadata": {},
   "outputs": [],
   "source": [
    "cols_to_keep_1 = [x for x in df_raw_3.columns if(x not in month_9_cols)]"
   ]
  },
  {
   "cell_type": "code",
   "execution_count": 213,
   "metadata": {},
   "outputs": [],
   "source": [
    "df_raw_4 = df_raw_3.select(cols_to_keep_1)"
   ]
  },
  {
   "cell_type": "code",
   "execution_count": 214,
   "metadata": {},
   "outputs": [
    {
     "data": {
      "text/plain": [
       "175"
      ]
     },
     "execution_count": 214,
     "metadata": {},
     "output_type": "execute_result"
    }
   ],
   "source": [
    "len(df_raw_4.columns)"
   ]
  },
  {
   "cell_type": "code",
   "execution_count": 63,
   "metadata": {},
   "outputs": [],
   "source": [
    "#df_raw_1.select(['total_rech_amt_6' ,'total_rech_amt_7', 'avg_rech_months_6_7']).show(5)"
   ]
  },
  {
   "cell_type": "markdown",
   "metadata": {},
   "source": [
    "#### Data Quality Check"
   ]
  },
  {
   "cell_type": "code",
   "execution_count": 215,
   "metadata": {},
   "outputs": [],
   "source": [
    "id_cols = ['mobile_number', 'circle_id' ]\n",
    "target_col = 'Churn'\n",
    "cat_cols = [x for x in df_raw_4.columns if(('date' in x) & (x not in id_cols) & (x!=target_col))]\n",
    "num_cols = [x for x in df_raw_4.columns if x not in (cat_cols + id_cols + [target_col])]\n"
   ]
  },
  {
   "cell_type": "code",
   "execution_count": 216,
   "metadata": {},
   "outputs": [
    {
     "name": "stdout",
     "output_type": "stream",
     "text": [
      "9\n",
      "163\n"
     ]
    }
   ],
   "source": [
    "print(len(cat_cols))\n",
    "print(len(num_cols))"
   ]
  },
  {
   "cell_type": "code",
   "execution_count": 217,
   "metadata": {},
   "outputs": [],
   "source": [
    "num_summary = df_raw_4.select(num_cols).summary().toPandas()"
   ]
  },
  {
   "cell_type": "code",
   "execution_count": 100,
   "metadata": {},
   "outputs": [],
   "source": [
    "num_summary.to_csv('num_summary.csv')"
   ]
  },
  {
   "cell_type": "code",
   "execution_count": 98,
   "metadata": {},
   "outputs": [],
   "source": [
    "cat_summary = df_raw_4.select(cat_cols).summary().toPandas()"
   ]
  },
  {
   "cell_type": "code",
   "execution_count": 99,
   "metadata": {},
   "outputs": [
    {
     "data": {
      "text/html": [
       "<div>\n",
       "<style scoped>\n",
       "    .dataframe tbody tr th:only-of-type {\n",
       "        vertical-align: middle;\n",
       "    }\n",
       "\n",
       "    .dataframe tbody tr th {\n",
       "        vertical-align: top;\n",
       "    }\n",
       "\n",
       "    .dataframe thead th {\n",
       "        text-align: right;\n",
       "    }\n",
       "</style>\n",
       "<table border=\"1\" class=\"dataframe\">\n",
       "  <thead>\n",
       "    <tr style=\"text-align: right;\">\n",
       "      <th></th>\n",
       "      <th>summary</th>\n",
       "      <th>last_date_of_month_6</th>\n",
       "      <th>last_date_of_month_7</th>\n",
       "      <th>last_date_of_month_8</th>\n",
       "      <th>date_of_last_rech_6</th>\n",
       "      <th>date_of_last_rech_7</th>\n",
       "      <th>date_of_last_rech_8</th>\n",
       "      <th>date_of_last_rech_data_6</th>\n",
       "      <th>date_of_last_rech_data_7</th>\n",
       "      <th>date_of_last_rech_data_8</th>\n",
       "    </tr>\n",
       "  </thead>\n",
       "  <tbody>\n",
       "    <tr>\n",
       "      <th>0</th>\n",
       "      <td>count</td>\n",
       "      <td>30011</td>\n",
       "      <td>29980</td>\n",
       "      <td>29854</td>\n",
       "      <td>29949</td>\n",
       "      <td>29897</td>\n",
       "      <td>29417</td>\n",
       "      <td>11397</td>\n",
       "      <td>11662</td>\n",
       "      <td>11754</td>\n",
       "    </tr>\n",
       "    <tr>\n",
       "      <th>1</th>\n",
       "      <td>mean</td>\n",
       "      <td>None</td>\n",
       "      <td>None</td>\n",
       "      <td>None</td>\n",
       "      <td>None</td>\n",
       "      <td>None</td>\n",
       "      <td>None</td>\n",
       "      <td>None</td>\n",
       "      <td>None</td>\n",
       "      <td>None</td>\n",
       "    </tr>\n",
       "    <tr>\n",
       "      <th>2</th>\n",
       "      <td>stddev</td>\n",
       "      <td>None</td>\n",
       "      <td>None</td>\n",
       "      <td>None</td>\n",
       "      <td>None</td>\n",
       "      <td>None</td>\n",
       "      <td>None</td>\n",
       "      <td>None</td>\n",
       "      <td>None</td>\n",
       "      <td>None</td>\n",
       "    </tr>\n",
       "    <tr>\n",
       "      <th>3</th>\n",
       "      <td>min</td>\n",
       "      <td>6/30/2014</td>\n",
       "      <td>7/31/2014</td>\n",
       "      <td>8/31/2014</td>\n",
       "      <td>6/1/2014</td>\n",
       "      <td>7/1/2014</td>\n",
       "      <td>8/1/2014</td>\n",
       "      <td>6/1/2014</td>\n",
       "      <td>7/1/2014</td>\n",
       "      <td>8/1/2014</td>\n",
       "    </tr>\n",
       "    <tr>\n",
       "      <th>4</th>\n",
       "      <td>25%</td>\n",
       "      <td>None</td>\n",
       "      <td>None</td>\n",
       "      <td>None</td>\n",
       "      <td>None</td>\n",
       "      <td>None</td>\n",
       "      <td>None</td>\n",
       "      <td>None</td>\n",
       "      <td>None</td>\n",
       "      <td>None</td>\n",
       "    </tr>\n",
       "    <tr>\n",
       "      <th>5</th>\n",
       "      <td>50%</td>\n",
       "      <td>None</td>\n",
       "      <td>None</td>\n",
       "      <td>None</td>\n",
       "      <td>None</td>\n",
       "      <td>None</td>\n",
       "      <td>None</td>\n",
       "      <td>None</td>\n",
       "      <td>None</td>\n",
       "      <td>None</td>\n",
       "    </tr>\n",
       "    <tr>\n",
       "      <th>6</th>\n",
       "      <td>75%</td>\n",
       "      <td>None</td>\n",
       "      <td>None</td>\n",
       "      <td>None</td>\n",
       "      <td>None</td>\n",
       "      <td>None</td>\n",
       "      <td>None</td>\n",
       "      <td>None</td>\n",
       "      <td>None</td>\n",
       "      <td>None</td>\n",
       "    </tr>\n",
       "    <tr>\n",
       "      <th>7</th>\n",
       "      <td>max</td>\n",
       "      <td>6/30/2014</td>\n",
       "      <td>7/31/2014</td>\n",
       "      <td>8/31/2014</td>\n",
       "      <td>6/9/2014</td>\n",
       "      <td>7/9/2014</td>\n",
       "      <td>8/9/2014</td>\n",
       "      <td>6/9/2014</td>\n",
       "      <td>7/9/2014</td>\n",
       "      <td>8/9/2014</td>\n",
       "    </tr>\n",
       "  </tbody>\n",
       "</table>\n",
       "</div>"
      ],
      "text/plain": [
       "  summary last_date_of_month_6 last_date_of_month_7 last_date_of_month_8  \\\n",
       "0   count                30011                29980                29854   \n",
       "1    mean                 None                 None                 None   \n",
       "2  stddev                 None                 None                 None   \n",
       "3     min            6/30/2014            7/31/2014            8/31/2014   \n",
       "4     25%                 None                 None                 None   \n",
       "5     50%                 None                 None                 None   \n",
       "6     75%                 None                 None                 None   \n",
       "7     max            6/30/2014            7/31/2014            8/31/2014   \n",
       "\n",
       "  date_of_last_rech_6 date_of_last_rech_7 date_of_last_rech_8  \\\n",
       "0               29949               29897               29417   \n",
       "1                None                None                None   \n",
       "2                None                None                None   \n",
       "3            6/1/2014            7/1/2014            8/1/2014   \n",
       "4                None                None                None   \n",
       "5                None                None                None   \n",
       "6                None                None                None   \n",
       "7            6/9/2014            7/9/2014            8/9/2014   \n",
       "\n",
       "  date_of_last_rech_data_6 date_of_last_rech_data_7 date_of_last_rech_data_8  \n",
       "0                    11397                    11662                    11754  \n",
       "1                     None                     None                     None  \n",
       "2                     None                     None                     None  \n",
       "3                 6/1/2014                 7/1/2014                 8/1/2014  \n",
       "4                     None                     None                     None  \n",
       "5                     None                     None                     None  \n",
       "6                     None                     None                     None  \n",
       "7                 6/9/2014                 7/9/2014                 8/9/2014  "
      ]
     },
     "execution_count": 99,
     "metadata": {},
     "output_type": "execute_result"
    }
   ],
   "source": [
    "cat_summary"
   ]
  },
  {
   "cell_type": "markdown",
   "metadata": {},
   "source": [
    "#### Fix data issues"
   ]
  },
  {
   "cell_type": "markdown",
   "metadata": {},
   "source": [
    "#### Remove numerical variables that \n",
    "- have any missing values \n",
    "- have 0 standard deviation \n",
    "#### Remove all date columns"
   ]
  },
  {
   "cell_type": "code",
   "execution_count": 218,
   "metadata": {},
   "outputs": [
    {
     "data": {
      "text/html": [
       "<div>\n",
       "<style scoped>\n",
       "    .dataframe tbody tr th:only-of-type {\n",
       "        vertical-align: middle;\n",
       "    }\n",
       "\n",
       "    .dataframe tbody tr th {\n",
       "        vertical-align: top;\n",
       "    }\n",
       "\n",
       "    .dataframe thead th {\n",
       "        text-align: right;\n",
       "    }\n",
       "</style>\n",
       "<table border=\"1\" class=\"dataframe\">\n",
       "  <thead>\n",
       "    <tr style=\"text-align: right;\">\n",
       "      <th></th>\n",
       "      <th>summary</th>\n",
       "      <th>loc_og_t2o_mou</th>\n",
       "      <th>std_og_t2o_mou</th>\n",
       "      <th>loc_ic_t2o_mou</th>\n",
       "      <th>arpu_6</th>\n",
       "      <th>arpu_7</th>\n",
       "      <th>arpu_8</th>\n",
       "      <th>onnet_mou_6</th>\n",
       "      <th>onnet_mou_7</th>\n",
       "      <th>onnet_mou_8</th>\n",
       "      <th>...</th>\n",
       "      <th>fb_user_6</th>\n",
       "      <th>fb_user_7</th>\n",
       "      <th>fb_user_8</th>\n",
       "      <th>aon</th>\n",
       "      <th>aug_vbc_3g</th>\n",
       "      <th>jul_vbc_3g</th>\n",
       "      <th>jun_vbc_3g</th>\n",
       "      <th>sep_vbc_3g</th>\n",
       "      <th>avg_rech_months_6_7</th>\n",
       "      <th>HNI_Ind</th>\n",
       "    </tr>\n",
       "  </thead>\n",
       "  <tbody>\n",
       "    <tr>\n",
       "      <th>0</th>\n",
       "      <td>count</td>\n",
       "      <td>29897</td>\n",
       "      <td>29897</td>\n",
       "      <td>29897</td>\n",
       "      <td>30011</td>\n",
       "      <td>30011</td>\n",
       "      <td>30011</td>\n",
       "      <td>29695</td>\n",
       "      <td>29708</td>\n",
       "      <td>29073</td>\n",
       "      <td>...</td>\n",
       "      <td>11397</td>\n",
       "      <td>11662</td>\n",
       "      <td>11754</td>\n",
       "      <td>30011</td>\n",
       "      <td>30011</td>\n",
       "      <td>30011</td>\n",
       "      <td>30011</td>\n",
       "      <td>30011</td>\n",
       "      <td>30011</td>\n",
       "      <td>30011</td>\n",
       "    </tr>\n",
       "    <tr>\n",
       "      <th>1</th>\n",
       "      <td>mean</td>\n",
       "      <td>0.0</td>\n",
       "      <td>0.0</td>\n",
       "      <td>0.0</td>\n",
       "      <td>587.2844035520309</td>\n",
       "      <td>589.1354272766666</td>\n",
       "      <td>534.8574325080803</td>\n",
       "      <td>299.18471796598607</td>\n",
       "      <td>307.44728524303</td>\n",
       "      <td>276.23416778454106</td>\n",
       "      <td>...</td>\n",
       "      <td>0.8976046327981048</td>\n",
       "      <td>0.8898130680843767</td>\n",
       "      <td>0.8373319720946061</td>\n",
       "      <td>1264.0647762487088</td>\n",
       "      <td>129.43962647029423</td>\n",
       "      <td>135.12710239578823</td>\n",
       "      <td>121.36054813235148</td>\n",
       "      <td>6.562684682283162</td>\n",
       "      <td>696.6643564026524</td>\n",
       "      <td>1.0</td>\n",
       "    </tr>\n",
       "    <tr>\n",
       "      <th>2</th>\n",
       "      <td>stddev</td>\n",
       "      <td>0.0</td>\n",
       "      <td>0.0</td>\n",
       "      <td>0.0</td>\n",
       "      <td>442.72241348144973</td>\n",
       "      <td>462.8978139847736</td>\n",
       "      <td>492.2595861393725</td>\n",
       "      <td>462.20236658883493</td>\n",
       "      <td>483.24478606778746</td>\n",
       "      <td>471.5055178704068</td>\n",
       "      <td>...</td>\n",
       "      <td>0.3031808390001526</td>\n",
       "      <td>0.31313604065620493</td>\n",
       "      <td>0.36907821629148974</td>\n",
       "      <td>975.2631167127284</td>\n",
       "      <td>390.4785906443185</td>\n",
       "      <td>408.02439394814206</td>\n",
       "      <td>389.72603106156555</td>\n",
       "      <td>48.63865757176124</td>\n",
       "      <td>488.7820878731064</td>\n",
       "      <td>0.0</td>\n",
       "    </tr>\n",
       "    <tr>\n",
       "      <th>3</th>\n",
       "      <td>min</td>\n",
       "      <td>0</td>\n",
       "      <td>0</td>\n",
       "      <td>0</td>\n",
       "      <td>-2258.709</td>\n",
       "      <td>-2014.045</td>\n",
       "      <td>-945.808</td>\n",
       "      <td>0.0</td>\n",
       "      <td>0.0</td>\n",
       "      <td>0.0</td>\n",
       "      <td>...</td>\n",
       "      <td>0</td>\n",
       "      <td>0</td>\n",
       "      <td>0</td>\n",
       "      <td>180</td>\n",
       "      <td>0.0</td>\n",
       "      <td>0.0</td>\n",
       "      <td>0.0</td>\n",
       "      <td>0.0</td>\n",
       "      <td>368.5</td>\n",
       "      <td>1</td>\n",
       "    </tr>\n",
       "    <tr>\n",
       "      <th>4</th>\n",
       "      <td>25%</td>\n",
       "      <td>0</td>\n",
       "      <td>0</td>\n",
       "      <td>0</td>\n",
       "      <td>364.1</td>\n",
       "      <td>364.998</td>\n",
       "      <td>289.606</td>\n",
       "      <td>42.96</td>\n",
       "      <td>42.64</td>\n",
       "      <td>32.21</td>\n",
       "      <td>...</td>\n",
       "      <td>1</td>\n",
       "      <td>1</td>\n",
       "      <td>1</td>\n",
       "      <td>480</td>\n",
       "      <td>0.0</td>\n",
       "      <td>0.0</td>\n",
       "      <td>0.0</td>\n",
       "      <td>0.0</td>\n",
       "      <td>450.0</td>\n",
       "      <td>1</td>\n",
       "    </tr>\n",
       "  </tbody>\n",
       "</table>\n",
       "<p>5 rows × 164 columns</p>\n",
       "</div>"
      ],
      "text/plain": [
       "  summary loc_og_t2o_mou std_og_t2o_mou loc_ic_t2o_mou              arpu_6  \\\n",
       "0   count          29897          29897          29897               30011   \n",
       "1    mean            0.0            0.0            0.0   587.2844035520309   \n",
       "2  stddev            0.0            0.0            0.0  442.72241348144973   \n",
       "3     min              0              0              0           -2258.709   \n",
       "4     25%              0              0              0               364.1   \n",
       "\n",
       "              arpu_7             arpu_8         onnet_mou_6  \\\n",
       "0              30011              30011               29695   \n",
       "1  589.1354272766666  534.8574325080803  299.18471796598607   \n",
       "2  462.8978139847736  492.2595861393725  462.20236658883493   \n",
       "3          -2014.045           -945.808                 0.0   \n",
       "4            364.998            289.606               42.96   \n",
       "\n",
       "          onnet_mou_7         onnet_mou_8   ...             fb_user_6  \\\n",
       "0               29708               29073   ...                 11397   \n",
       "1     307.44728524303  276.23416778454106   ...    0.8976046327981048   \n",
       "2  483.24478606778746   471.5055178704068   ...    0.3031808390001526   \n",
       "3                 0.0                 0.0   ...                     0   \n",
       "4               42.64               32.21   ...                     1   \n",
       "\n",
       "             fb_user_7            fb_user_8                 aon  \\\n",
       "0                11662                11754               30011   \n",
       "1   0.8898130680843767   0.8373319720946061  1264.0647762487088   \n",
       "2  0.31313604065620493  0.36907821629148974   975.2631167127284   \n",
       "3                    0                    0                 180   \n",
       "4                    1                    1                 480   \n",
       "\n",
       "           aug_vbc_3g          jul_vbc_3g          jun_vbc_3g  \\\n",
       "0               30011               30011               30011   \n",
       "1  129.43962647029423  135.12710239578823  121.36054813235148   \n",
       "2   390.4785906443185  408.02439394814206  389.72603106156555   \n",
       "3                 0.0                 0.0                 0.0   \n",
       "4                 0.0                 0.0                 0.0   \n",
       "\n",
       "          sep_vbc_3g avg_rech_months_6_7 HNI_Ind  \n",
       "0              30011               30011   30011  \n",
       "1  6.562684682283162   696.6643564026524     1.0  \n",
       "2  48.63865757176124   488.7820878731064     0.0  \n",
       "3                0.0               368.5       1  \n",
       "4                0.0               450.0       1  \n",
       "\n",
       "[5 rows x 164 columns]"
      ]
     },
     "execution_count": 218,
     "metadata": {},
     "output_type": "execute_result"
    }
   ],
   "source": [
    "num_summary.head()"
   ]
  },
  {
   "cell_type": "code",
   "execution_count": 132,
   "metadata": {},
   "outputs": [],
   "source": [
    "num_summary_ = num_summary.set_index('summary')"
   ]
  },
  {
   "cell_type": "code",
   "execution_count": 133,
   "metadata": {},
   "outputs": [
    {
     "data": {
      "text/html": [
       "<div>\n",
       "<style scoped>\n",
       "    .dataframe tbody tr th:only-of-type {\n",
       "        vertical-align: middle;\n",
       "    }\n",
       "\n",
       "    .dataframe tbody tr th {\n",
       "        vertical-align: top;\n",
       "    }\n",
       "\n",
       "    .dataframe thead th {\n",
       "        text-align: right;\n",
       "    }\n",
       "</style>\n",
       "<table border=\"1\" class=\"dataframe\">\n",
       "  <thead>\n",
       "    <tr style=\"text-align: right;\">\n",
       "      <th></th>\n",
       "      <th>loc_og_t2o_mou</th>\n",
       "      <th>std_og_t2o_mou</th>\n",
       "      <th>loc_ic_t2o_mou</th>\n",
       "      <th>arpu_6</th>\n",
       "      <th>arpu_7</th>\n",
       "      <th>arpu_8</th>\n",
       "      <th>onnet_mou_6</th>\n",
       "      <th>onnet_mou_7</th>\n",
       "      <th>onnet_mou_8</th>\n",
       "      <th>offnet_mou_6</th>\n",
       "      <th>...</th>\n",
       "      <th>fb_user_6</th>\n",
       "      <th>fb_user_7</th>\n",
       "      <th>fb_user_8</th>\n",
       "      <th>aon</th>\n",
       "      <th>aug_vbc_3g</th>\n",
       "      <th>jul_vbc_3g</th>\n",
       "      <th>jun_vbc_3g</th>\n",
       "      <th>sep_vbc_3g</th>\n",
       "      <th>avg_rech_months_6_7</th>\n",
       "      <th>HNI_Ind</th>\n",
       "    </tr>\n",
       "    <tr>\n",
       "      <th>summary</th>\n",
       "      <th></th>\n",
       "      <th></th>\n",
       "      <th></th>\n",
       "      <th></th>\n",
       "      <th></th>\n",
       "      <th></th>\n",
       "      <th></th>\n",
       "      <th></th>\n",
       "      <th></th>\n",
       "      <th></th>\n",
       "      <th></th>\n",
       "      <th></th>\n",
       "      <th></th>\n",
       "      <th></th>\n",
       "      <th></th>\n",
       "      <th></th>\n",
       "      <th></th>\n",
       "      <th></th>\n",
       "      <th></th>\n",
       "      <th></th>\n",
       "      <th></th>\n",
       "    </tr>\n",
       "  </thead>\n",
       "  <tbody>\n",
       "    <tr>\n",
       "      <th>count</th>\n",
       "      <td>29897</td>\n",
       "      <td>29897</td>\n",
       "      <td>29897</td>\n",
       "      <td>30011</td>\n",
       "      <td>30011</td>\n",
       "      <td>30011</td>\n",
       "      <td>29695</td>\n",
       "      <td>29708</td>\n",
       "      <td>29073</td>\n",
       "      <td>29695</td>\n",
       "      <td>...</td>\n",
       "      <td>11397</td>\n",
       "      <td>11662</td>\n",
       "      <td>11754</td>\n",
       "      <td>30011</td>\n",
       "      <td>30011</td>\n",
       "      <td>30011</td>\n",
       "      <td>30011</td>\n",
       "      <td>30011</td>\n",
       "      <td>30011</td>\n",
       "      <td>30011</td>\n",
       "    </tr>\n",
       "    <tr>\n",
       "      <th>mean</th>\n",
       "      <td>0.0</td>\n",
       "      <td>0.0</td>\n",
       "      <td>0.0</td>\n",
       "      <td>587.2844035520309</td>\n",
       "      <td>589.1354272766666</td>\n",
       "      <td>534.8574325080803</td>\n",
       "      <td>299.18471796598607</td>\n",
       "      <td>307.44728524303</td>\n",
       "      <td>276.23416778454106</td>\n",
       "      <td>422.380818993093</td>\n",
       "      <td>...</td>\n",
       "      <td>0.8976046327981048</td>\n",
       "      <td>0.8898130680843767</td>\n",
       "      <td>0.8373319720946061</td>\n",
       "      <td>1264.0647762487088</td>\n",
       "      <td>129.43962647029423</td>\n",
       "      <td>135.12710239578823</td>\n",
       "      <td>121.36054813235148</td>\n",
       "      <td>6.562684682283162</td>\n",
       "      <td>696.6643564026524</td>\n",
       "      <td>1.0</td>\n",
       "    </tr>\n",
       "    <tr>\n",
       "      <th>stddev</th>\n",
       "      <td>0.0</td>\n",
       "      <td>0.0</td>\n",
       "      <td>0.0</td>\n",
       "      <td>442.72241348144973</td>\n",
       "      <td>462.8978139847736</td>\n",
       "      <td>492.2595861393725</td>\n",
       "      <td>462.20236658883493</td>\n",
       "      <td>483.24478606778746</td>\n",
       "      <td>471.5055178704068</td>\n",
       "      <td>471.0962935132698</td>\n",
       "      <td>...</td>\n",
       "      <td>0.3031808390001526</td>\n",
       "      <td>0.31313604065620493</td>\n",
       "      <td>0.36907821629148974</td>\n",
       "      <td>975.2631167127284</td>\n",
       "      <td>390.4785906443185</td>\n",
       "      <td>408.02439394814206</td>\n",
       "      <td>389.72603106156555</td>\n",
       "      <td>48.63865757176124</td>\n",
       "      <td>488.7820878731064</td>\n",
       "      <td>0.0</td>\n",
       "    </tr>\n",
       "    <tr>\n",
       "      <th>min</th>\n",
       "      <td>0</td>\n",
       "      <td>0</td>\n",
       "      <td>0</td>\n",
       "      <td>-2258.709</td>\n",
       "      <td>-2014.045</td>\n",
       "      <td>-945.808</td>\n",
       "      <td>0.0</td>\n",
       "      <td>0.0</td>\n",
       "      <td>0.0</td>\n",
       "      <td>0.0</td>\n",
       "      <td>...</td>\n",
       "      <td>0</td>\n",
       "      <td>0</td>\n",
       "      <td>0</td>\n",
       "      <td>180</td>\n",
       "      <td>0.0</td>\n",
       "      <td>0.0</td>\n",
       "      <td>0.0</td>\n",
       "      <td>0.0</td>\n",
       "      <td>368.5</td>\n",
       "      <td>1</td>\n",
       "    </tr>\n",
       "    <tr>\n",
       "      <th>25%</th>\n",
       "      <td>0</td>\n",
       "      <td>0</td>\n",
       "      <td>0</td>\n",
       "      <td>364.1</td>\n",
       "      <td>364.998</td>\n",
       "      <td>289.606</td>\n",
       "      <td>42.96</td>\n",
       "      <td>42.64</td>\n",
       "      <td>32.21</td>\n",
       "      <td>141.41</td>\n",
       "      <td>...</td>\n",
       "      <td>1</td>\n",
       "      <td>1</td>\n",
       "      <td>1</td>\n",
       "      <td>480</td>\n",
       "      <td>0.0</td>\n",
       "      <td>0.0</td>\n",
       "      <td>0.0</td>\n",
       "      <td>0.0</td>\n",
       "      <td>450.0</td>\n",
       "      <td>1</td>\n",
       "    </tr>\n",
       "  </tbody>\n",
       "</table>\n",
       "<p>5 rows × 163 columns</p>\n",
       "</div>"
      ],
      "text/plain": [
       "        loc_og_t2o_mou std_og_t2o_mou loc_ic_t2o_mou              arpu_6  \\\n",
       "summary                                                                    \n",
       "count            29897          29897          29897               30011   \n",
       "mean               0.0            0.0            0.0   587.2844035520309   \n",
       "stddev             0.0            0.0            0.0  442.72241348144973   \n",
       "min                  0              0              0           -2258.709   \n",
       "25%                  0              0              0               364.1   \n",
       "\n",
       "                    arpu_7             arpu_8         onnet_mou_6  \\\n",
       "summary                                                             \n",
       "count                30011              30011               29695   \n",
       "mean     589.1354272766666  534.8574325080803  299.18471796598607   \n",
       "stddev   462.8978139847736  492.2595861393725  462.20236658883493   \n",
       "min              -2014.045           -945.808                 0.0   \n",
       "25%                364.998            289.606               42.96   \n",
       "\n",
       "                onnet_mou_7         onnet_mou_8       offnet_mou_6   ...    \\\n",
       "summary                                                              ...     \n",
       "count                 29708               29073              29695   ...     \n",
       "mean        307.44728524303  276.23416778454106   422.380818993093   ...     \n",
       "stddev   483.24478606778746   471.5055178704068  471.0962935132698   ...     \n",
       "min                     0.0                 0.0                0.0   ...     \n",
       "25%                   42.64               32.21             141.41   ...     \n",
       "\n",
       "                  fb_user_6            fb_user_7            fb_user_8  \\\n",
       "summary                                                                 \n",
       "count                 11397                11662                11754   \n",
       "mean     0.8976046327981048   0.8898130680843767   0.8373319720946061   \n",
       "stddev   0.3031808390001526  0.31313604065620493  0.36907821629148974   \n",
       "min                       0                    0                    0   \n",
       "25%                       1                    1                    1   \n",
       "\n",
       "                        aon          aug_vbc_3g          jul_vbc_3g  \\\n",
       "summary                                                               \n",
       "count                 30011               30011               30011   \n",
       "mean     1264.0647762487088  129.43962647029423  135.12710239578823   \n",
       "stddev    975.2631167127284   390.4785906443185  408.02439394814206   \n",
       "min                     180                 0.0                 0.0   \n",
       "25%                     480                 0.0                 0.0   \n",
       "\n",
       "                 jun_vbc_3g         sep_vbc_3g avg_rech_months_6_7 HNI_Ind  \n",
       "summary                                                                     \n",
       "count                 30011              30011               30011   30011  \n",
       "mean     121.36054813235148  6.562684682283162   696.6643564026524     1.0  \n",
       "stddev   389.72603106156555  48.63865757176124   488.7820878731064     0.0  \n",
       "min                     0.0                0.0               368.5       1  \n",
       "25%                     0.0                0.0               450.0       1  \n",
       "\n",
       "[5 rows x 163 columns]"
      ]
     },
     "execution_count": 133,
     "metadata": {},
     "output_type": "execute_result"
    }
   ],
   "source": [
    "num_summary_.head()"
   ]
  },
  {
   "cell_type": "code",
   "execution_count": 219,
   "metadata": {},
   "outputs": [],
   "source": [
    "mask = (num_summary_.loc['stddev'] != '0.0') | (num_summary_.loc['count'] == '30011')"
   ]
  },
  {
   "cell_type": "code",
   "execution_count": 220,
   "metadata": {},
   "outputs": [
    {
     "data": {
      "text/plain": [
       "154"
      ]
     },
     "execution_count": 220,
     "metadata": {},
     "output_type": "execute_result"
    }
   ],
   "source": [
    "sum(mask)"
   ]
  },
  {
   "cell_type": "code",
   "execution_count": 221,
   "metadata": {},
   "outputs": [],
   "source": [
    "num_cols_sub = list(num_summary_.columns[mask].values)"
   ]
  },
  {
   "cell_type": "code",
   "execution_count": 160,
   "metadata": {},
   "outputs": [],
   "source": [
    "#num_cols_sub"
   ]
  },
  {
   "cell_type": "code",
   "execution_count": 224,
   "metadata": {},
   "outputs": [],
   "source": [
    "def drop_null_columns(df):\n",
    "    \"\"\"\n",
    "    This function drops all columns which contain null values.\n",
    "    :param df: A PySpark DataFrame\n",
    "    \"\"\"\n",
    "    null_counts = df.select([F.count(F.when(F.col(c).isNull(), c)).alias(c) for c in df.columns]).collect()[0].asDict()\n",
    "    to_drop = [k for k, v in null_counts.items() if v > 0]\n",
    "    df = df.drop(*to_drop)\n",
    "    return df\n",
    "\n",
    "# Drops column b2, because it contains null values\n",
    "final_df = drop_null_columns(df_raw_4)"
   ]
  },
  {
   "cell_type": "code",
   "execution_count": 225,
   "metadata": {},
   "outputs": [
    {
     "data": {
      "text/plain": [
       "50"
      ]
     },
     "execution_count": 225,
     "metadata": {},
     "output_type": "execute_result"
    }
   ],
   "source": [
    "len(final_df.columns)"
   ]
  },
  {
   "cell_type": "code",
   "execution_count": 232,
   "metadata": {},
   "outputs": [],
   "source": [
    "#final_df.columns"
   ]
  },
  {
   "cell_type": "markdown",
   "metadata": {},
   "source": [
    "#### 2. Feature Engineering "
   ]
  },
  {
   "cell_type": "code",
   "execution_count": 228,
   "metadata": {},
   "outputs": [],
   "source": [
    "final_df = final_df.withColumn('arpu_6_7', \n",
    "                             (F.col('arpu_6') + F.col('arpu_7')))"
   ]
  },
  {
   "cell_type": "code",
   "execution_count": 233,
   "metadata": {},
   "outputs": [],
   "source": [
    "final_features_1 = [x for x in (final_df.columns ) if ((x not in (id_cols + [target_col])) & \n",
    "                                                     (x in num_cols_sub))]"
   ]
  },
  {
   "cell_type": "code",
   "execution_count": 234,
   "metadata": {},
   "outputs": [
    {
     "data": {
      "text/plain": [
       "46"
      ]
     },
     "execution_count": 234,
     "metadata": {},
     "output_type": "execute_result"
    }
   ],
   "source": [
    "len(final_features)"
   ]
  },
  {
   "cell_type": "markdown",
   "metadata": {},
   "source": [
    "#### Split into training and test set "
   ]
  },
  {
   "cell_type": "code",
   "execution_count": 235,
   "metadata": {},
   "outputs": [],
   "source": [
    "from pyspark.ml.feature import VectorAssembler"
   ]
  },
  {
   "cell_type": "code",
   "execution_count": 169,
   "metadata": {},
   "outputs": [],
   "source": [
    "#final_features_1 = [x for x in final_features if (x not in (id_cols + [target_col]))]"
   ]
  },
  {
   "cell_type": "code",
   "execution_count": 179,
   "metadata": {},
   "outputs": [],
   "source": [
    "#final_features_1"
   ]
  },
  {
   "cell_type": "code",
   "execution_count": 236,
   "metadata": {},
   "outputs": [],
   "source": [
    "assembler = VectorAssembler(inputCols= final_features,outputCol=\"features\")"
   ]
  },
  {
   "cell_type": "code",
   "execution_count": 237,
   "metadata": {},
   "outputs": [],
   "source": [
    "output = assembler.transform(df_raw_4).select('features', 'Churn')"
   ]
  },
  {
   "cell_type": "code",
   "execution_count": 238,
   "metadata": {},
   "outputs": [
    {
     "name": "stdout",
     "output_type": "stream",
     "text": [
      "+--------------------+-----+\n",
      "|            features|Churn|\n",
      "+--------------------+-----+\n",
      "|(46,[0,1,2,3,4,5,...|    1|\n",
      "|[378.721,492.223,...|    0|\n",
      "|(46,[0,1,2,3,4,5,...|    0|\n",
      "|(46,[0,1,2,3,4,5,...|    0|\n",
      "|(46,[0,1,2,3,4,6,...|    0|\n",
      "+--------------------+-----+\n",
      "only showing top 5 rows\n",
      "\n"
     ]
    }
   ],
   "source": [
    "output.show(5)"
   ]
  },
  {
   "cell_type": "code",
   "execution_count": 239,
   "metadata": {},
   "outputs": [],
   "source": [
    "train_data,test_data = output.randomSplit([0.7,0.3])"
   ]
  },
  {
   "cell_type": "markdown",
   "metadata": {},
   "source": [
    "#### 3. Model Training  \n",
    "- Model categories to be considered  \n",
    "- Handling class imbalance \n",
    "- Parameter tuning using Cross Validation , choice of eval metric"
   ]
  },
  {
   "cell_type": "code",
   "execution_count": 240,
   "metadata": {},
   "outputs": [],
   "source": [
    "from pyspark.ml.evaluation import BinaryClassificationEvaluator"
   ]
  },
  {
   "cell_type": "code",
   "execution_count": 243,
   "metadata": {},
   "outputs": [],
   "source": [
    "dtc_eval = BinaryClassificationEvaluator(rawPredictionCol='prediction',\n",
    "                                       labelCol='Churn')\n",
    "reg_eval = BinaryClassificationEvaluator(rawPredictionCol='prediction',\n",
    "                                       labelCol='Churn')"
   ]
  },
  {
   "cell_type": "code",
   "execution_count": 244,
   "metadata": {},
   "outputs": [],
   "source": [
    "\n",
    "log_reg = LogisticRegression(featuresCol='features',labelCol='Churn')\n",
    "\n",
    "paramGrid_reg = ParamGridBuilder()\\\n",
    "    .addGrid(log_reg.regParam, [0.1, 0.01]) \\\n",
    "    .build()\n",
    "\n",
    "crossval_reg = CrossValidator(estimator=log_reg,\n",
    "                          estimatorParamMaps=paramGrid_reg,\n",
    "                          evaluator=reg_eval,\n",
    "                          numFolds=5, parallelism = 2)\n",
    "cvModel_reg = crossval_reg.fit(train_data)"
   ]
  },
  {
   "cell_type": "code",
   "execution_count": 245,
   "metadata": {},
   "outputs": [],
   "source": [
    "dtc = DecisionTreeClassifier(labelCol='Churn',featuresCol='features')"
   ]
  },
  {
   "cell_type": "code",
   "execution_count": 249,
   "metadata": {},
   "outputs": [],
   "source": [
    "#dtc.explainParams()"
   ]
  },
  {
   "cell_type": "code",
   "execution_count": 250,
   "metadata": {},
   "outputs": [],
   "source": [
    "dtc = DecisionTreeClassifier(labelCol='Churn',featuresCol='features')\n",
    "\n",
    "paramGrid_dtc = ParamGridBuilder()\\\n",
    "    .addGrid(dtc.maxDepth, [2,5])\\\n",
    "    .build()\n",
    "\n",
    "crossval_dtc = CrossValidator(estimator=dtc,\n",
    "                          estimatorParamMaps=paramGrid_dtc,\n",
    "                          evaluator=dtc_eval,\n",
    "                          numFolds=5, parallelism = 2)\n",
    "cvModel_dtc = crossval_dtc.fit(train_data)"
   ]
  },
  {
   "cell_type": "markdown",
   "metadata": {},
   "source": [
    "#### 4. Model Evaluation on test\n",
    "- Use a single metric \n",
    "- Visualize where which model is better"
   ]
  },
  {
   "cell_type": "code",
   "execution_count": 251,
   "metadata": {},
   "outputs": [],
   "source": [
    "result_dtc = cvModel_dtc.transform(test_data)\n",
    "result_reg = cvModel_reg.transform(test_data)"
   ]
  },
  {
   "cell_type": "code",
   "execution_count": null,
   "metadata": {},
   "outputs": [],
   "source": [
    "dtc_eval = BinaryClassificationEvaluator(rawPredictionCol='prediction',\n",
    "                                       labelCol='Churn')\n",
    "reg_eval = BinaryClassificationEvaluator(rawPredictionCol='prediction',\n",
    "                                       labelCol='Churn')"
   ]
  },
  {
   "cell_type": "code",
   "execution_count": 253,
   "metadata": {},
   "outputs": [
    {
     "name": "stdout",
     "output_type": "stream",
     "text": [
      "0.5650942276050412 0.7328874979503447\n"
     ]
    }
   ],
   "source": [
    "print(AUC_reg, AUC_dtc)"
   ]
  }
 ],
 "metadata": {
  "kernelspec": {
   "display_name": "Python 3",
   "language": "python",
   "name": "python3"
  },
  "language_info": {
   "codemirror_mode": {
    "name": "ipython",
    "version": 3
   },
   "file_extension": ".py",
   "mimetype": "text/x-python",
   "name": "python",
   "nbconvert_exporter": "python",
   "pygments_lexer": "ipython3",
   "version": "3.6.5"
  }
 },
 "nbformat": 4,
 "nbformat_minor": 2
}
