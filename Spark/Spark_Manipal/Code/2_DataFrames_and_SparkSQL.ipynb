{
 "cells": [
  {
   "cell_type": "markdown",
   "metadata": {},
   "source": [
    "1. RDD vs Dataframes \n",
    "2. Different context available in spark, which to use for what \n",
    "3. SparkSQL \n",
    "  - Hive Metastore\n",
    "4. SparkSQL Interface \n",
    "  - Reading schema less files\n",
    "    - Define schema, instead of letting spark infer\n",
    "  - How is error in schema def. handled  \n",
    "  - Direct data load from RDBMS\n",
    "5. Data frame syntax\n",
    "6. Using SQL through temp tables \n",
    "7. Performance in SparkSQL \n",
    "  - Use of Explain to compare two methods. \n",
    "  - Checking default partitions\n",
    "  - Use of catalyst optimizer\n",
    "  - Broadcasting\n",
    "8. Structured Streaming   "
   ]
  },
  {
   "cell_type": "code",
   "execution_count": null,
   "metadata": {},
   "outputs": [],
   "source": []
  }
 ],
 "metadata": {
  "kernelspec": {
   "display_name": "Python 3",
   "language": "python",
   "name": "python3"
  },
  "language_info": {
   "codemirror_mode": {
    "name": "ipython",
    "version": 3
   },
   "file_extension": ".py",
   "mimetype": "text/x-python",
   "name": "python",
   "nbconvert_exporter": "python",
   "pygments_lexer": "ipython3",
   "version": "3.6.3"
  }
 },
 "nbformat": 4,
 "nbformat_minor": 2
}
