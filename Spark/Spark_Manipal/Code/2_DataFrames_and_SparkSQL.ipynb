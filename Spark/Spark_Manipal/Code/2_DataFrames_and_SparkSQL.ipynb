{
 "cells": [
  {
   "cell_type": "markdown",
   "metadata": {},
   "source": [
    "1. RDD vs Dataframes \n",
    "2. Different context available in spark, which to use for what \n",
    "3. SparkSQL \n",
    "  - Hive Metastore\n",
    "4. SparkSQL Interface \n",
    "  - Reading schema less files\n",
    "    - Define schema, instead of letting spark infer\n",
    "  - How is error in schema def. handled  \n",
    "  - Direct data load from RDBMS\n",
    "5. Data frame syntax\n",
    "6. Using SQL through temp tables \n",
    "7. Performance in SparkSQL : How to manage  \n",
    "  - Requesting resources is itrative, start by estimating operations and data size, where will you persist etc \n",
    "  - Then essentially through memory management and monitoring shuffle or repartioning operations that cause n/w  \n",
    "    trasnsfer\n",
    "  - Use of Explain to compare two competing methods. , and see DAG\n",
    "  - Checking default partitions, can become a bottle neck or sometimes create small files \n",
    "  - Use of catalyst optimizer\n",
    "  - Broadcasting when joining \n",
    "8. Structured Streaming   "
   ]
  },
  {
   "cell_type": "code",
   "execution_count": null,
   "metadata": {},
   "outputs": [],
   "source": []
  }
 ],
 "metadata": {
  "kernelspec": {
   "display_name": "Python 3",
   "language": "python",
   "name": "python3"
  },
  "language_info": {
   "codemirror_mode": {
    "name": "ipython",
    "version": 3
   },
   "file_extension": ".py",
   "mimetype": "text/x-python",
   "name": "python",
   "nbconvert_exporter": "python",
   "pygments_lexer": "ipython3",
   "version": "3.6.7"
  }
 },
 "nbformat": 4,
 "nbformat_minor": 2
}
